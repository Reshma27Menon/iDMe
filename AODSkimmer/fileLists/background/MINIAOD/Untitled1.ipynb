{
 "cells": [
  {
   "cell_type": "code",
   "execution_count": 2,
   "id": "3d6c408c-42cc-45f2-a5bf-7ebfa2f3d449",
   "metadata": {},
   "outputs": [],
   "source": [
    "import json\n",
    "\n",
    "# Define the data to be saved\n",
    "data = {\n",
    "    \"name\": \"John Doe\",\n",
    "    \"age\": 30,\n",
    "    \"city\": \"New York\",\n",
    "    \"email\": \"john.doe@example.com\"\n",
    "}"
   ]
  },
  {
   "cell_type": "code",
   "execution_count": null,
   "id": "c15529fc-923d-43b3-a09d-aa0bea0e9339",
   "metadata": {},
   "outputs": [
    {
     "name": "stdout",
     "output_type": "stream",
     "text": [
      "{'name': 'John Doe', 'age': 30, 'city': 'New York', 'email': 'john.doe@example.com'}\n"
     ]
    }
   ],
   "source": [
    "# Define the filename\n",
    "filename = 'data.json'\n",
    "\n",
    "# Write the data to the JSON file\n",
    "with open(filename, 'w') as file:\n",
    "    json.dump(data, file, indent=4)\n",
    "\n",
    "# Verify by reading the file\n",
    "with open(filename, 'r') as file:\n",
    "    loaded_data = json.load(file)\n",
    "    print(loaded_data)"
   ]
  },
  {
   "cell_type": "code",
   "execution_count": null,
   "id": "d6b48728-b73f-450e-9419-08f88f355ded",
   "metadata": {},
   "outputs": [],
   "source": []
  }
 ],
 "metadata": {
  "kernelspec": {
   "display_name": "Python [conda env:coffea]",
   "language": "python",
   "name": "conda-env-coffea-py"
  },
  "language_info": {
   "codemirror_mode": {
    "name": "ipython",
    "version": 3
   },
   "file_extension": ".py",
   "mimetype": "text/x-python",
   "name": "python",
   "nbconvert_exporter": "python",
   "pygments_lexer": "ipython3",
   "version": "3.8.17"
  }
 },
 "nbformat": 4,
 "nbformat_minor": 5
}
