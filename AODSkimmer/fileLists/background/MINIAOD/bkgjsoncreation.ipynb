{
 "cells": [
  {
   "cell_type": "code",
   "execution_count": 1,
   "id": "7f8ce8a7-2d6f-4309-a122-50d184614993",
   "metadata": {},
   "outputs": [],
   "source": [
    "import json"
   ]
  },
  {
   "cell_type": "code",
   "execution_count": 2,
   "id": "363168ec-3793-4edd-a15b-a61d14b9bc9d",
   "metadata": {},
   "outputs": [],
   "source": [
    "#Define the bkg samples\n",
    "data= {\"WJets\":{\"WJetsToLNu1\" : \"/WtoLNu-4Jets_TuneCP5_13p6TeV_madgraphMLM-pythia8/Run3Summer22MiniAODv4-130X_mcRun3_2022_realistic_v5-v2/MINIAODSIM\",\n",
    "               }}"
   ]
  },
  {
   "cell_type": "code",
   "execution_count": 3,
   "id": "3a993167-4800-43bb-b0c5-8acc0b1c5999",
   "metadata": {},
   "outputs": [],
   "source": [
    "#Specify the filename \n",
    "\n",
    "filename = 'bkg_2022.json'"
   ]
  },
  {
   "cell_type": "code",
   "execution_count": 4,
   "id": "6b4bba72-da69-4731-b96b-141e3e3508d8",
   "metadata": {},
   "outputs": [],
   "source": [
    "# Write the data to a JSON file\n",
    "\n",
    "with open(filename, 'w') as file:\n",
    "    json.dump(data,file,indent=4)"
   ]
  },
  {
   "cell_type": "code",
   "execution_count": 5,
   "id": "4fe281a6-667c-45f0-b928-ea60d190e4d8",
   "metadata": {},
   "outputs": [
    {
     "name": "stdout",
     "output_type": "stream",
     "text": [
      "{'WJets': {'WJetsToLNu1': '/WtoLNu-4Jets_TuneCP5_13p6TeV_madgraphMLM-pythia8/Run3Summer22MiniAODv4-130X_mcRun3_2022_realistic_v5-v2/MINIAODSIM'}}\n"
     ]
    }
   ],
   "source": [
    "# Read and print the JSON file to verify\n",
    "\n",
    "with open(filename, 'r') as file:\n",
    "    loaded_data = json.load(file)\n",
    "    print(loaded_data)\n"
   ]
  },
  {
   "cell_type": "code",
   "execution_count": null,
   "id": "b0c90846-7a78-4f34-9e1a-b07c8fc1116a",
   "metadata": {},
   "outputs": [],
   "source": []
  }
 ],
 "metadata": {
  "kernelspec": {
   "display_name": "Python [conda env:coffea]",
   "language": "python",
   "name": "conda-env-coffea-py"
  },
  "language_info": {
   "codemirror_mode": {
    "name": "ipython",
    "version": 3
   },
   "file_extension": ".py",
   "mimetype": "text/x-python",
   "name": "python",
   "nbconvert_exporter": "python",
   "pygments_lexer": "ipython3",
   "version": "3.8.17"
  }
 },
 "nbformat": 4,
 "nbformat_minor": 5
}
