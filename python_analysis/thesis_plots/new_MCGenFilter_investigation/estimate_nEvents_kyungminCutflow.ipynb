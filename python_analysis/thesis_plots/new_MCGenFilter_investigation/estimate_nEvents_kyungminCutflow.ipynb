{
 "cells": [
  {
   "cell_type": "code",
   "execution_count": 7,
   "id": "12817d56-8d4a-4c47-9845-47bd9ebee0a2",
   "metadata": {},
   "outputs": [],
   "source": [
    "import numpy as np\n",
    "import pandas as pd\n",
    "import json"
   ]
  },
  {
   "cell_type": "code",
   "execution_count": 8,
   "id": "94492bfa-2471-4e70-9729-de3d7dc9add4",
   "metadata": {},
   "outputs": [],
   "source": [
    "base = \"kyungmin_cutflows_15Oct24/\""
   ]
  },
  {
   "cell_type": "code",
   "execution_count": 32,
   "id": "6d67aecd-18ca-4cdc-8132-ee2daf8135be",
   "metadata": {},
   "outputs": [],
   "source": [
    "df1 = pd.read_csv(base+\"SR_Signal_ctau-1_samples_Raw.csv\")\n",
    "df2 = pd.read_csv(base+\"SR_Signal_ctau-10_samples_Raw.csv\")\n",
    "df3 = pd.read_csv(base+\"SR_Signal_ctau-100_samples_Raw.csv\")\n",
    "\n",
    "df1['name'] = df1['Unnamed: 0']\n",
    "df2['name'] = df2['Unnamed: 0']\n",
    "df3['name'] = df3['Unnamed: 0']\n",
    "\n",
    "df = pd.concat([df1,df2,df3])"
   ]
  },
  {
   "cell_type": "code",
   "execution_count": 53,
   "id": "2e32ce64-ad2d-4bb4-af2d-dc91be587a69",
   "metadata": {},
   "outputs": [],
   "source": [
    "with open(\"/uscms_data/d3/sbrightt/iDM/iDMe_analysis/CMSSW_10_6_26/src/iDMe/python_analysis/configs/sample_configs/signal/signal_2018_v12_miniAOD_aEM.json\",\"r\") as fin:\n",
    "    ref = json.load(fin)"
   ]
  },
  {
   "cell_type": "code",
   "execution_count": 57,
   "id": "8333f57f-c239-4144-b17b-bb3d8f154123",
   "metadata": {},
   "outputs": [],
   "source": [
    "nevts = {r['name'].replace(\".\",\"p\").replace(\"ct-\",\"ctau-\").replace(\"sig_\",\"sig_2018_\"):r['num_events'] for r in ref}\n",
    "oldNames = {r['name'].replace(\".\",\"p\").replace(\"ct-\",\"ctau-\").replace(\"sig_\",\"sig_2018_\"):r['name'] for r in ref}"
   ]
  },
  {
   "cell_type": "code",
   "execution_count": 82,
   "id": "123cb283-456f-46df-b113-d5d6e0658583",
   "metadata": {},
   "outputs": [
    {
     "name": "stdout",
     "output_type": "stream",
     "text": [
      "sig_2018_Mchi-105p0_dMchi-10p0_ctau-1: 1342/78615 (1.7071%), need 58580 --> 60000\n",
      "sig_2018_Mchi-105p0_dMchi-10p0_ctau-10: 10702/631085 (1.6958%), need 58968 --> 60000\n",
      "sig_2018_Mchi-105p0_dMchi-10p0_ctau-100: 4444/778905 (0.5705%), need 175271 --> 180000\n",
      "sig_2018_Mchi-10p5_dMchi-1p0_ctau-1: 1491/513160 (0.2906%), need 344171 --> 340000\n",
      "sig_2018_Mchi-10p5_dMchi-1p0_ctau-10: 948/643295 (0.1474%), need 678581 --> 680000\n",
      "sig_2018_Mchi-10p5_dMchi-1p0_ctau-100: 367/1437170 (0.0255%), need 3915994 --> 3920000\n",
      "sig_2018_Mchi-110p0_dMchi-20p0_ctau-1: 4533/257674 (1.7592%), need 56844 --> 60000\n",
      "sig_2018_Mchi-110p0_dMchi-20p0_ctau-10: 5284/267815 (1.9730%), need 50684 --> 50000\n",
      "sig_2018_Mchi-110p0_dMchi-20p0_ctau-100: 1810/258432 (0.7004%), need 142780 --> 140000\n",
      "sig_2018_Mchi-11p0_dMchi-2p0_ctau-1: 1799/443760 (0.4054%), need 246670 --> 250000\n",
      "sig_2018_Mchi-11p0_dMchi-2p0_ctau-10: 1212/559380 (0.2167%), need 461534 --> 460000\n",
      "sig_2018_Mchi-11p0_dMchi-2p0_ctau-100: 279/732332 (0.0381%), need 2624845 --> 2620000\n",
      "sig_2018_Mchi-21p0_dMchi-2p0_ctau-1: 1752/402997 (0.4347%), need 230021 --> 230000\n",
      "sig_2018_Mchi-21p0_dMchi-2p0_ctau-10: 1158/400009 (0.2895%), need 345430 --> 350000\n",
      "sig_2018_Mchi-21p0_dMchi-2p0_ctau-100: 478/769569 (0.0621%), need 1609976 --> 1610000\n",
      "sig_2018_Mchi-22p0_dMchi-4p0_ctau-1: 2428/419498 (0.5788%), need 172775 --> 170000\n",
      "sig_2018_Mchi-22p0_dMchi-4p0_ctau-10: 1960/522806 (0.3749%), need 266737 --> 270000\n",
      "sig_2018_Mchi-22p0_dMchi-4p0_ctau-100: 512/603880 (0.0848%), need 1179453 --> 1180000\n",
      "sig_2018_Mchi-31p5_dMchi-3p0_ctau-1: 2412/428148 (0.5634%), need 177507 --> 180000\n",
      "sig_2018_Mchi-31p5_dMchi-3p0_ctau-10: 2097/515420 (0.4069%), need 245789 --> 250000\n",
      "sig_2018_Mchi-31p5_dMchi-3p0_ctau-100: 1081/1101378 (0.0981%), need 1018851 --> 1020000\n",
      "sig_2018_Mchi-33p0_dMchi-6p0_ctau-1: 3062/401252 (0.7631%), need 131042 --> 130000\n",
      "sig_2018_Mchi-33p0_dMchi-6p0_ctau-10: 2131/401963 (0.5301%), need 188626 --> 190000\n",
      "sig_2018_Mchi-33p0_dMchi-6p0_ctau-100: 506/389869 (0.1298%), need 770492 --> 770000\n",
      "sig_2018_Mchi-42p0_dMchi-4p0_ctau-1: 2993/387173 (0.7730%), need 129359 --> 130000\n",
      "sig_2018_Mchi-42p0_dMchi-4p0_ctau-10: 2578/446411 (0.5775%), need 173161 --> 170000\n",
      "sig_2018_Mchi-42p0_dMchi-4p0_ctau-100: 1310/918592 (0.1426%), need 701215 --> 700000\n",
      "sig_2018_Mchi-44p0_dMchi-8p0_ctau-1: 3027/304001 (0.9957%), need 100429 --> 100000\n",
      "sig_2018_Mchi-44p0_dMchi-8p0_ctau-10: 2663/366975 (0.7257%), need 137805 --> 140000\n",
      "sig_2018_Mchi-44p0_dMchi-8p0_ctau-100: 1114/589401 (0.1890%), need 529085 --> 530000\n",
      "sig_2018_Mchi-52p5_dMchi-5p0_ctau-1: 3343/363908 (0.9186%), need 108856 --> 110000\n",
      "sig_2018_Mchi-52p5_dMchi-5p0_ctau-10: 3041/415843 (0.7313%), need 136745 --> 140000\n",
      "sig_2018_Mchi-52p5_dMchi-5p0_ctau-100: 1427/689487 (0.2070%), need 483172 --> 480000\n",
      "sig_2018_Mchi-55p0_dMchi-10p0_ctau-1: 292/22500 (1.2978%), need 77054 --> 80000\n",
      "sig_2018_Mchi-55p0_dMchi-10p0_ctau-10: 1067/115956 (0.9202%), need 108674 --> 110000\n",
      "sig_2018_Mchi-55p0_dMchi-10p0_ctau-100: 815/311639 (0.2615%), need 382379 --> 380000\n",
      "sig_2018_Mchi-5p25_dMchi-0p5_ctau-1: 358/240690 (0.1487%), need 672318 --> 670000\n",
      "sig_2018_Mchi-5p25_dMchi-0p5_ctau-10: 244/441723 (0.0552%), need 1810340 --> 1810000\n",
      "sig_2018_Mchi-5p25_dMchi-0p5_ctau-100: 116/1464941 (0.0079%), need 12628801 --> 12630000\n",
      "sig_2018_Mchi-5p5_dMchi-1p0_ctau-1: 785/294222 (0.2668%), need 374805 --> 370000\n",
      "sig_2018_Mchi-5p5_dMchi-1p0_ctau-10: 342/289888 (0.1180%), need 847625 --> 850000\n",
      "sig_2018_Mchi-5p5_dMchi-1p0_ctau-100: 48/293617 (0.0163%), need 6117020 --> 6120000\n",
      "sig_2018_Mchi-63p0_dMchi-6p0_ctau-1: 3290/305820 (1.0758%), need 92954 --> 90000\n",
      "sig_2018_Mchi-63p0_dMchi-6p0_ctau-10: 2458/269409 (0.9124%), need 109604 --> 110000\n",
      "sig_2018_Mchi-63p0_dMchi-6p0_ctau-100: 837/312674 (0.2677%), need 373565 --> 370000\n",
      "sig_2018_Mchi-73p5_dMchi-7p0_ctau-1: 3891/304395 (1.2783%), need 78230 --> 80000\n",
      "sig_2018_Mchi-73p5_dMchi-7p0_ctau-10: 3332/297097 (1.1215%), need 89164 --> 90000\n",
      "sig_2018_Mchi-73p5_dMchi-7p0_ctau-100: 1007/306564 (0.3285%), need 304432 --> 300000\n",
      "sig_2018_Mchi-77p0_dMchi-14p0_ctau-1: 4213/285650 (1.4749%), need 67802 --> 70000\n",
      "sig_2018_Mchi-77p0_dMchi-14p0_ctau-10: 3156/234947 (1.3433%), need 74444 --> 70000\n",
      "sig_2018_Mchi-77p0_dMchi-14p0_ctau-100: 1158/284183 (0.4075%), need 245408 --> 250000\n",
      "sig_2018_Mchi-84p0_dMchi-8p0_ctau-1: 4177/298547 (1.3991%), need 71474 --> 70000\n",
      "sig_2018_Mchi-84p0_dMchi-8p0_ctau-10: 3865/295504 (1.3079%), need 76456 --> 80000\n",
      "sig_2018_Mchi-84p0_dMchi-8p0_ctau-100: 1228/298436 (0.4115%), need 243026 --> 240000\n",
      "sig_2018_Mchi-88p0_dMchi-16p0_ctau-10: 2222/144738 (1.5352%), need 65138 --> 70000\n",
      "sig_2018_Mchi-88p0_dMchi-16p0_ctau-100: 1479/277978 (0.5321%), need 187949 --> 190000\n",
      "sig_2018_Mchi-94p5_dMchi-9p0_ctau-1: 12148/749623 (1.6205%), need 61707 --> 60000\n",
      "sig_2018_Mchi-94p5_dMchi-9p0_ctau-10: 12717/841003 (1.5121%), need 66132 --> 70000\n",
      "sig_2018_Mchi-94p5_dMchi-9p0_ctau-100: 3634/737991 (0.4924%), need 203079 --> 200000\n",
      "sig_2018_Mchi-99p0_dMchi-18p0_ctau-1: 8345/493206 (1.6920%), need 59101 --> 60000\n",
      "sig_2018_Mchi-99p0_dMchi-18p0_ctau-10: 9113/512836 (1.7770%), need 56275 --> 60000\n",
      "sig_2018_Mchi-99p0_dMchi-18p0_ctau-100: 3212/542086 (0.5925%), need 168768 --> 170000\n"
     ]
    }
   ],
   "source": [
    "nevts_needed = {}\n",
    "for name,tot in nevts.items():\n",
    "    remain = df[df.name==name].BDT.to_numpy()[0]\n",
    "    ntarg = 1000\n",
    "    eff = remain/tot\n",
    "    needed = int(ntarg/eff)\n",
    "    nevts_needed[name] = np.round(needed,-4)\n",
    "    \n",
    "    print(f\"{name}: {remain}/{tot} ({100*remain/tot:.4f}%), need {needed} --> {np.round(needed,-4)}\")\n",
    "    mchi = float(name.split(\"_\")[2].split(\"-\")[1].replace(\"p\",\".\"))\n",
    "    dmchi = float(name.split(\"_\")[3].split(\"-\")[1].replace(\"p\",\".\"))\n",
    "    ct = mchi = int(name.split(\"_\")[4].split(\"-\")[1])"
   ]
  },
  {
   "cell_type": "code",
   "execution_count": 83,
   "id": "2b088364-f32c-42e2-a925-e57f6b553e31",
   "metadata": {},
   "outputs": [],
   "source": [
    "with open(\"request.csv\",\"r\") as fin:\n",
    "    request = fin.read().splitlines()\n"
   ]
  },
  {
   "cell_type": "code",
   "execution_count": 96,
   "id": "ff862e7f-bfaa-41e3-bf11-afbc71817a2b",
   "metadata": {},
   "outputs": [
    {
     "name": "stdout",
     "output_type": "stream",
     "text": [
      "Mchi-66p0_dMchi-12p0_ctau-1 NO MATCH\n",
      "Mchi-66p0_dMchi-12p0_ctau-10 NO MATCH\n",
      "Mchi-66p0_dMchi-12p0_ctau-100 NO MATCH\n",
      "Mchi-88p0_dMchi-16p0_ctau-1 NO MATCH\n"
     ]
    }
   ],
   "source": [
    "top = request[0]\n",
    "outlines = []\n",
    "for line in request[1:]:\n",
    "    info = \"_\".join(line.split(\",\")[0].split(\"_\")[2:5])\n",
    "    match = False\n",
    "    for k in nevts_needed.keys():\n",
    "        b = \"_\".join(k.split(\"_\")[2:])\n",
    "        if b == info:\n",
    "            match = True\n",
    "            n = nevts_needed[k]\n",
    "            if n > 2_000_000:\n",
    "                n = 2_000_000\n",
    "            break\n",
    "    if match:\n",
    "        outlines.append(line.replace(\"50000\",str(n)))\n",
    "    else:\n",
    "        print(info,'NO MATCH')\n",
    "        outlines.append(line.replace(\"50000\",\"XXXXX\"))"
   ]
  },
  {
   "cell_type": "code",
   "execution_count": 98,
   "id": "d5366431-9954-431a-b2a9-40612dcab8e9",
   "metadata": {},
   "outputs": [],
   "source": [
    "with open(\"request2.csv\",\"w\") as fout:\n",
    "    fout.write(\"\\n\".join([top]+outlines))"
   ]
  },
  {
   "cell_type": "code",
   "execution_count": 89,
   "id": "b1076d3a-7aea-4fa4-bde3-004466f914d7",
   "metadata": {},
   "outputs": [
    {
     "data": {
      "text/plain": [
       "'iDM_DarkPhotonToEE_Mchi-5p25_dMchi-0p5_ctau-1_mA-15p0_TuneCP5_13TeV_madgraph-pythia8,genFragments/Hadronizer/13TeV/iDM/iDMe_pythiaGenFragment_ctau-1.py,50000,madgraph,/afs/cern.ch/user/s/sabright/public/iDMe/gridpacks/iDMe_Mchi-5p25_dMchi-0p5_mZDinput-15p0_ctau-0_1jet_icckw1_drjj0_xptj80_xqcut20_slc7_amd64_gcc820_CMSSW_10_6_28_tarball.tar.xz'"
      ]
     },
     "execution_count": 89,
     "metadata": {},
     "output_type": "execute_result"
    }
   ],
   "source": [
    "request[1]"
   ]
  },
  {
   "cell_type": "code",
   "execution_count": null,
   "id": "cafdf089-1109-42e1-bea7-e5884e683306",
   "metadata": {},
   "outputs": [],
   "source": [
    "m = [50,60,70]\n",
    "nev = [80000,None,70000]"
   ]
  },
  {
   "cell_type": "code",
   "execution_count": 102,
   "id": "e2bc9399-946d-40b7-a44a-f1cb8beb1c6d",
   "metadata": {},
   "outputs": [
    {
     "data": {
      "text/plain": [
       "65000.0"
      ]
     },
     "execution_count": 102,
     "metadata": {},
     "output_type": "execute_result"
    }
   ],
   "source": [
    "np.interp(80,[70,90],[70000,60000])"
   ]
  },
  {
   "cell_type": "code",
   "execution_count": null,
   "id": "960837f1-9070-46da-806f-283f7e23ccf1",
   "metadata": {},
   "outputs": [],
   "source": []
  }
 ],
 "metadata": {
  "kernelspec": {
   "display_name": "Python [conda env:.conda-eflow]",
   "language": "python",
   "name": "conda-env-.conda-eflow-py"
  },
  "language_info": {
   "codemirror_mode": {
    "name": "ipython",
    "version": 3
   },
   "file_extension": ".py",
   "mimetype": "text/x-python",
   "name": "python",
   "nbconvert_exporter": "python",
   "pygments_lexer": "ipython3",
   "version": "3.9.15"
  }
 },
 "nbformat": 4,
 "nbformat_minor": 5
}
