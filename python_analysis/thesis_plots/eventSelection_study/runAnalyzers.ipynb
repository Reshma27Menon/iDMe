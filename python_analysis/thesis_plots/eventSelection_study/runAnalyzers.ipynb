{
 "cells": [
  {
   "cell_type": "code",
   "execution_count": 1,
   "id": "ff0d6e4a-afac-4f2c-bfb6-256cb15351fe",
   "metadata": {
    "editable": true,
    "slideshow": {
     "slide_type": ""
    },
    "tags": []
   },
   "outputs": [],
   "source": [
    "%load_ext autoreload\n",
    "%autoreload 2\n",
    "import numpy as np\n",
    "import matplotlib.pyplot as plt\n",
    "import sys\n",
    "sys.path.append(\"../../analysisTools/\")\n",
    "from analysisTools import Analyzer\n",
    "from analysisTools import loadSchema\n",
    "import analysisSubroutines as routines\n",
    "import coffea.util as util\n",
    "import time\n",
    "import json\n",
    "import os\n",
    "import awkward as ak\n",
    "from coffea.processor import accumulate"
   ]
  },
  {
   "cell_type": "markdown",
   "id": "b1bcf7bb-9887-463a-90d8-764745ef98ec",
   "metadata": {
    "tags": []
   },
   "source": [
    "# skimmed signal"
   ]
  },
  {
   "cell_type": "code",
   "execution_count": 2,
   "id": "d43db7bb-9a4b-4b0c-bf70-ac57fb789aed",
   "metadata": {
    "tags": []
   },
   "outputs": [],
   "source": [
    "cut_file = \"cut_configs/cuts.py\"\n",
    "hist_file = \"histo_configs/histos.py\"\n",
    "samp_file = \"../../configs/sample_configs/skimmed_signal/skimmed_signal_v9_miniAOD_2018_aEM.json\""
   ]
  },
  {
   "cell_type": "code",
   "execution_count": 3,
   "id": "d467908b-c38d-41ba-95ce-a715f3932b6a",
   "metadata": {
    "tags": []
   },
   "outputs": [
    {
     "data": {
      "application/vnd.jupyter.widget-view+json": {
       "model_id": "0253cf97b79e4f6ba2fc67cf5a710dad",
       "version_major": 2,
       "version_minor": 0
      },
      "text/plain": [
       "Output()"
      ]
     },
     "metadata": {},
     "output_type": "display_data"
    },
    {
     "data": {
      "text/html": [
       "<pre style=\"white-space:pre;overflow-x:auto;line-height:normal;font-family:Menlo,'DejaVu Sans Mono',consolas,'Courier New',monospace\"></pre>\n"
      ],
      "text/plain": []
     },
     "metadata": {},
     "output_type": "display_data"
    },
    {
     "data": {
      "text/html": [
       "<pre style=\"white-space:pre;overflow-x:auto;line-height:normal;font-family:Menlo,'DejaVu Sans Mono',consolas,'Courier New',monospace\">\n",
       "</pre>\n"
      ],
      "text/plain": [
       "\n"
      ]
     },
     "metadata": {},
     "output_type": "display_data"
    },
    {
     "data": {
      "application/vnd.jupyter.widget-view+json": {
       "model_id": "05ec4383ad264825b38c234e5a728958",
       "version_major": 2,
       "version_minor": 0
      },
      "text/plain": [
       "Output()"
      ]
     },
     "metadata": {},
     "output_type": "display_data"
    },
    {
     "data": {
      "text/html": [
       "<pre style=\"white-space:pre;overflow-x:auto;line-height:normal;font-family:Menlo,'DejaVu Sans Mono',consolas,'Courier New',monospace\"></pre>\n"
      ],
      "text/plain": []
     },
     "metadata": {},
     "output_type": "display_data"
    },
    {
     "data": {
      "text/html": [
       "<pre style=\"white-space:pre;overflow-x:auto;line-height:normal;font-family:Menlo,'DejaVu Sans Mono',consolas,'Courier New',monospace\">\n",
       "</pre>\n"
      ],
      "text/plain": [
       "\n"
      ]
     },
     "metadata": {},
     "output_type": "display_data"
    }
   ],
   "source": [
    "hname = hist_file.split(\"/\")[-1].split(\".\")[0]\n",
    "cutname = cut_file.split(\"/\")[-1].split(\".\")[0]\n",
    "test = Analyzer(samp_file,hist_file,cut_file)\n",
    "out = test.process(execr='futures',workers=80)\n",
    "util.save(out,f\"skimmed_signal_{hname}_{cutname}.coffea\")\n",
    "del test, out"
   ]
  },
  {
   "cell_type": "code",
   "execution_count": 2,
   "id": "90e353bb-fae0-43f9-a2e1-29f408ef6946",
   "metadata": {
    "tags": []
   },
   "outputs": [],
   "source": [
    "cut_file = \"cut_configs/cuts.py\"\n",
    "hist_file = \"histo_configs/histos.py\"\n",
    "samp_file = \"../../configs/sample_configs/skimmed_signal_MET170/skimmed_signal_v9_miniAOD_2018_aEM_MET170.json\""
   ]
  },
  {
   "cell_type": "code",
   "execution_count": 3,
   "id": "027456b7-24c1-4a32-8b4b-43b2de288013",
   "metadata": {
    "tags": []
   },
   "outputs": [
    {
     "data": {
      "application/vnd.jupyter.widget-view+json": {
       "model_id": "8d62b69d64c34a1cb91afca0859a0d68",
       "version_major": 2,
       "version_minor": 0
      },
      "text/plain": [
       "Output()"
      ]
     },
     "metadata": {},
     "output_type": "display_data"
    },
    {
     "data": {
      "text/html": [
       "<pre style=\"white-space:pre;overflow-x:auto;line-height:normal;font-family:Menlo,'DejaVu Sans Mono',consolas,'Courier New',monospace\"></pre>\n"
      ],
      "text/plain": []
     },
     "metadata": {},
     "output_type": "display_data"
    },
    {
     "data": {
      "text/html": [
       "<pre style=\"white-space:pre;overflow-x:auto;line-height:normal;font-family:Menlo,'DejaVu Sans Mono',consolas,'Courier New',monospace\">\n",
       "</pre>\n"
      ],
      "text/plain": [
       "\n"
      ]
     },
     "metadata": {},
     "output_type": "display_data"
    },
    {
     "data": {
      "application/vnd.jupyter.widget-view+json": {
       "model_id": "3d1b18bd10a04a00aef40506d9a03c53",
       "version_major": 2,
       "version_minor": 0
      },
      "text/plain": [
       "Output()"
      ]
     },
     "metadata": {},
     "output_type": "display_data"
    },
    {
     "data": {
      "text/html": [
       "<pre style=\"white-space:pre;overflow-x:auto;line-height:normal;font-family:Menlo,'DejaVu Sans Mono',consolas,'Courier New',monospace\"></pre>\n"
      ],
      "text/plain": []
     },
     "metadata": {},
     "output_type": "display_data"
    },
    {
     "data": {
      "text/html": [
       "<pre style=\"white-space:pre;overflow-x:auto;line-height:normal;font-family:Menlo,'DejaVu Sans Mono',consolas,'Courier New',monospace\">\n",
       "</pre>\n"
      ],
      "text/plain": [
       "\n"
      ]
     },
     "metadata": {},
     "output_type": "display_data"
    }
   ],
   "source": [
    "hname = hist_file.split(\"/\")[-1].split(\".\")[0]\n",
    "cutname = cut_file.split(\"/\")[-1].split(\".\")[0]\n",
    "test = Analyzer(samp_file,hist_file,cut_file)\n",
    "out = test.process(execr='futures',workers=80)\n",
    "util.save(out,f\"skimmed_signal_MET170_{hname}_{cutname}.coffea\")\n",
    "del test, out"
   ]
  },
  {
   "cell_type": "markdown",
   "id": "2ba1a2a2-9515-445f-8696-741b4e772a95",
   "metadata": {},
   "source": [
    "# skimmed bkg"
   ]
  },
  {
   "cell_type": "code",
   "execution_count": 4,
   "id": "550686c7-8f85-40de-b471-b56128b6063a",
   "metadata": {},
   "outputs": [],
   "source": [
    "cut_file = \"cut_configs/cuts.py\"\n",
    "hist_file = \"histo_configs/histos.py\"\n",
    "samp_file = \"../../configs/sample_configs/skimmed_bkg/skimmed_bkg_2018_v7_miniAOD.json\""
   ]
  },
  {
   "cell_type": "code",
   "execution_count": 5,
   "id": "02a21af1-a121-414e-b0f5-b36b826ebcd2",
   "metadata": {},
   "outputs": [
    {
     "data": {
      "application/vnd.jupyter.widget-view+json": {
       "model_id": "528b19f13a0748b5a03acbfb6cbe2b74",
       "version_major": 2,
       "version_minor": 0
      },
      "text/plain": [
       "Output()"
      ]
     },
     "metadata": {},
     "output_type": "display_data"
    },
    {
     "data": {
      "text/html": [
       "<pre style=\"white-space:pre;overflow-x:auto;line-height:normal;font-family:Menlo,'DejaVu Sans Mono',consolas,'Courier New',monospace\"></pre>\n"
      ],
      "text/plain": []
     },
     "metadata": {},
     "output_type": "display_data"
    },
    {
     "data": {
      "text/html": [
       "<pre style=\"white-space:pre;overflow-x:auto;line-height:normal;font-family:Menlo,'DejaVu Sans Mono',consolas,'Courier New',monospace\">\n",
       "</pre>\n"
      ],
      "text/plain": [
       "\n"
      ]
     },
     "metadata": {},
     "output_type": "display_data"
    },
    {
     "data": {
      "application/vnd.jupyter.widget-view+json": {
       "model_id": "80c1e92edf164493a35addaf6ca2078f",
       "version_major": 2,
       "version_minor": 0
      },
      "text/plain": [
       "Output()"
      ]
     },
     "metadata": {},
     "output_type": "display_data"
    },
    {
     "data": {
      "text/html": [
       "<pre style=\"white-space:pre;overflow-x:auto;line-height:normal;font-family:Menlo,'DejaVu Sans Mono',consolas,'Courier New',monospace\"></pre>\n"
      ],
      "text/plain": []
     },
     "metadata": {},
     "output_type": "display_data"
    },
    {
     "data": {
      "text/html": [
       "<pre style=\"white-space:pre;overflow-x:auto;line-height:normal;font-family:Menlo,'DejaVu Sans Mono',consolas,'Courier New',monospace\">\n",
       "</pre>\n"
      ],
      "text/plain": [
       "\n"
      ]
     },
     "metadata": {},
     "output_type": "display_data"
    }
   ],
   "source": [
    "hname = hist_file.split(\"/\")[-1].split(\".\")[0]\n",
    "cutname = cut_file.split(\"/\")[-1].split(\".\")[0]\n",
    "test = Analyzer(samp_file,hist_file,cut_file)\n",
    "out = test.process(execr='futures',workers=80)\n",
    "util.save(out,f\"skimmed_bkg_{hname}_{cutname}.coffea\")\n",
    "del test, out"
   ]
  },
  {
   "cell_type": "code",
   "execution_count": 2,
   "id": "c28a4f50-1f2f-4409-a963-be7f49603fb5",
   "metadata": {},
   "outputs": [],
   "source": [
    "cut_file = \"cut_configs/cuts.py\"\n",
    "hist_file = \"histo_configs/histos.py\"\n",
    "samp_file = \"../../configs/sample_configs/skimmed_bkg_MET170/skimmed_bkg_2018_v7_miniAOD_MET170.json\""
   ]
  },
  {
   "cell_type": "code",
   "execution_count": 3,
   "id": "5f0f225d-8398-4c5b-bcc0-743d5d69d720",
   "metadata": {},
   "outputs": [
    {
     "data": {
      "application/vnd.jupyter.widget-view+json": {
       "model_id": "c012bfd9c79844c38793ab35d05b2985",
       "version_major": 2,
       "version_minor": 0
      },
      "text/plain": [
       "Output()"
      ]
     },
     "metadata": {},
     "output_type": "display_data"
    },
    {
     "data": {
      "text/html": [
       "<pre style=\"white-space:pre;overflow-x:auto;line-height:normal;font-family:Menlo,'DejaVu Sans Mono',consolas,'Courier New',monospace\"></pre>\n"
      ],
      "text/plain": []
     },
     "metadata": {},
     "output_type": "display_data"
    },
    {
     "data": {
      "text/html": [
       "<pre style=\"white-space:pre;overflow-x:auto;line-height:normal;font-family:Menlo,'DejaVu Sans Mono',consolas,'Courier New',monospace\">\n",
       "</pre>\n"
      ],
      "text/plain": [
       "\n"
      ]
     },
     "metadata": {},
     "output_type": "display_data"
    },
    {
     "data": {
      "application/vnd.jupyter.widget-view+json": {
       "model_id": "6e9037e4820e4001bc25afeb64706fd5",
       "version_major": 2,
       "version_minor": 0
      },
      "text/plain": [
       "Output()"
      ]
     },
     "metadata": {},
     "output_type": "display_data"
    },
    {
     "data": {
      "text/html": [
       "<pre style=\"white-space:pre;overflow-x:auto;line-height:normal;font-family:Menlo,'DejaVu Sans Mono',consolas,'Courier New',monospace\"></pre>\n"
      ],
      "text/plain": []
     },
     "metadata": {},
     "output_type": "display_data"
    },
    {
     "data": {
      "text/html": [
       "<pre style=\"white-space:pre;overflow-x:auto;line-height:normal;font-family:Menlo,'DejaVu Sans Mono',consolas,'Courier New',monospace\">\n",
       "</pre>\n"
      ],
      "text/plain": [
       "\n"
      ]
     },
     "metadata": {},
     "output_type": "display_data"
    }
   ],
   "source": [
    "hname = hist_file.split(\"/\")[-1].split(\".\")[0]\n",
    "cutname = cut_file.split(\"/\")[-1].split(\".\")[0]\n",
    "test = Analyzer(samp_file,hist_file,cut_file)\n",
    "out = test.process(execr='futures',workers=80)\n",
    "util.save(out,f\"skimmed_bkg_MET170_{hname}_{cutname}.coffea\")\n",
    "del test, out"
   ]
  },
  {
   "cell_type": "code",
   "execution_count": 8,
   "id": "bb76cdea-34c9-4a84-a06f-f9e5e7cef12d",
   "metadata": {
    "tags": []
   },
   "outputs": [],
   "source": [
    "cut_file = \"cut_configs/cuts_VR.py\"\n",
    "hist_file = \"histo_configs/histos.py\"\n",
    "samp_file = \"../../configs/sample_configs/skimmed_bkg/skimmed_bkg_2018_v7_miniAOD.json\""
   ]
  },
  {
   "cell_type": "code",
   "execution_count": 9,
   "id": "d36b059a-8fcc-4b0f-8d23-0cef68a67986",
   "metadata": {
    "tags": []
   },
   "outputs": [
    {
     "data": {
      "application/vnd.jupyter.widget-view+json": {
       "model_id": "86f026725c93496c858d816eb700ac91",
       "version_major": 2,
       "version_minor": 0
      },
      "text/plain": [
       "Output()"
      ]
     },
     "metadata": {},
     "output_type": "display_data"
    },
    {
     "data": {
      "text/html": [
       "<pre style=\"white-space:pre;overflow-x:auto;line-height:normal;font-family:Menlo,'DejaVu Sans Mono',consolas,'Courier New',monospace\"></pre>\n"
      ],
      "text/plain": []
     },
     "metadata": {},
     "output_type": "display_data"
    },
    {
     "data": {
      "text/html": [
       "<pre style=\"white-space:pre;overflow-x:auto;line-height:normal;font-family:Menlo,'DejaVu Sans Mono',consolas,'Courier New',monospace\">\n",
       "</pre>\n"
      ],
      "text/plain": [
       "\n"
      ]
     },
     "metadata": {},
     "output_type": "display_data"
    }
   ],
   "source": [
    "hname = hist_file.split(\"/\")[-1].split(\".\")[0]\n",
    "cutname = cut_file.split(\"/\")[-1].split(\".\")[0]\n",
    "test = Analyzer(samp_file,hist_file,cut_file)\n",
    "out = test.process(execr='futures',workers=80)\n",
    "util.save(out,f\"skimmed_bkg_{hname}_{cutname}.coffea\")\n",
    "del test, out"
   ]
  },
  {
   "cell_type": "markdown",
   "id": "15418684-768a-4e5c-a279-36ae06628651",
   "metadata": {},
   "source": [
    "# skimmed data"
   ]
  },
  {
   "cell_type": "code",
   "execution_count": 10,
   "id": "1ff0488f-2fc6-4315-913b-4735077664e3",
   "metadata": {
    "tags": []
   },
   "outputs": [],
   "source": [
    "cut_file = \"cut_configs/cuts_VR.py\"\n",
    "hist_file = \"histo_configs/histos.py\"\n",
    "samp_file = \"../../configs/sample_configs/skimmed_data/skimmed_data_2018_MET_v1.json\""
   ]
  },
  {
   "cell_type": "code",
   "execution_count": 11,
   "id": "77fdd0b6-c026-48f1-bb64-d80272b5b759",
   "metadata": {
    "tags": []
   },
   "outputs": [
    {
     "data": {
      "application/vnd.jupyter.widget-view+json": {
       "model_id": "3d8192adf55746b0b0382a47b63da34a",
       "version_major": 2,
       "version_minor": 0
      },
      "text/plain": [
       "Output()"
      ]
     },
     "metadata": {},
     "output_type": "display_data"
    },
    {
     "data": {
      "text/html": [
       "<pre style=\"white-space:pre;overflow-x:auto;line-height:normal;font-family:Menlo,'DejaVu Sans Mono',consolas,'Courier New',monospace\"></pre>\n"
      ],
      "text/plain": []
     },
     "metadata": {},
     "output_type": "display_data"
    },
    {
     "data": {
      "text/html": [
       "<pre style=\"white-space:pre;overflow-x:auto;line-height:normal;font-family:Menlo,'DejaVu Sans Mono',consolas,'Courier New',monospace\">\n",
       "</pre>\n"
      ],
      "text/plain": [
       "\n"
      ]
     },
     "metadata": {},
     "output_type": "display_data"
    }
   ],
   "source": [
    "hname = hist_file.split(\"/\")[-1].split(\".\")[0]\n",
    "cutname = cut_file.split(\"/\")[-1].split(\".\")[0]\n",
    "test = Analyzer(samp_file,hist_file,cut_file)\n",
    "out = test.process(execr='futures',workers=80)\n",
    "util.save(out,f\"skimmed_data_{hname}_{cutname}.coffea\")\n",
    "del test, out"
   ]
  },
  {
   "cell_type": "markdown",
   "id": "d46a7623-93e9-4f25-8b4a-2c3227c390ee",
   "metadata": {},
   "source": [
    "## signal"
   ]
  },
  {
   "cell_type": "code",
   "execution_count": 2,
   "id": "e33c8bf9-1b88-47e9-b4b7-e92b794d436a",
   "metadata": {
    "tags": []
   },
   "outputs": [],
   "source": [
    "cut_file = \"cut_configs/cuts.py\"\n",
    "hist_file = \"histo_configs/histos.py\"\n",
    "samp_file = \"../../configs/sample_configs/signal/signal_v5_xcleanStudy_noCustomMiniAOD_2018_aEM.json\""
   ]
  },
  {
   "cell_type": "code",
   "execution_count": 3,
   "id": "9b1bb89a-9338-428e-ba6e-f562ed214cfb",
   "metadata": {
    "tags": []
   },
   "outputs": [
    {
     "name": "stdout",
     "output_type": "stream",
     "text": [
      "Chunk 1\n"
     ]
    },
    {
     "data": {
      "application/vnd.jupyter.widget-view+json": {
       "model_id": "610fe095a8064b499f63017ae96aba65",
       "version_major": 2,
       "version_minor": 0
      },
      "text/plain": [
       "Output()"
      ]
     },
     "metadata": {},
     "output_type": "display_data"
    },
    {
     "data": {
      "text/html": [
       "<pre style=\"white-space:pre;overflow-x:auto;line-height:normal;font-family:Menlo,'DejaVu Sans Mono',consolas,'Courier New',monospace\"></pre>\n"
      ],
      "text/plain": []
     },
     "metadata": {},
     "output_type": "display_data"
    },
    {
     "data": {
      "text/html": [
       "<pre style=\"white-space:pre;overflow-x:auto;line-height:normal;font-family:Menlo,'DejaVu Sans Mono',consolas,'Courier New',monospace\">\n",
       "</pre>\n"
      ],
      "text/plain": [
       "\n"
      ]
     },
     "metadata": {},
     "output_type": "display_data"
    },
    {
     "data": {
      "application/vnd.jupyter.widget-view+json": {
       "model_id": "85bf2bd97ec74208807a994d2cb2c21e",
       "version_major": 2,
       "version_minor": 0
      },
      "text/plain": [
       "Output()"
      ]
     },
     "metadata": {},
     "output_type": "display_data"
    },
    {
     "name": "stderr",
     "output_type": "stream",
     "text": [
      "/uscms_data/d3/sbrightt/iDM/iDMe_analysis/CMSSW_10_6_26/src/iDMe/python_analysis/thesis_plots/explore_variables/../../analysisTools/analysisTools.py:325: RuntimeWarning: invalid value encountered in float_scalars\n",
      "  cutflow_vtx_matched_genEEreconstructed[cutName] += ak.sum(vtx_matched_events_genEEreconstructed.genWgt)/ak.sum(has_gen_matched_reco_ee_events.genWgt)\n"
     ]
    },
    {
     "data": {
      "text/html": [
       "<pre style=\"white-space:pre;overflow-x:auto;line-height:normal;font-family:Menlo,'DejaVu Sans Mono',consolas,'Courier New',monospace\"></pre>\n"
      ],
      "text/plain": []
     },
     "metadata": {},
     "output_type": "display_data"
    },
    {
     "data": {
      "text/html": [
       "<pre style=\"white-space:pre;overflow-x:auto;line-height:normal;font-family:Menlo,'DejaVu Sans Mono',consolas,'Courier New',monospace\">\n",
       "</pre>\n"
      ],
      "text/plain": [
       "\n"
      ]
     },
     "metadata": {},
     "output_type": "display_data"
    },
    {
     "name": "stdout",
     "output_type": "stream",
     "text": [
      "Chunk 2\n"
     ]
    },
    {
     "data": {
      "application/vnd.jupyter.widget-view+json": {
       "model_id": "ee3c8173b65d4b04ae02f769e3d90b60",
       "version_major": 2,
       "version_minor": 0
      },
      "text/plain": [
       "Output()"
      ]
     },
     "metadata": {},
     "output_type": "display_data"
    },
    {
     "data": {
      "text/html": [
       "<pre style=\"white-space:pre;overflow-x:auto;line-height:normal;font-family:Menlo,'DejaVu Sans Mono',consolas,'Courier New',monospace\"></pre>\n"
      ],
      "text/plain": []
     },
     "metadata": {},
     "output_type": "display_data"
    },
    {
     "data": {
      "text/html": [
       "<pre style=\"white-space:pre;overflow-x:auto;line-height:normal;font-family:Menlo,'DejaVu Sans Mono',consolas,'Courier New',monospace\">\n",
       "</pre>\n"
      ],
      "text/plain": [
       "\n"
      ]
     },
     "metadata": {},
     "output_type": "display_data"
    },
    {
     "data": {
      "application/vnd.jupyter.widget-view+json": {
       "model_id": "27b521fab9e44b1e82005233c253abdb",
       "version_major": 2,
       "version_minor": 0
      },
      "text/plain": [
       "Output()"
      ]
     },
     "metadata": {},
     "output_type": "display_data"
    },
    {
     "data": {
      "text/html": [
       "<pre style=\"white-space:pre;overflow-x:auto;line-height:normal;font-family:Menlo,'DejaVu Sans Mono',consolas,'Courier New',monospace\"></pre>\n"
      ],
      "text/plain": []
     },
     "metadata": {},
     "output_type": "display_data"
    },
    {
     "data": {
      "text/html": [
       "<pre style=\"white-space:pre;overflow-x:auto;line-height:normal;font-family:Menlo,'DejaVu Sans Mono',consolas,'Courier New',monospace\">\n",
       "</pre>\n"
      ],
      "text/plain": [
       "\n"
      ]
     },
     "metadata": {},
     "output_type": "display_data"
    },
    {
     "name": "stdout",
     "output_type": "stream",
     "text": [
      "Chunk 3\n"
     ]
    },
    {
     "data": {
      "application/vnd.jupyter.widget-view+json": {
       "model_id": "101a6a22a5a14d1e9af008242368cae5",
       "version_major": 2,
       "version_minor": 0
      },
      "text/plain": [
       "Output()"
      ]
     },
     "metadata": {},
     "output_type": "display_data"
    },
    {
     "data": {
      "text/html": [
       "<pre style=\"white-space:pre;overflow-x:auto;line-height:normal;font-family:Menlo,'DejaVu Sans Mono',consolas,'Courier New',monospace\"></pre>\n"
      ],
      "text/plain": []
     },
     "metadata": {},
     "output_type": "display_data"
    },
    {
     "data": {
      "text/html": [
       "<pre style=\"white-space:pre;overflow-x:auto;line-height:normal;font-family:Menlo,'DejaVu Sans Mono',consolas,'Courier New',monospace\">\n",
       "</pre>\n"
      ],
      "text/plain": [
       "\n"
      ]
     },
     "metadata": {},
     "output_type": "display_data"
    },
    {
     "data": {
      "application/vnd.jupyter.widget-view+json": {
       "model_id": "7413fd794e664037ae5233301bf0ab00",
       "version_major": 2,
       "version_minor": 0
      },
      "text/plain": [
       "Output()"
      ]
     },
     "metadata": {},
     "output_type": "display_data"
    },
    {
     "data": {
      "text/html": [
       "<pre style=\"white-space:pre;overflow-x:auto;line-height:normal;font-family:Menlo,'DejaVu Sans Mono',consolas,'Courier New',monospace\"></pre>\n"
      ],
      "text/plain": []
     },
     "metadata": {},
     "output_type": "display_data"
    },
    {
     "data": {
      "text/html": [
       "<pre style=\"white-space:pre;overflow-x:auto;line-height:normal;font-family:Menlo,'DejaVu Sans Mono',consolas,'Courier New',monospace\">\n",
       "</pre>\n"
      ],
      "text/plain": [
       "\n"
      ]
     },
     "metadata": {},
     "output_type": "display_data"
    }
   ],
   "source": [
    "with open(samp_file,'r') as fin:\n",
    "    a = json.load(fin)\n",
    "num_chunks = 3\n",
    "inds = np.array_split(np.arange(len(a)),num_chunks)\n",
    "hname = hist_file.split(\"/\")[-1].split(\".\")[0]\n",
    "for nc,ichunk in enumerate(inds):\n",
    "    print(\"Chunk\",nc+1)\n",
    "    samps = [a[i] for i in ichunk]\n",
    "    with open(f\"chunk{nc+1}.json\",\"w\") as fout:\n",
    "        json.dump(samps,fout)\n",
    "    test = Analyzer(f\"chunk{nc+1}.json\",hist_file,cut_file)\n",
    "    out = test.process(execr='futures',workers=80)\n",
    "    del test\n",
    "    util.save(out,f\"signal_{hname}_chunk{nc+1}.coffea\")\n",
    "    del out\n",
    "    os.remove(f\"chunk{nc+1}.json\")\n",
    "\n",
    "histos = accumulate([util.load(f'signal_{hname}_chunk{nc+1}.coffea')[0] for nc in range(num_chunks)])\n",
    "util.save(histos,f'signal_{hname}.coffea')\n",
    "for nc in range(num_chunks):\n",
    "    os.remove(f'signal_{hname}_chunk{nc+1}.coffea')"
   ]
  },
  {
   "cell_type": "markdown",
   "id": "65cec398-f6b9-4543-82e0-5e1fbd212c45",
   "metadata": {},
   "source": [
    "## background"
   ]
  },
  {
   "cell_type": "code",
   "execution_count": 2,
   "id": "1bd9f7bb-b1e6-41c8-a7e2-ea10a78c7927",
   "metadata": {
    "tags": []
   },
   "outputs": [],
   "source": [
    "cut_file = \"cut_configs/cuts.py\"\n",
    "hist_file = \"histo_configs/histos.py\"\n",
    "samp_file = \"../../configs/sample_configs/bkg/bkg_2018_v4_miniAOD.json\""
   ]
  },
  {
   "cell_type": "code",
   "execution_count": 3,
   "id": "939defb9-d3ae-45ab-ae99-a963ae7575f4",
   "metadata": {
    "tags": []
   },
   "outputs": [
    {
     "data": {
      "application/vnd.jupyter.widget-view+json": {
       "model_id": "094cb202f17843ac978ff85494e109fc",
       "version_major": 2,
       "version_minor": 0
      },
      "text/plain": [
       "Output()"
      ]
     },
     "metadata": {},
     "output_type": "display_data"
    },
    {
     "data": {
      "text/html": [
       "<pre style=\"white-space:pre;overflow-x:auto;line-height:normal;font-family:Menlo,'DejaVu Sans Mono',consolas,'Courier New',monospace\"></pre>\n"
      ],
      "text/plain": []
     },
     "metadata": {},
     "output_type": "display_data"
    },
    {
     "data": {
      "text/html": [
       "<pre style=\"white-space:pre;overflow-x:auto;line-height:normal;font-family:Menlo,'DejaVu Sans Mono',consolas,'Courier New',monospace\">\n",
       "</pre>\n"
      ],
      "text/plain": [
       "\n"
      ]
     },
     "metadata": {},
     "output_type": "display_data"
    },
    {
     "data": {
      "application/vnd.jupyter.widget-view+json": {
       "model_id": "e6ba81ba4aff424aab22daa8b2c061c0",
       "version_major": 2,
       "version_minor": 0
      },
      "text/plain": [
       "Output()"
      ]
     },
     "metadata": {},
     "output_type": "display_data"
    },
    {
     "data": {
      "text/html": [
       "<pre style=\"white-space:pre;overflow-x:auto;line-height:normal;font-family:Menlo,'DejaVu Sans Mono',consolas,'Courier New',monospace\"></pre>\n"
      ],
      "text/plain": []
     },
     "metadata": {},
     "output_type": "display_data"
    },
    {
     "data": {
      "text/html": [
       "<pre style=\"white-space:pre;overflow-x:auto;line-height:normal;font-family:Menlo,'DejaVu Sans Mono',consolas,'Courier New',monospace\">\n",
       "</pre>\n"
      ],
      "text/plain": [
       "\n"
      ]
     },
     "metadata": {},
     "output_type": "display_data"
    }
   ],
   "source": [
    "hname = hist_file.split(\"/\")[-1].split(\".\")[0]\n",
    "test = Analyzer(samp_file,hist_file,cut_file)\n",
    "out = test.process(execr='futures',workers=80)\n",
    "util.save(out,f\"bkg_{hname}.coffea\")\n",
    "del test, out"
   ]
  },
  {
   "cell_type": "code",
   "execution_count": null,
   "id": "04240c3f-58e1-47f3-8e0c-872b05177e08",
   "metadata": {},
   "outputs": [],
   "source": []
  }
 ],
 "metadata": {
  "kernelspec": {
   "display_name": "Python 3 (ipykernel)",
   "language": "python",
   "name": "py3-preamble"
  },
  "language_info": {
   "codemirror_mode": {
    "name": "ipython",
    "version": 3
   },
   "file_extension": ".py",
   "mimetype": "text/x-python",
   "name": "python",
   "nbconvert_exporter": "python",
   "pygments_lexer": "ipython3",
   "version": "3.9.15"
  }
 },
 "nbformat": 4,
 "nbformat_minor": 5
}
