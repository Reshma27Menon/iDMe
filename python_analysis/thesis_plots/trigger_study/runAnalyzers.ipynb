{
 "cells": [
  {
   "cell_type": "code",
   "execution_count": 1,
   "id": "ff0d6e4a-afac-4f2c-bfb6-256cb15351fe",
   "metadata": {
    "editable": true,
    "slideshow": {
     "slide_type": ""
    },
    "tags": []
   },
   "outputs": [],
   "source": [
    "%load_ext autoreload\n",
    "%autoreload 2\n",
    "import numpy as np\n",
    "import matplotlib.pyplot as plt\n",
    "import sys\n",
    "sys.path.append(\"../../analysisTools/\")\n",
    "from analysisTools import Analyzer\n",
    "from analysisTools import loadSchema\n",
    "import analysisSubroutines as routines\n",
    "import coffea.util as util\n",
    "import time\n",
    "import json\n",
    "import os\n",
    "import awkward as ak\n",
    "from coffea.processor import accumulate"
   ]
  },
  {
   "cell_type": "markdown",
   "id": "b1bcf7bb-9887-463a-90d8-764745ef98ec",
   "metadata": {},
   "source": [
    "# signal"
   ]
  },
  {
   "cell_type": "code",
   "execution_count": 2,
   "id": "d43db7bb-9a4b-4b0c-bf70-ac57fb789aed",
   "metadata": {
    "tags": []
   },
   "outputs": [],
   "source": [
    "cut_file = \"cut_configs/cuts_dummy.py\"\n",
    "hist_file = \"histo_configs/histos.py\"\n",
    "samp_file = \"sample_configs/signal_2018_10X_systematics_aEM.json\""
   ]
  },
  {
   "cell_type": "code",
   "execution_count": 3,
   "id": "d467908b-c38d-41ba-95ce-a715f3932b6a",
   "metadata": {
    "tags": []
   },
   "outputs": [
    {
     "data": {
      "application/vnd.jupyter.widget-view+json": {
       "model_id": "18e8662847b64243a5de703a18acec99",
       "version_major": 2,
       "version_minor": 0
      },
      "text/plain": [
       "Output()"
      ]
     },
     "metadata": {},
     "output_type": "display_data"
    },
    {
     "data": {
      "text/html": [
       "<pre style=\"white-space:pre;overflow-x:auto;line-height:normal;font-family:Menlo,'DejaVu Sans Mono',consolas,'Courier New',monospace\"></pre>\n"
      ],
      "text/plain": []
     },
     "metadata": {},
     "output_type": "display_data"
    },
    {
     "data": {
      "application/vnd.jupyter.widget-view+json": {
       "model_id": "c0126a385a3b448ab18eb769f5982293",
       "version_major": 2,
       "version_minor": 0
      },
      "text/plain": [
       "Output()"
      ]
     },
     "metadata": {},
     "output_type": "display_data"
    },
    {
     "data": {
      "text/html": [
       "<pre style=\"white-space:pre;overflow-x:auto;line-height:normal;font-family:Menlo,'DejaVu Sans Mono',consolas,'Courier New',monospace\"></pre>\n"
      ],
      "text/plain": []
     },
     "metadata": {},
     "output_type": "display_data"
    }
   ],
   "source": [
    "hname = hist_file.split(\"/\")[-1].split(\".\")[0]\n",
    "test = Analyzer(samp_file,hist_file,cut_file)\n",
    "out = test.process(execr='futures',workers=16,procType='trig')\n",
    "util.save(out,f\"signal_2018_triggerStudy.coffea\")\n",
    "del test, out"
   ]
  },
  {
   "cell_type": "markdown",
   "id": "8b60b8ab-2772-471f-815c-8f9f05186735",
   "metadata": {},
   "source": [
    "# bkg"
   ]
  },
  {
   "cell_type": "code",
   "execution_count": 6,
   "id": "9816df48-10f9-405c-aa45-8356c8bbeb5a",
   "metadata": {
    "tags": []
   },
   "outputs": [],
   "source": [
    "cut_file = \"cut_configs/cuts_dummy.py\"\n",
    "hist_file = \"histo_configs/histos.py\"\n",
    "samp_file = \"sample_configs/bkg_2018_10X_systematics.json\""
   ]
  },
  {
   "cell_type": "code",
   "execution_count": 7,
   "id": "2fb740c7-c4f3-4d18-88ad-ec1c521f89d4",
   "metadata": {
    "tags": []
   },
   "outputs": [
    {
     "data": {
      "application/vnd.jupyter.widget-view+json": {
       "model_id": "2a6ecc542eb749f1b7c8ec581109b260",
       "version_major": 2,
       "version_minor": 0
      },
      "text/plain": [
       "Output()"
      ]
     },
     "metadata": {},
     "output_type": "display_data"
    },
    {
     "data": {
      "text/html": [
       "<pre style=\"white-space:pre;overflow-x:auto;line-height:normal;font-family:Menlo,'DejaVu Sans Mono',consolas,'Courier New',monospace\"></pre>\n"
      ],
      "text/plain": []
     },
     "metadata": {},
     "output_type": "display_data"
    },
    {
     "data": {
      "application/vnd.jupyter.widget-view+json": {
       "model_id": "974e12c4cecb41b597b5de4022fb2616",
       "version_major": 2,
       "version_minor": 0
      },
      "text/plain": [
       "Output()"
      ]
     },
     "metadata": {},
     "output_type": "display_data"
    },
    {
     "name": "stderr",
     "output_type": "stream",
     "text": [
      "/opt/conda/lib/python3.10/site-packages/awkward/_connect/_numpy.py:195: RuntimeWarning: invalid value encountered in divide\n",
      "  result = getattr(ufunc, method)(\n"
     ]
    },
    {
     "data": {
      "text/html": [
       "<pre style=\"white-space:pre;overflow-x:auto;line-height:normal;font-family:Menlo,'DejaVu Sans Mono',consolas,'Courier New',monospace\"></pre>\n"
      ],
      "text/plain": []
     },
     "metadata": {},
     "output_type": "display_data"
    }
   ],
   "source": [
    "hname = hist_file.split(\"/\")[-1].split(\".\")[0]\n",
    "test = Analyzer(samp_file,hist_file,cut_file)\n",
    "out = test.process(execr='futures',workers=16,procType='trig')\n",
    "util.save(out,f\"bkg_2018_triggerStudy.coffea\")\n",
    "del test, out"
   ]
  },
  {
   "cell_type": "markdown",
   "id": "2ba1a2a2-9515-445f-8696-741b4e772a95",
   "metadata": {},
   "source": [
    "# data"
   ]
  },
  {
   "cell_type": "code",
   "execution_count": 8,
   "id": "550686c7-8f85-40de-b471-b56128b6063a",
   "metadata": {},
   "outputs": [],
   "source": [
    "cut_file = \"cut_configs/cuts_dummy.py\"\n",
    "hist_file = \"histo_configs/histos.py\"\n",
    "samp_file = \"sample_configs/data_2018_EGamma_10X.json\""
   ]
  },
  {
   "cell_type": "code",
   "execution_count": 9,
   "id": "02a21af1-a121-414e-b0f5-b36b826ebcd2",
   "metadata": {},
   "outputs": [
    {
     "data": {
      "application/vnd.jupyter.widget-view+json": {
       "model_id": "56479d4eab3749d8bce21f72b9b2b534",
       "version_major": 2,
       "version_minor": 0
      },
      "text/plain": [
       "Output()"
      ]
     },
     "metadata": {},
     "output_type": "display_data"
    },
    {
     "data": {
      "text/html": [
       "<pre style=\"white-space:pre;overflow-x:auto;line-height:normal;font-family:Menlo,'DejaVu Sans Mono',consolas,'Courier New',monospace\"></pre>\n"
      ],
      "text/plain": []
     },
     "metadata": {},
     "output_type": "display_data"
    },
    {
     "data": {
      "application/vnd.jupyter.widget-view+json": {
       "model_id": "4377286e549a45aa972c17e504d74263",
       "version_major": 2,
       "version_minor": 0
      },
      "text/plain": [
       "Output()"
      ]
     },
     "metadata": {},
     "output_type": "display_data"
    },
    {
     "data": {
      "text/html": [
       "<pre style=\"white-space:pre;overflow-x:auto;line-height:normal;font-family:Menlo,'DejaVu Sans Mono',consolas,'Courier New',monospace\"></pre>\n"
      ],
      "text/plain": []
     },
     "metadata": {},
     "output_type": "display_data"
    }
   ],
   "source": [
    "hname = hist_file.split(\"/\")[-1].split(\".\")[0]\n",
    "test = Analyzer(samp_file,hist_file,cut_file)\n",
    "out = test.process(execr='futures',workers=40,procType='trig')\n",
    "util.save(out,f\"data_2018_EGamma_triggerStudy.coffea\")\n",
    "del test, out"
   ]
  },
  {
   "cell_type": "code",
   "execution_count": null,
   "id": "617ca478-d479-4c5d-9849-a37b0a2c59c9",
   "metadata": {},
   "outputs": [],
   "source": []
  }
 ],
 "metadata": {
  "kernelspec": {
   "display_name": "Python 3 (ipykernel)",
   "language": "python",
   "name": "py3-preamble"
  },
  "language_info": {
   "codemirror_mode": {
    "name": "ipython",
    "version": 3
   },
   "file_extension": ".py",
   "mimetype": "text/x-python",
   "name": "python",
   "nbconvert_exporter": "python",
   "pygments_lexer": "ipython3",
   "version": "3.10.16"
  }
 },
 "nbformat": 4,
 "nbformat_minor": 5
}
