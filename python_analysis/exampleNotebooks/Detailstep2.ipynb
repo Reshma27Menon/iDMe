{
 "cells": [
  {
   "cell_type": "markdown",
   "id": "eda959b0-883f-4ee5-be84-d973a1539446",
   "metadata": {},
   "source": [
    "Let us move further with the coffea output files (we have two files, one for signal and the other for background). We are doing step 2 now."
   ]
  },
  {
   "cell_type": "code",
   "execution_count": 1,
   "id": "889079b5-8f31-4036-8658-ed7b9ea90e08",
   "metadata": {},
   "outputs": [],
   "source": [
    "#Imports:\n",
    "%load_ext autoreload\n",
    "%autoreload 2\n",
    "import numpy as np\n",
    "import matplotlib.pyplot as plt\n",
    "from coffea import util\n",
    "from coffea.processor import accumulate\n",
    "import os\n",
    "import re\n",
    "import pandas as pd\n",
    "import hist\n",
    "import matplotlib as mpl\n",
    "import mplhep\n",
    "import sys\n",
    "\n",
    "sys.path.append(\"../analysisTools/\")\n",
    "import plotTools as ptools"
   ]
  },
  {
   "cell_type": "markdown",
   "id": "79932f83-2948-4a1e-8f83-a4ac696df5af",
   "metadata": {},
   "source": [
    "**Import coffea files -- signal and background**"
   ]
  },
  {
   "cell_type": "code",
   "execution_count": 3,
   "id": "b3300427-2daf-4412-83ad-c7412453bf4e",
   "metadata": {},
   "outputs": [
    {
     "name": "stdout",
     "output_type": "stream",
     "text": [
      "dict_keys(['bdtScore', 'gen_met_noWgt', 'gen_met', 'gen_leadjet_pt', 'gen_leadjet_pt_noWgt', 'cutDesc', 'cutflow', 'cutflow_cts', 'cutflow_nevts', 'cutflow_vtx_matched'])\n"
     ]
    }
   ],
   "source": [
    "#coffea output file -- signal\n",
    "f_sig = \"../coffea/skimmed/example_signal_skimmed_SR.coffea\"\n",
    "\n",
    "#Nested Dictionary:\n",
    "sig_histo = util.load(f_sig) [0]\n",
    "print (sig_histo.keys())"
   ]
  },
  {
   "cell_type": "markdown",
   "id": "79a33662-c15c-4d81-ab1b-1a07c4ca1464",
   "metadata": {},
   "source": [
    "We will focus on the last five keys."
   ]
  },
  {
   "cell_type": "code",
   "execution_count": 4,
   "id": "8aa95699-5494-4b80-a436-1f2551d74dc3",
   "metadata": {},
   "outputs": [
    {
     "name": "stdout",
     "output_type": "stream",
     "text": [
      "defaultdict(<class 'str'>, {'all': 'No cuts', 'hasVtx': 'Baseline Selection', 'cut4': 'computing BDT score', 'cut5': 'No b-tagged jets', 'cut6': 'Leading jet |eta| < 2.4', 'cut7': 'Leading jet pT > 80 GeV', 'cut8': 'dPhi(MET,leading jet) > 1.5', 'cut9': 'dPhi(MET,all jets) > 0.75', 'cut10': 'BDT'})\n"
     ]
    }
   ],
   "source": [
    "print (sig_histo ['cutDesc'])   #represents cut names"
   ]
  },
  {
   "cell_type": "code",
   "execution_count": 5,
   "id": "168cf57c-27de-4096-a8e3-6bf48c502122",
   "metadata": {},
   "outputs": [
    {
     "name": "stdout",
     "output_type": "stream",
     "text": [
      "['sig_2018_Mchi-99p0_dMchi-18p0_ctau-100', 'sig_2018_Mchi-94p5_dMchi-9p0_ctau-100', 'sig_2018_Mchi-99p0_dMchi-18p0_ctau-10', 'sig_2018_Mchi-99p0_dMchi-18p0_ctau-1', 'sig_2018_Mchi-88p0_dMchi-16p0_ctau-100', 'sig_2018_Mchi-88p0_dMchi-16p0_ctau-10', 'sig_2018_Mchi-84p0_dMchi-8p0_ctau-100', 'sig_2018_Mchi-94p5_dMchi-9p0_ctau-10', 'sig_2018_Mchi-94p5_dMchi-9p0_ctau-1', 'sig_2018_Mchi-84p0_dMchi-8p0_ctau-10', 'sig_2018_Mchi-77p0_dMchi-14p0_ctau-100', 'sig_2018_Mchi-84p0_dMchi-8p0_ctau-1', 'sig_2018_Mchi-77p0_dMchi-14p0_ctau-10', 'sig_2018_Mchi-73p5_dMchi-7p0_ctau-100', 'sig_2018_Mchi-77p0_dMchi-14p0_ctau-1', 'sig_2018_Mchi-63p0_dMchi-6p0_ctau-100', 'sig_2018_Mchi-73p5_dMchi-7p0_ctau-10', 'sig_2018_Mchi-73p5_dMchi-7p0_ctau-1', 'sig_2018_Mchi-63p0_dMchi-6p0_ctau-10', 'sig_2018_Mchi-5p5_dMchi-1p0_ctau-100', 'sig_2018_Mchi-5p5_dMchi-1p0_ctau-10', 'sig_2018_Mchi-63p0_dMchi-6p0_ctau-1', 'sig_2018_Mchi-5p5_dMchi-1p0_ctau-1', 'sig_2018_Mchi-5p25_dMchi-0p5_ctau-100', 'sig_2018_Mchi-5p25_dMchi-0p5_ctau-10', 'sig_2018_Mchi-5p25_dMchi-0p5_ctau-1', 'sig_2018_Mchi-55p0_dMchi-10p0_ctau-100', 'sig_2018_Mchi-55p0_dMchi-10p0_ctau-10', 'sig_2018_Mchi-55p0_dMchi-10p0_ctau-1', 'sig_2018_Mchi-52p5_dMchi-5p0_ctau-100', 'sig_2018_Mchi-44p0_dMchi-8p0_ctau-100', 'sig_2018_Mchi-52p5_dMchi-5p0_ctau-10', 'sig_2018_Mchi-52p5_dMchi-5p0_ctau-1', 'sig_2018_Mchi-44p0_dMchi-8p0_ctau-10', 'sig_2018_Mchi-44p0_dMchi-8p0_ctau-1', 'sig_2018_Mchi-42p0_dMchi-4p0_ctau-100', 'sig_2018_Mchi-42p0_dMchi-4p0_ctau-10', 'sig_2018_Mchi-42p0_dMchi-4p0_ctau-1', 'sig_2018_Mchi-33p0_dMchi-6p0_ctau-100', 'sig_2018_Mchi-33p0_dMchi-6p0_ctau-10', 'sig_2018_Mchi-33p0_dMchi-6p0_ctau-1', 'sig_2018_Mchi-31p5_dMchi-3p0_ctau-100', 'sig_2018_Mchi-31p5_dMchi-3p0_ctau-10', 'sig_2018_Mchi-22p0_dMchi-4p0_ctau-100', 'sig_2018_Mchi-31p5_dMchi-3p0_ctau-1', 'sig_2018_Mchi-22p0_dMchi-4p0_ctau-1', 'sig_2018_Mchi-22p0_dMchi-4p0_ctau-10', 'sig_2018_Mchi-21p0_dMchi-2p0_ctau-100', 'sig_2018_Mchi-21p0_dMchi-2p0_ctau-10', 'sig_2018_Mchi-11p0_dMchi-2p0_ctau-100', 'sig_2018_Mchi-21p0_dMchi-2p0_ctau-1', 'sig_2018_Mchi-11p0_dMchi-2p0_ctau-10', 'sig_2018_Mchi-11p0_dMchi-2p0_ctau-1', 'sig_2018_Mchi-110p0_dMchi-20p0_ctau-100', 'sig_2018_Mchi-10p5_dMchi-1p0_ctau-100', 'sig_2018_Mchi-110p0_dMchi-20p0_ctau-10', 'sig_2018_Mchi-10p5_dMchi-1p0_ctau-10', 'sig_2018_Mchi-110p0_dMchi-20p0_ctau-1', 'sig_2018_Mchi-10p5_dMchi-1p0_ctau-1', 'sig_2018_Mchi-105p0_dMchi-10p0_ctau-1', 'sig_2018_Mchi-105p0_dMchi-10p0_ctau-100', 'sig_2018_Mchi-105p0_dMchi-10p0_ctau-10']\n"
     ]
    }
   ],
   "source": [
    "sig_samples = list(sig_histo['cutflow'].keys()) # names of signal sub-process, i.e. mass point, lifetime etc.\n",
    "print (sig_samples)"
   ]
  },
  {
   "cell_type": "code",
   "execution_count": 9,
   "id": "51179165-7798-4469-9918-169c9ede173c",
   "metadata": {},
   "outputs": [
    {
     "name": "stdout",
     "output_type": "stream",
     "text": [
      "['all', 'hasVtx', 'cut4', 'cut5', 'cut6', 'cut7', 'cut8', 'cut9', 'cut10']\n"
     ]
    }
   ],
   "source": [
    "#Let us get deep into the cutflow:\n",
    "#print (sig_histo['cutflow'][sig_samples[0]])\n",
    "cuts = list(sig_histo['cutflow'][sig_samples[0]].keys())\n",
    "print (cuts)"
   ]
  },
  {
   "cell_type": "markdown",
   "id": "d4a29855-290e-4632-b948-559188ae7103",
   "metadata": {},
   "source": [
    "Based on the signal file name, i.e. sig_2018_Mchi-55p0_dMchi-10p0_ctau-100, extract the mass point, lifetime, etc and make it into a pandas dataframe: use signalPoint defined in /python_analysis/analysisTools/plotTools.py\n",
    "\n"
   ]
  },
  {
   "cell_type": "code",
   "execution_count": 10,
   "id": "4866151d-abe1-4da0-a454-92e63d35e7f1",
   "metadata": {},
   "outputs": [
    {
     "name": "stdout",
     "output_type": "stream",
     "text": [
      "                                          mchi  dmchi   ctau     m1     m2  \\\n",
      "sig_2018_Mchi-99p0_dMchi-18p0_ctau-100    99.0   18.0  100.0   90.0  108.0   \n",
      "sig_2018_Mchi-94p5_dMchi-9p0_ctau-100     94.5    9.0  100.0   90.0   99.0   \n",
      "sig_2018_Mchi-99p0_dMchi-18p0_ctau-10     99.0   18.0   10.0   90.0  108.0   \n",
      "sig_2018_Mchi-99p0_dMchi-18p0_ctau-1      99.0   18.0    1.0   90.0  108.0   \n",
      "sig_2018_Mchi-88p0_dMchi-16p0_ctau-100    88.0   16.0  100.0   80.0   96.0   \n",
      "...                                        ...    ...    ...    ...    ...   \n",
      "sig_2018_Mchi-110p0_dMchi-20p0_ctau-1    110.0   20.0    1.0  100.0  120.0   \n",
      "sig_2018_Mchi-10p5_dMchi-1p0_ctau-1       10.5    1.0    1.0   10.0   11.0   \n",
      "sig_2018_Mchi-105p0_dMchi-10p0_ctau-1    105.0   10.0    1.0  100.0  110.0   \n",
      "sig_2018_Mchi-105p0_dMchi-10p0_ctau-100  105.0   10.0  100.0  100.0  110.0   \n",
      "sig_2018_Mchi-105p0_dMchi-10p0_ctau-10   105.0   10.0   10.0  100.0  110.0   \n",
      "\n",
      "                                         delta  \\\n",
      "sig_2018_Mchi-99p0_dMchi-18p0_ctau-100     0.2   \n",
      "sig_2018_Mchi-94p5_dMchi-9p0_ctau-100      0.1   \n",
      "sig_2018_Mchi-99p0_dMchi-18p0_ctau-10      0.2   \n",
      "sig_2018_Mchi-99p0_dMchi-18p0_ctau-1       0.2   \n",
      "sig_2018_Mchi-88p0_dMchi-16p0_ctau-100     0.2   \n",
      "...                                        ...   \n",
      "sig_2018_Mchi-110p0_dMchi-20p0_ctau-1      0.2   \n",
      "sig_2018_Mchi-10p5_dMchi-1p0_ctau-1        0.1   \n",
      "sig_2018_Mchi-105p0_dMchi-10p0_ctau-1      0.1   \n",
      "sig_2018_Mchi-105p0_dMchi-10p0_ctau-100    0.1   \n",
      "sig_2018_Mchi-105p0_dMchi-10p0_ctau-10     0.1   \n",
      "\n",
      "                                                                            name  \n",
      "sig_2018_Mchi-99p0_dMchi-18p0_ctau-100    sig_2018_Mchi-99p0_dMchi-18p0_ctau-100  \n",
      "sig_2018_Mchi-94p5_dMchi-9p0_ctau-100      sig_2018_Mchi-94p5_dMchi-9p0_ctau-100  \n",
      "sig_2018_Mchi-99p0_dMchi-18p0_ctau-10      sig_2018_Mchi-99p0_dMchi-18p0_ctau-10  \n",
      "sig_2018_Mchi-99p0_dMchi-18p0_ctau-1        sig_2018_Mchi-99p0_dMchi-18p0_ctau-1  \n",
      "sig_2018_Mchi-88p0_dMchi-16p0_ctau-100    sig_2018_Mchi-88p0_dMchi-16p0_ctau-100  \n",
      "...                                                                          ...  \n",
      "sig_2018_Mchi-110p0_dMchi-20p0_ctau-1      sig_2018_Mchi-110p0_dMchi-20p0_ctau-1  \n",
      "sig_2018_Mchi-10p5_dMchi-1p0_ctau-1          sig_2018_Mchi-10p5_dMchi-1p0_ctau-1  \n",
      "sig_2018_Mchi-105p0_dMchi-10p0_ctau-1      sig_2018_Mchi-105p0_dMchi-10p0_ctau-1  \n",
      "sig_2018_Mchi-105p0_dMchi-10p0_ctau-100  sig_2018_Mchi-105p0_dMchi-10p0_ctau-100  \n",
      "sig_2018_Mchi-105p0_dMchi-10p0_ctau-10    sig_2018_Mchi-105p0_dMchi-10p0_ctau-10  \n",
      "\n",
      "[62 rows x 7 columns]\n"
     ]
    }
   ],
   "source": [
    "#Now we are pointing to the sig_samples:\n",
    "\n",
    "si = pd.DataFrame.from_dict({s:ptools.signalPoint(s) for s in sig_samples}, orient='index')\n",
    "\n",
    "print(si)"
   ]
  },
  {
   "cell_type": "markdown",
   "id": "9a3b3473-6acb-4e23-ad78-720f2b1560aa",
   "metadata": {},
   "source": [
    "Access the cut names stored in cutDesc via getCut defined in /python_analysis/analysisTools/plotTools.py. The function removes the redundant junk in all and hasVtx steps."
   ]
  },
  {
   "cell_type": "code",
   "execution_count": 11,
   "id": "4b450f3e-407b-4b7b-a436-6f9653d37854",
   "metadata": {},
   "outputs": [
    {
     "name": "stdout",
     "output_type": "stream",
     "text": [
      "defaultdict(<class 'str'>, {'all': 'No cuts', 'hasVtx': 'Baseline Selection', 'cut4': 'computing BDT score', 'cut5': 'No b-tagged jets', 'cut6': 'Leading jet |eta| < 2.4', 'cut7': 'Leading jet pT > 80 GeV', 'cut8': 'dPhi(MET,leading jet) > 1.5', 'cut9': 'dPhi(MET,all jets) > 0.75', 'cut10': 'BDT'})\n"
     ]
    }
   ],
   "source": [
    "print (sig_histo ['cutDesc'])   #represents cut names"
   ]
  },
  {
   "cell_type": "code",
   "execution_count": 12,
   "id": "18296f96-9313-4522-9634-96f6e650b4e7",
   "metadata": {},
   "outputs": [
    {
     "name": "stdout",
     "output_type": "stream",
     "text": [
      "{'all': 'No cuts', 'hasVtx': 'Baseline Selection', 'cut4': 'computing BDT score', 'cut5': 'No b-tagged jets', 'cut6': 'Leading jet |eta| < 2.4', 'cut7': 'Leading jet pT > 80 GeV', 'cut8': 'dPhi(MET,leading jet) > 1.5', 'cut9': 'dPhi(MET,all jets) > 0.75', 'cut10': 'BDT'}\n"
     ]
    }
   ],
   "source": [
    "# cutflow: using getCut. No difference. \n",
    "cutNames = {cname:ptools.getCut(sig_histo['cutDesc'][cname]) for cname in sig_histo['cutDesc'].keys()}\n",
    "print(cutNames)"
   ]
  },
  {
   "cell_type": "markdown",
   "id": "260c6005-03ac-40aa-93bc-b5a2b1e83af9",
   "metadata": {},
   "source": [
    "There are four cutflow-related variables in the coffea output:"
   ]
  },
  {
   "cell_type": "code",
   "execution_count": 16,
   "id": "c1f49a43-8299-4b64-a32f-1230e53e41f1",
   "metadata": {},
   "outputs": [
    {
     "name": "stdout",
     "output_type": "stream",
     "text": [
      "{'sig_2018_Mchi-99p0_dMchi-18p0_ctau-100': defaultdict(<class 'int'>, {'all': 11997, 'hasVtx': 4202, 'cut4': 4202, 'cut5': 3601, 'cut6': 3482, 'cut7': 3481, 'cut8': 3481, 'cut9': 3446, 'cut10': 2296}), 'sig_2018_Mchi-94p5_dMchi-9p0_ctau-100': defaultdict(<class 'int'>, {'all': 13659, 'hasVtx': 4363, 'cut4': 4363, 'cut5': 3736, 'cut6': 3655, 'cut7': 3655, 'cut8': 3655, 'cut9': 3611, 'cut10': 2325}), 'sig_2018_Mchi-99p0_dMchi-18p0_ctau-10': defaultdict(<class 'int'>, {'all': 23096, 'hasVtx': 11644, 'cut4': 11644, 'cut5': 9992, 'cut6': 9751, 'cut7': 9749, 'cut8': 9749, 'cut9': 9647, 'cut10': 7739}), 'sig_2018_Mchi-99p0_dMchi-18p0_ctau-1': defaultdict(<class 'int'>, {'all': 28386, 'hasVtx': 10641, 'cut4': 10641, 'cut5': 9126, 'cut6': 8878, 'cut7': 8870, 'cut8': 8870, 'cut9': 8778, 'cut10': 6530}), 'sig_2018_Mchi-88p0_dMchi-16p0_ctau-100': defaultdict(<class 'int'>, {'all': 5352, 'hasVtx': 1851, 'cut4': 1851, 'cut5': 1600, 'cut6': 1556, 'cut7': 1556, 'cut8': 1556, 'cut9': 1538, 'cut10': 1040}), 'sig_2018_Mchi-88p0_dMchi-16p0_ctau-10': defaultdict(<class 'int'>, {'all': 5548, 'hasVtx': 2755, 'cut4': 2755, 'cut5': 2344, 'cut6': 2280, 'cut7': 2280, 'cut8': 2280, 'cut9': 2249, 'cut10': 1849}), 'sig_2018_Mchi-84p0_dMchi-8p0_ctau-100': defaultdict(<class 'int'>, {'all': 4759, 'hasVtx': 1461, 'cut4': 1461, 'cut5': 1249, 'cut6': 1219, 'cut7': 1218, 'cut8': 1218, 'cut9': 1206, 'cut10': 745}), 'sig_2018_Mchi-94p5_dMchi-9p0_ctau-10': defaultdict(<class 'int'>, {'all': 31420, 'hasVtx': 14787, 'cut4': 14787, 'cut5': 12641, 'cut6': 12342, 'cut7': 12337, 'cut8': 12337, 'cut9': 12219, 'cut10': 9895}), 'sig_2018_Mchi-94p5_dMchi-9p0_ctau-1': defaultdict(<class 'int'>, {'all': 36408, 'hasVtx': 12313, 'cut4': 12313, 'cut5': 10560, 'cut6': 10296, 'cut7': 10291, 'cut8': 10291, 'cut9': 10190, 'cut10': 7656}), 'sig_2018_Mchi-84p0_dMchi-8p0_ctau-10': defaultdict(<class 'int'>, {'all': 9605, 'hasVtx': 4337, 'cut4': 4337, 'cut5': 3695, 'cut6': 3592, 'cut7': 3591, 'cut8': 3591, 'cut9': 3556, 'cut10': 2916}), 'sig_2018_Mchi-77p0_dMchi-14p0_ctau-100': defaultdict(<class 'int'>, {'all': 4390, 'hasVtx': 1397, 'cut4': 1397, 'cut5': 1206, 'cut6': 1172, 'cut7': 1172, 'cut8': 1172, 'cut9': 1160, 'cut10': 786}), 'sig_2018_Mchi-84p0_dMchi-8p0_ctau-1': defaultdict(<class 'int'>, {'all': 12329, 'hasVtx': 4015, 'cut4': 4015, 'cut5': 3466, 'cut6': 3386, 'cut7': 3384, 'cut8': 3384, 'cut9': 3358, 'cut10': 2505}), 'sig_2018_Mchi-77p0_dMchi-14p0_ctau-10': defaultdict(<class 'int'>, {'all': 7695, 'hasVtx': 3740, 'cut4': 3740, 'cut5': 3204, 'cut6': 3121, 'cut7': 3120, 'cut8': 3120, 'cut9': 3092, 'cut10': 2589}), 'sig_2018_Mchi-73p5_dMchi-7p0_ctau-100': defaultdict(<class 'int'>, {'all': 4170, 'hasVtx': 1178, 'cut4': 1178, 'cut5': 982, 'cut6': 954, 'cut7': 954, 'cut8': 954, 'cut9': 943, 'cut10': 607}), 'sig_2018_Mchi-77p0_dMchi-14p0_ctau-1': defaultdict(<class 'int'>, {'all': 11976, 'hasVtx': 4564, 'cut4': 4564, 'cut5': 3908, 'cut6': 3780, 'cut7': 3778, 'cut8': 3778, 'cut9': 3744, 'cut10': 3001}), 'sig_2018_Mchi-63p0_dMchi-6p0_ctau-100': defaultdict(<class 'int'>, {'all': 3409, 'hasVtx': 951, 'cut4': 951, 'cut5': 827, 'cut6': 807, 'cut7': 807, 'cut8': 807, 'cut9': 802, 'cut10': 511}), 'sig_2018_Mchi-73p5_dMchi-7p0_ctau-10': defaultdict(<class 'int'>, {'all': 8221, 'hasVtx': 3707, 'cut4': 3707, 'cut5': 3208, 'cut6': 3116, 'cut7': 3115, 'cut8': 3115, 'cut9': 3087, 'cut10': 2568}), 'sig_2018_Mchi-73p5_dMchi-7p0_ctau-1': defaultdict(<class 'int'>, {'all': 10902, 'hasVtx': 3557, 'cut4': 3557, 'cut5': 2989, 'cut6': 2908, 'cut7': 2907, 'cut8': 2907, 'cut9': 2880, 'cut10': 2218}), 'sig_2018_Mchi-63p0_dMchi-6p0_ctau-10': defaultdict(<class 'int'>, {'all': 6146, 'hasVtx': 2619, 'cut4': 2619, 'cut5': 2248, 'cut6': 2191, 'cut7': 2190, 'cut8': 2190, 'cut9': 2177, 'cut10': 1817}), 'sig_2018_Mchi-5p5_dMchi-1p0_ctau-100': defaultdict(<class 'int'>, {'all': 575, 'hasVtx': 61, 'cut4': 61, 'cut5': 57, 'cut6': 56, 'cut7': 56, 'cut8': 56, 'cut9': 55, 'cut10': 17}), 'sig_2018_Mchi-5p5_dMchi-1p0_ctau-10': defaultdict(<class 'int'>, {'all': 1413, 'hasVtx': 388, 'cut4': 388, 'cut5': 334, 'cut6': 321, 'cut7': 321, 'cut8': 321, 'cut9': 317, 'cut10': 140}), 'sig_2018_Mchi-63p0_dMchi-6p0_ctau-1': defaultdict(<class 'int'>, {'all': 9138, 'hasVtx': 2949, 'cut4': 2949, 'cut5': 2522, 'cut6': 2440, 'cut7': 2440, 'cut8': 2440, 'cut9': 2420, 'cut10': 1846}), 'sig_2018_Mchi-5p5_dMchi-1p0_ctau-1': defaultdict(<class 'int'>, {'all': 2558, 'hasVtx': 717, 'cut4': 717, 'cut5': 616, 'cut6': 600, 'cut7': 600, 'cut8': 600, 'cut9': 597, 'cut10': 374}), 'sig_2018_Mchi-5p25_dMchi-0p5_ctau-100': defaultdict(<class 'int'>, {'all': 2656, 'hasVtx': 221, 'cut4': 221, 'cut5': 193, 'cut6': 184, 'cut7': 184, 'cut8': 184, 'cut9': 180, 'cut10': 19}), 'sig_2018_Mchi-5p25_dMchi-0p5_ctau-10': defaultdict(<class 'int'>, {'all': 1772, 'hasVtx': 374, 'cut4': 374, 'cut5': 331, 'cut6': 321, 'cut7': 321, 'cut8': 321, 'cut9': 317, 'cut10': 67}), 'sig_2018_Mchi-5p25_dMchi-0p5_ctau-1': defaultdict(<class 'int'>, {'all': 1910, 'hasVtx': 375, 'cut4': 375, 'cut5': 330, 'cut6': 321, 'cut7': 321, 'cut8': 321, 'cut9': 317, 'cut10': 86}), 'sig_2018_Mchi-55p0_dMchi-10p0_ctau-100': defaultdict(<class 'int'>, {'all': 3161, 'hasVtx': 930, 'cut4': 930, 'cut5': 796, 'cut6': 770, 'cut7': 770, 'cut8': 770, 'cut9': 765, 'cut10': 537}), 'sig_2018_Mchi-55p0_dMchi-10p0_ctau-10': defaultdict(<class 'int'>, {'all': 2484, 'hasVtx': 1136, 'cut4': 1136, 'cut5': 970, 'cut6': 940, 'cut7': 940, 'cut8': 940, 'cut9': 927, 'cut10': 846}), 'sig_2018_Mchi-55p0_dMchi-10p0_ctau-1': defaultdict(<class 'int'>, {'all': 648, 'hasVtx': 258, 'cut4': 258, 'cut5': 219, 'cut6': 213, 'cut7': 213, 'cut8': 213, 'cut9': 213, 'cut10': 186}), 'sig_2018_Mchi-52p5_dMchi-5p0_ctau-100': defaultdict(<class 'int'>, {'all': 5993, 'hasVtx': 1610, 'cut4': 1610, 'cut5': 1385, 'cut6': 1348, 'cut7': 1348, 'cut8': 1348, 'cut9': 1334, 'cut10': 795}), 'sig_2018_Mchi-44p0_dMchi-8p0_ctau-100': defaultdict(<class 'int'>, {'all': 4480, 'hasVtx': 1244, 'cut4': 1244, 'cut5': 1099, 'cut6': 1077, 'cut7': 1076, 'cut8': 1076, 'cut9': 1063, 'cut10': 732}), 'sig_2018_Mchi-52p5_dMchi-5p0_ctau-10': defaultdict(<class 'int'>, {'all': 7734, 'hasVtx': 3231, 'cut4': 3231, 'cut5': 2761, 'cut6': 2688, 'cut7': 2688, 'cut8': 2688, 'cut9': 2663, 'cut10': 2212}), 'sig_2018_Mchi-52p5_dMchi-5p0_ctau-1': defaultdict(<class 'int'>, {'all': 8794, 'hasVtx': 2846, 'cut4': 2846, 'cut5': 2449, 'cut6': 2398, 'cut7': 2394, 'cut8': 2394, 'cut9': 2374, 'cut10': 1801}), 'sig_2018_Mchi-44p0_dMchi-8p0_ctau-10': defaultdict(<class 'int'>, {'all': 6183, 'hasVtx': 2830, 'cut4': 2830, 'cut5': 2400, 'cut6': 2336, 'cut7': 2335, 'cut8': 2335, 'cut9': 2322, 'cut10': 2039}), 'sig_2018_Mchi-44p0_dMchi-8p0_ctau-1': defaultdict(<class 'int'>, {'all': 6744, 'hasVtx': 2560, 'cut4': 2560, 'cut5': 2192, 'cut6': 2131, 'cut7': 2131, 'cut8': 2131, 'cut9': 2103, 'cut10': 1784}), 'sig_2018_Mchi-42p0_dMchi-4p0_ctau-100': defaultdict(<class 'int'>, {'all': 6028, 'hasVtx': 1496, 'cut4': 1496, 'cut5': 1299, 'cut6': 1269, 'cut7': 1268, 'cut8': 1268, 'cut9': 1254, 'cut10': 692}), 'sig_2018_Mchi-42p0_dMchi-4p0_ctau-10': defaultdict(<class 'int'>, {'all': 6428, 'hasVtx': 2683, 'cut4': 2683, 'cut5': 2322, 'cut6': 2282, 'cut7': 2282, 'cut8': 2282, 'cut9': 2256, 'cut10': 1797}), 'sig_2018_Mchi-42p0_dMchi-4p0_ctau-1': defaultdict(<class 'int'>, {'all': 7545, 'hasVtx': 2416, 'cut4': 2416, 'cut5': 2070, 'cut6': 2009, 'cut7': 2009, 'cut8': 2009, 'cut9': 1995, 'cut10': 1462}), 'sig_2018_Mchi-33p0_dMchi-6p0_ctau-100': defaultdict(<class 'int'>, {'all': 2149, 'hasVtx': 545, 'cut4': 545, 'cut5': 475, 'cut6': 470, 'cut7': 470, 'cut8': 470, 'cut9': 465, 'cut10': 301}), 'sig_2018_Mchi-33p0_dMchi-6p0_ctau-10': defaultdict(<class 'int'>, {'all': 5008, 'hasVtx': 2199, 'cut4': 2199, 'cut5': 1905, 'cut6': 1865, 'cut7': 1865, 'cut8': 1865, 'cut9': 1848, 'cut10': 1596}), 'sig_2018_Mchi-33p0_dMchi-6p0_ctau-1': defaultdict(<class 'int'>, {'all': 6806, 'hasVtx': 2510, 'cut4': 2510, 'cut5': 2157, 'cut6': 2103, 'cut7': 2101, 'cut8': 2101, 'cut9': 2081, 'cut10': 1780}), 'sig_2018_Mchi-31p5_dMchi-3p0_ctau-100': defaultdict(<class 'int'>, {'all': 5167, 'hasVtx': 1217, 'cut4': 1217, 'cut5': 1062, 'cut6': 1043, 'cut7': 1043, 'cut8': 1043, 'cut9': 1030, 'cut10': 526}), 'sig_2018_Mchi-31p5_dMchi-3p0_ctau-10': defaultdict(<class 'int'>, {'all': 5591, 'hasVtx': 2185, 'cut4': 2185, 'cut5': 1877, 'cut6': 1850, 'cut7': 1847, 'cut8': 1847, 'cut9': 1831, 'cut10': 1357}), 'sig_2018_Mchi-22p0_dMchi-4p0_ctau-100': defaultdict(<class 'int'>, {'all': 2344, 'hasVtx': 571, 'cut4': 571, 'cut5': 498, 'cut6': 486, 'cut7': 486, 'cut8': 486, 'cut9': 478, 'cut10': 271}), 'sig_2018_Mchi-31p5_dMchi-3p0_ctau-1': defaultdict(<class 'int'>, {'all': 6266, 'hasVtx': 1908, 'cut4': 1908, 'cut5': 1677, 'cut6': 1644, 'cut7': 1643, 'cut8': 1643, 'cut9': 1628, 'cut10': 1133}), 'sig_2018_Mchi-22p0_dMchi-4p0_ctau-1': defaultdict(<class 'int'>, {'all': 5438, 'hasVtx': 1863, 'cut4': 1863, 'cut5': 1609, 'cut6': 1565, 'cut7': 1565, 'cut8': 1565, 'cut9': 1552, 'cut10': 1260}), 'sig_2018_Mchi-22p0_dMchi-4p0_ctau-10': defaultdict(<class 'int'>, {'all': 5017, 'hasVtx': 2067, 'cut4': 2067, 'cut5': 1802, 'cut6': 1745, 'cut7': 1744, 'cut8': 1744, 'cut9': 1731, 'cut10': 1349}), 'sig_2018_Mchi-21p0_dMchi-2p0_ctau-100': defaultdict(<class 'int'>, {'all': 2595, 'hasVtx': 551, 'cut4': 551, 'cut5': 477, 'cut6': 463, 'cut7': 462, 'cut8': 462, 'cut9': 460, 'cut10': 202}), 'sig_2018_Mchi-21p0_dMchi-2p0_ctau-10': defaultdict(<class 'int'>, {'all': 3355, 'hasVtx': 1206, 'cut4': 1206, 'cut5': 1025, 'cut6': 997, 'cut7': 997, 'cut8': 996, 'cut9': 987, 'cut10': 626}), 'sig_2018_Mchi-11p0_dMchi-2p0_ctau-100': defaultdict(<class 'int'>, {'all': 1787, 'hasVtx': 352, 'cut4': 352, 'cut5': 300, 'cut6': 291, 'cut7': 291, 'cut8': 291, 'cut9': 289, 'cut10': 120}), 'sig_2018_Mchi-21p0_dMchi-2p0_ctau-1': defaultdict(<class 'int'>, {'all': 4675, 'hasVtx': 1368, 'cut4': 1368, 'cut5': 1173, 'cut6': 1143, 'cut7': 1142, 'cut8': 1142, 'cut9': 1128, 'cut10': 739}), 'sig_2018_Mchi-11p0_dMchi-2p0_ctau-10': defaultdict(<class 'int'>, {'all': 3702, 'hasVtx': 1255, 'cut4': 1255, 'cut5': 1074, 'cut6': 1042, 'cut7': 1042, 'cut8': 1042, 'cut9': 1033, 'cut10': 665}), 'sig_2018_Mchi-11p0_dMchi-2p0_ctau-1': defaultdict(<class 'int'>, {'all': 4504, 'hasVtx': 1464, 'cut4': 1464, 'cut5': 1264, 'cut6': 1226, 'cut7': 1226, 'cut8': 1226, 'cut9': 1218, 'cut10': 891}), 'sig_2018_Mchi-110p0_dMchi-20p0_ctau-100': defaultdict(<class 'int'>, {'all': 6695, 'hasVtx': 2444, 'cut4': 2444, 'cut5': 2109, 'cut6': 2050, 'cut7': 2049, 'cut8': 2049, 'cut9': 2026, 'cut10': 1343}), 'sig_2018_Mchi-10p5_dMchi-1p0_ctau-100': defaultdict(<class 'int'>, {'all': 3283, 'hasVtx': 461, 'cut4': 461, 'cut5': 397, 'cut6': 383, 'cut7': 383, 'cut8': 383, 'cut9': 381, 'cut10': 129}), 'sig_2018_Mchi-110p0_dMchi-20p0_ctau-10': defaultdict(<class 'int'>, {'all': 13714, 'hasVtx': 6940, 'cut4': 6940, 'cut5': 5923, 'cut6': 5771, 'cut7': 5769, 'cut8': 5769, 'cut9': 5702, 'cut10': 4453}), 'sig_2018_Mchi-10p5_dMchi-1p0_ctau-10': defaultdict(<class 'int'>, {'all': 3597, 'hasVtx': 1047, 'cut4': 1047, 'cut5': 909, 'cut6': 883, 'cut7': 883, 'cut8': 883, 'cut9': 875, 'cut10': 407}), 'sig_2018_Mchi-110p0_dMchi-20p0_ctau-1': defaultdict(<class 'int'>, {'all': 16420, 'hasVtx': 6164, 'cut4': 6164, 'cut5': 5278, 'cut6': 5131, 'cut7': 5126, 'cut8': 5126, 'cut9': 5069, 'cut10': 3681}), 'sig_2018_Mchi-10p5_dMchi-1p0_ctau-1': defaultdict(<class 'int'>, {'all': 4731, 'hasVtx': 1208, 'cut4': 1208, 'cut5': 1021, 'cut6': 998, 'cut7': 998, 'cut8': 998, 'cut9': 989, 'cut10': 602}), 'sig_2018_Mchi-105p0_dMchi-10p0_ctau-1': defaultdict(<class 'int'>, {'all': 4399, 'hasVtx': 1460, 'cut4': 1460, 'cut5': 1230, 'cut6': 1198, 'cut7': 1198, 'cut8': 1198, 'cut9': 1184, 'cut10': 867}), 'sig_2018_Mchi-105p0_dMchi-10p0_ctau-100': defaultdict(<class 'int'>, {'all': 16416, 'hasVtx': 5472, 'cut4': 5472, 'cut5': 4707, 'cut6': 4578, 'cut7': 4577, 'cut8': 4577, 'cut9': 4530, 'cut10': 2963}), 'sig_2018_Mchi-105p0_dMchi-10p0_ctau-10': defaultdict(<class 'int'>, {'all': 26970, 'hasVtx': 12670, 'cut4': 12670, 'cut5': 10870, 'cut6': 10575, 'cut7': 10572, 'cut8': 10572, 'cut9': 10471, 'cut10': 8431})}\n"
     ]
    }
   ],
   "source": [
    "cf_s = sig_histo['cutflow']              # efficiency\n",
    "ct_s = sig_histo['cutflow_cts']          # xsec-weighted event count\n",
    "fr_s = sig_histo['cutflow_vtx_matched'] # fraction that selected vtx is truth-matched, for signal\n",
    "desc = sig_histo['cutDesc']              #cut names\n",
    "\n",
    "#---------------------Why cutflow_nevts not included?------------------\n",
    "raw_s = sig_histo['cutflow_nevts']  \n",
    "print (raw_s)"
   ]
  },
  {
   "cell_type": "code",
   "execution_count": 15,
   "id": "829eb270-e4ce-4840-9563-01e4e977f861",
   "metadata": {},
   "outputs": [
    {
     "name": "stdout",
     "output_type": "stream",
     "text": [
      "sig_2018_Mchi-99p0_dMchi-18p0_ctau-100 after preselections (raw count) = 11997\n",
      "sig_2018_Mchi-94p5_dMchi-9p0_ctau-100 after preselections (raw count) = 13659\n",
      "sig_2018_Mchi-99p0_dMchi-18p0_ctau-10 after preselections (raw count) = 23096\n",
      "sig_2018_Mchi-99p0_dMchi-18p0_ctau-1 after preselections (raw count) = 28386\n",
      "sig_2018_Mchi-88p0_dMchi-16p0_ctau-100 after preselections (raw count) = 5352\n",
      "sig_2018_Mchi-88p0_dMchi-16p0_ctau-10 after preselections (raw count) = 5548\n",
      "sig_2018_Mchi-84p0_dMchi-8p0_ctau-100 after preselections (raw count) = 4759\n",
      "sig_2018_Mchi-94p5_dMchi-9p0_ctau-10 after preselections (raw count) = 31420\n",
      "sig_2018_Mchi-94p5_dMchi-9p0_ctau-1 after preselections (raw count) = 36408\n",
      "sig_2018_Mchi-84p0_dMchi-8p0_ctau-10 after preselections (raw count) = 9605\n",
      "sig_2018_Mchi-77p0_dMchi-14p0_ctau-100 after preselections (raw count) = 4390\n",
      "sig_2018_Mchi-84p0_dMchi-8p0_ctau-1 after preselections (raw count) = 12329\n",
      "sig_2018_Mchi-77p0_dMchi-14p0_ctau-10 after preselections (raw count) = 7695\n",
      "sig_2018_Mchi-73p5_dMchi-7p0_ctau-100 after preselections (raw count) = 4170\n",
      "sig_2018_Mchi-77p0_dMchi-14p0_ctau-1 after preselections (raw count) = 11976\n",
      "sig_2018_Mchi-63p0_dMchi-6p0_ctau-100 after preselections (raw count) = 3409\n",
      "sig_2018_Mchi-73p5_dMchi-7p0_ctau-10 after preselections (raw count) = 8221\n",
      "sig_2018_Mchi-73p5_dMchi-7p0_ctau-1 after preselections (raw count) = 10902\n",
      "sig_2018_Mchi-63p0_dMchi-6p0_ctau-10 after preselections (raw count) = 6146\n",
      "sig_2018_Mchi-5p5_dMchi-1p0_ctau-100 after preselections (raw count) = 575\n",
      "sig_2018_Mchi-5p5_dMchi-1p0_ctau-10 after preselections (raw count) = 1413\n",
      "sig_2018_Mchi-63p0_dMchi-6p0_ctau-1 after preselections (raw count) = 9138\n",
      "sig_2018_Mchi-5p5_dMchi-1p0_ctau-1 after preselections (raw count) = 2558\n",
      "sig_2018_Mchi-5p25_dMchi-0p5_ctau-100 after preselections (raw count) = 2656\n",
      "sig_2018_Mchi-5p25_dMchi-0p5_ctau-10 after preselections (raw count) = 1772\n",
      "sig_2018_Mchi-5p25_dMchi-0p5_ctau-1 after preselections (raw count) = 1910\n",
      "sig_2018_Mchi-55p0_dMchi-10p0_ctau-100 after preselections (raw count) = 3161\n",
      "sig_2018_Mchi-55p0_dMchi-10p0_ctau-10 after preselections (raw count) = 2484\n",
      "sig_2018_Mchi-55p0_dMchi-10p0_ctau-1 after preselections (raw count) = 648\n",
      "sig_2018_Mchi-52p5_dMchi-5p0_ctau-100 after preselections (raw count) = 5993\n",
      "sig_2018_Mchi-44p0_dMchi-8p0_ctau-100 after preselections (raw count) = 4480\n",
      "sig_2018_Mchi-52p5_dMchi-5p0_ctau-10 after preselections (raw count) = 7734\n",
      "sig_2018_Mchi-52p5_dMchi-5p0_ctau-1 after preselections (raw count) = 8794\n",
      "sig_2018_Mchi-44p0_dMchi-8p0_ctau-10 after preselections (raw count) = 6183\n",
      "sig_2018_Mchi-44p0_dMchi-8p0_ctau-1 after preselections (raw count) = 6744\n",
      "sig_2018_Mchi-42p0_dMchi-4p0_ctau-100 after preselections (raw count) = 6028\n",
      "sig_2018_Mchi-42p0_dMchi-4p0_ctau-10 after preselections (raw count) = 6428\n",
      "sig_2018_Mchi-42p0_dMchi-4p0_ctau-1 after preselections (raw count) = 7545\n",
      "sig_2018_Mchi-33p0_dMchi-6p0_ctau-100 after preselections (raw count) = 2149\n",
      "sig_2018_Mchi-33p0_dMchi-6p0_ctau-10 after preselections (raw count) = 5008\n",
      "sig_2018_Mchi-33p0_dMchi-6p0_ctau-1 after preselections (raw count) = 6806\n",
      "sig_2018_Mchi-31p5_dMchi-3p0_ctau-100 after preselections (raw count) = 5167\n",
      "sig_2018_Mchi-31p5_dMchi-3p0_ctau-10 after preselections (raw count) = 5591\n",
      "sig_2018_Mchi-22p0_dMchi-4p0_ctau-100 after preselections (raw count) = 2344\n",
      "sig_2018_Mchi-31p5_dMchi-3p0_ctau-1 after preselections (raw count) = 6266\n",
      "sig_2018_Mchi-22p0_dMchi-4p0_ctau-1 after preselections (raw count) = 5438\n",
      "sig_2018_Mchi-22p0_dMchi-4p0_ctau-10 after preselections (raw count) = 5017\n",
      "sig_2018_Mchi-21p0_dMchi-2p0_ctau-100 after preselections (raw count) = 2595\n",
      "sig_2018_Mchi-21p0_dMchi-2p0_ctau-10 after preselections (raw count) = 3355\n",
      "sig_2018_Mchi-11p0_dMchi-2p0_ctau-100 after preselections (raw count) = 1787\n",
      "sig_2018_Mchi-21p0_dMchi-2p0_ctau-1 after preselections (raw count) = 4675\n",
      "sig_2018_Mchi-11p0_dMchi-2p0_ctau-10 after preselections (raw count) = 3702\n",
      "sig_2018_Mchi-11p0_dMchi-2p0_ctau-1 after preselections (raw count) = 4504\n",
      "sig_2018_Mchi-110p0_dMchi-20p0_ctau-100 after preselections (raw count) = 6695\n",
      "sig_2018_Mchi-10p5_dMchi-1p0_ctau-100 after preselections (raw count) = 3283\n",
      "sig_2018_Mchi-110p0_dMchi-20p0_ctau-10 after preselections (raw count) = 13714\n",
      "sig_2018_Mchi-10p5_dMchi-1p0_ctau-10 after preselections (raw count) = 3597\n",
      "sig_2018_Mchi-110p0_dMchi-20p0_ctau-1 after preselections (raw count) = 16420\n",
      "sig_2018_Mchi-10p5_dMchi-1p0_ctau-1 after preselections (raw count) = 4731\n",
      "sig_2018_Mchi-105p0_dMchi-10p0_ctau-1 after preselections (raw count) = 4399\n",
      "sig_2018_Mchi-105p0_dMchi-10p0_ctau-100 after preselections (raw count) = 16416\n",
      "sig_2018_Mchi-105p0_dMchi-10p0_ctau-10 after preselections (raw count) = 26970\n"
     ]
    }
   ],
   "source": [
    "for process in raw_s.keys():\n",
    "    print(f'{process} after preselections (raw count) = {raw_s[process][\"all\"]}')"
   ]
  },
  {
   "cell_type": "code",
   "execution_count": 17,
   "id": "adf8b6c8-6513-4d2d-a462-be5246983a0e",
   "metadata": {},
   "outputs": [
    {
     "name": "stdout",
     "output_type": "stream",
     "text": [
      "{'sig_2018_Mchi-99p0_dMchi-18p0_ctau-100': defaultdict(<class 'float'>, {'all': 0.022130613659055123, 'hasVtx': 0.007751382439603958, 'cut4': 0.007751382439603958, 'cut5': 0.006642541578549005, 'cut6': 0.006423078054448954, 'cut7': 0.0064212356942036685, 'cut8': 0.0064212356942036685, 'cut9': 0.0063566162910981185, 'cut10': 0.004235291271042684}), 'sig_2018_Mchi-94p5_dMchi-9p0_ctau-100': defaultdict(<class 'float'>, {'all': 0.018508212315340073, 'hasVtx': 0.005911993485995932, 'cut4': 0.005911993485995932, 'cut5': 0.005062468030165632, 'cut6': 0.004952663031484934, 'cut7': 0.004952663031484934, 'cut8': 0.004952663031484934, 'cut9': 0.004893063542986609, 'cut10': 0.0031505557233270113}), 'sig_2018_Mchi-99p0_dMchi-18p0_ctau-10': defaultdict(<class 'float'>, {'all': 0.045037154783835125, 'hasVtx': 0.02270601642392803, 'cut4': 0.02270601642392803, 'cut5': 0.01948486610572944, 'cut6': 0.019014926056683312, 'cut7': 0.01901102274339839, 'cut8': 0.01901102274339839, 'cut9': 0.0188121793909128, 'cut10': 0.015091383435308196}), 'sig_2018_Mchi-99p0_dMchi-18p0_ctau-1': defaultdict(<class 'float'>, {'all': 0.057554679257734796, 'hasVtx': 0.02157493037220931, 'cut4': 0.02157493037220931, 'cut5': 0.018503182804388656, 'cut6': 0.018000311873413, 'cut7': 0.017984091743697677, 'cut8': 0.017984091743697677, 'cut9': 0.01779760183111298, 'cut10': 0.013240024707647888}), 'sig_2018_Mchi-88p0_dMchi-16p0_ctau-100': defaultdict(<class 'float'>, {'all': 0.019252896550562674, 'hasVtx': 0.006658832791461135, 'cut4': 0.006658832791461135, 'cut5': 0.005755620714191138, 'cut6': 0.0055972698221563545, 'cut7': 0.0055972698221563545, 'cut8': 0.0055972698221563545, 'cut9': 0.005532506306759382, 'cut10': 0.003741333196522339}), 'sig_2018_Mchi-88p0_dMchi-16p0_ctau-10': defaultdict(<class 'float'>, {'all': 0.03833159187055411, 'hasVtx': 0.019033704682832178, 'cut4': 0.019033704682832178, 'cut5': 0.016194127537897094, 'cut6': 0.015751852624532343, 'cut7': 0.015751852624532343, 'cut8': 0.015751852624532343, 'cut9': 0.015537503396557418, 'cut10': 0.012774375841740359}), 'sig_2018_Mchi-84p0_dMchi-8p0_ctau-100': defaultdict(<class 'float'>, {'all': 0.015945853802788696, 'hasVtx': 0.004895583726142651, 'cut4': 0.004895583726142651, 'cut5': 0.004185157999085539, 'cut6': 0.004084691080624544, 'cut7': 0.004081337595331081, 'cut8': 0.004081337595331081, 'cut9': 0.004041118288171689, 'cut10': 0.0024964110444017315}), 'sig_2018_Mchi-94p5_dMchi-9p0_ctau-10': defaultdict(<class 'float'>, {'all': 0.03735983713775695, 'hasVtx': 0.0175828645833602, 'cut4': 0.0175828645833602, 'cut5': 0.015030991922058881, 'cut6': 0.014675607737091449, 'cut7': 0.014669668833130685, 'cut8': 0.014669668833130685, 'cut9': 0.01452933186621126, 'cut10': 0.011766039167619728}), 'sig_2018_Mchi-94p5_dMchi-9p0_ctau-1': defaultdict(<class 'float'>, {'all': 0.04856860500768175, 'hasVtx': 0.01642617276911214, 'cut4': 0.01642617276911214, 'cut5': 0.014087631720087987, 'cut6': 0.013735371114491439, 'cut7': 0.013728712994526134, 'cut8': 0.013728712994526134, 'cut9': 0.01359401085976262, 'cut10': 0.010213459567236575}), 'sig_2018_Mchi-84p0_dMchi-8p0_ctau-10': defaultdict(<class 'float'>, {'all': 0.0325024795809986, 'hasVtx': 0.014676304020793398, 'cut4': 0.014676304020793398, 'cut5': 0.012503823455429676, 'cut6': 0.012155338211842514, 'cut7': 0.01215196194160761, 'cut8': 0.01215196194160761, 'cut9': 0.012033584814514803, 'cut10': 0.009868181134642363}), 'sig_2018_Mchi-77p0_dMchi-14p0_ctau-100': defaultdict(<class 'float'>, {'all': 0.015447285747093137, 'hasVtx': 0.004915392885781231, 'cut4': 0.004915392885781231, 'cut5': 0.004243252004985857, 'cut6': 0.004123516152151453, 'cut7': 0.004123516152151453, 'cut8': 0.004123516152151453, 'cut9': 0.004081328367913556, 'cut10': 0.0027652332472874203}), 'sig_2018_Mchi-84p0_dMchi-8p0_ctau-1': defaultdict(<class 'float'>, {'all': 0.04129659367290283, 'hasVtx': 0.013447924473803255, 'cut4': 0.013447924473803255, 'cut5': 0.011609056196323079, 'cut6': 0.011341081946417114, 'cut7': 0.01133437465544788, 'cut8': 0.01133437465544788, 'cut9': 0.011247312783973699, 'cut10': 0.008389856488986696}), 'sig_2018_Mchi-77p0_dMchi-14p0_ctau-10': defaultdict(<class 'float'>, {'all': 0.03275361876131357, 'hasVtx': 0.01591971057095067, 'cut4': 0.01591971057095067, 'cut5': 0.013638268709079714, 'cut6': 0.013285080573045034, 'cut7': 0.013280822377912622, 'cut8': 0.013280822377912622, 'cut9': 0.013161599094459268, 'cut10': 0.011020429431748207}), 'sig_2018_Mchi-73p5_dMchi-7p0_ctau-100': defaultdict(<class 'float'>, {'all': 0.013601852050778919, 'hasVtx': 0.0038417240498917764, 'cut4': 0.0038417240498917764, 'cut5': 0.0032026459813621977, 'cut6': 0.0031113252334933573, 'cut7': 0.0031113252334933573, 'cut8': 0.0031113252334933573, 'cut9': 0.0030754078212842126, 'cut10': 0.001979812817948748}), 'sig_2018_Mchi-77p0_dMchi-14p0_ctau-1': defaultdict(<class 'float'>, {'all': 0.041925656120466885, 'hasVtx': 0.015978231797074176, 'cut4': 0.015978231797074176, 'cut5': 0.01368164587542708, 'cut6': 0.013233423690360568, 'cut7': 0.013226396586504275, 'cut8': 0.013226396586504275, 'cut9': 0.013107378719876776, 'cut10': 0.010506048695238385}), 'sig_2018_Mchi-63p0_dMchi-6p0_ctau-100': defaultdict(<class 'float'>, {'all': 0.010902428863361834, 'hasVtx': 0.0030419572648282644, 'cut4': 0.0030419572648282644, 'cut5': 0.0026452447939509685, 'cut6': 0.002581252290691437, 'cut7': 0.002581252290691437, 'cut8': 0.002581252290691437, 'cut9': 0.0025652484110339634, 'cut10': 0.001634318769603799}), 'sig_2018_Mchi-73p5_dMchi-7p0_ctau-10': defaultdict(<class 'float'>, {'all': 0.027670959677721357, 'hasVtx': 0.012477469071900798, 'cut4': 0.012477469071900798, 'cut5': 0.010798040450660445, 'cut6': 0.010488501608759276, 'cut7': 0.010485146200713885, 'cut8': 0.010485146200713885, 'cut9': 0.010390886811417076, 'cut10': 0.008644157551752739}), 'sig_2018_Mchi-73p5_dMchi-7p0_ctau-1': defaultdict(<class 'float'>, {'all': 0.035815052291631365, 'hasVtx': 0.0116864457709647, 'cut4': 0.0116864457709647, 'cut5': 0.009820055258901417, 'cut6': 0.009553847480745316, 'cut7': 0.00955056438901693, 'cut8': 0.00955056438901693, 'cut9': 0.009461832106290438, 'cut10': 0.007286703910780612}), 'sig_2018_Mchi-63p0_dMchi-6p0_ctau-10': defaultdict(<class 'float'>, {'all': 0.02281195350167812, 'hasVtx': 0.009720405293623545, 'cut4': 0.009720405293623545, 'cut5': 0.008343282360311646, 'cut6': 0.008131762715481165, 'cut7': 0.008128048698951689, 'cut8': 0.008128048698951689, 'cut9': 0.008079823566490027, 'cut10': 0.0067436880073192896}), 'sig_2018_Mchi-5p5_dMchi-1p0_ctau-100': defaultdict(<class 'float'>, {'all': 0.0019586069741226865, 'hasVtx': 0.0002078869019474068, 'cut4': 0.0002078869019474068, 'cut5': 0.0001942554679946336, 'cut6': 0.0001908391384475147, 'cut7': 0.0001908391384475147, 'cut8': 0.0001908391384475147, 'cut9': 0.0001874473242230008, 'cut10': 5.79422382369652e-05}), 'sig_2018_Mchi-5p5_dMchi-1p0_ctau-10': defaultdict(<class 'float'>, {'all': 0.0048751390699744036, 'hasVtx': 0.0013388032274308076, 'cut4': 0.0013388032274308076, 'cut5': 0.0011524705588956716, 'cut6': 0.001107594895074804, 'cut7': 0.001107594895074804, 'cut8': 0.001107594895074804, 'cut9': 0.0010938054735832282, 'cut10': 0.0004830605869146165}), 'sig_2018_Mchi-63p0_dMchi-6p0_ctau-1': defaultdict(<class 'float'>, {'all': 0.029880774305221576, 'hasVtx': 0.009642646201624758, 'cut4': 0.009642646201624758, 'cut5': 0.008246284352938895, 'cut6': 0.007978092461126218, 'cut7': 0.007978092461126218, 'cut8': 0.007978092461126218, 'cut9': 0.00791270187698848, 'cut10': 0.006035942380895569}), 'sig_2018_Mchi-5p5_dMchi-1p0_ctau-1': defaultdict(<class 'float'>, {'all': 0.0086957118506529, 'hasVtx': 0.002437597958607197, 'cut4': 0.002437597958607197, 'cut5': 0.0020941828533677606, 'cut6': 0.0020398030430982114, 'cut7': 0.0020398030430982114, 'cut8': 0.0020398030430982114, 'cut9': 0.0020296054273879907, 'cut10': 0.0012713431511277616}), 'sig_2018_Mchi-5p25_dMchi-0p5_ctau-100': defaultdict(<class 'float'>, {'all': 0.0018130384357196879, 'hasVtx': 0.000150844044626122, 'cut4': 0.000150844044626122, 'cut5': 0.00013175170370417985, 'cut6': 0.0001256060290321029, 'cut7': 0.0001256060290321029, 'cut8': 0.0001256060290321029, 'cut9': 0.00012287525415187133, 'cut10': 1.2978758706094322e-05}), 'sig_2018_Mchi-5p25_dMchi-0p5_ctau-10': defaultdict(<class 'float'>, {'all': 0.004011845679950761, 'hasVtx': 0.0008467444498214301, 'cut4': 0.0008467444498214301, 'cut5': 0.000749388969051658, 'cut6': 0.0007267533810363393, 'cut7': 0.0007267533810363393, 'cut8': 0.0007267533810363393, 'cut9': 0.0007176876396608652, 'cut10': 0.00015161314052486495}), 'sig_2018_Mchi-5p25_dMchi-0p5_ctau-1': defaultdict(<class 'float'>, {'all': 0.007935007594372129, 'hasVtx': 0.001558004654064295, 'cut4': 0.001558004654064295, 'cut5': 0.0013710089439206612, 'cut6': 0.00133364302517719, 'cut7': 0.00133364302517719, 'cut8': 0.00133364302517719, 'cut9': 0.0013169655152374408, 'cut10': 0.00035734011712905466}), 'sig_2018_Mchi-55p0_dMchi-10p0_ctau-100': defaultdict(<class 'float'>, {'all': 0.010142894766676572, 'hasVtx': 0.002983755991753856, 'cut4': 0.002983755991753856, 'cut5': 0.0025540280234255634, 'cut6': 0.0024705470003830517, 'cut7': 0.0024705470003830517, 'cut8': 0.0024705470003830517, 'cut9': 0.002454480374870608, 'cut10': 0.0017230668847085348}), 'sig_2018_Mchi-55p0_dMchi-10p0_ctau-10': defaultdict(<class 'float'>, {'all': 0.02142382529182928, 'hasVtx': 0.009797275526435186, 'cut4': 0.009797275526435186, 'cut5': 0.008365060953150266, 'cut6': 0.008106446493559108, 'cut7': 0.008106446493559108, 'cut8': 0.008106446493559108, 'cut9': 0.007994237806227827, 'cut10': 0.007295330349395734}), 'sig_2018_Mchi-55p0_dMchi-10p0_ctau-1': defaultdict(<class 'float'>, {'all': 0.02880489731345379, 'hasVtx': 0.011469829503841556, 'cut4': 0.011469829503841556, 'cut5': 0.009736923575974063, 'cut6': 0.009469734922495743, 'cut7': 0.009469734922495743, 'cut8': 0.009469734922495743, 'cut9': 0.009469734922495743, 'cut10': 0.008268698566519121}), 'sig_2018_Mchi-52p5_dMchi-5p0_ctau-100': defaultdict(<class 'float'>, {'all': 0.008691591813399483, 'hasVtx': 0.002335108554903061, 'cut4': 0.002335108554903061, 'cut5': 0.002008773573495826, 'cut6': 0.0019550691922455405, 'cut7': 0.0019550691922455405, 'cut8': 0.0019550691922455405, 'cut9': 0.0019347948477914868, 'cut10': 0.0011529518781018748}), 'sig_2018_Mchi-44p0_dMchi-8p0_ctau-100': defaultdict(<class 'float'>, {'all': 0.007600666077795009, 'hasVtx': 0.002110484024890683, 'cut4': 0.002110484024890683, 'cut5': 0.0018645795428778205, 'cut6': 0.001827226565288307, 'cut7': 0.0018255254341863585, 'cut8': 0.0018255254341863585, 'cut9': 0.0018034486622699071, 'cut10': 0.0012418746317323839}), 'sig_2018_Mchi-52p5_dMchi-5p0_ctau-10': defaultdict(<class 'float'>, {'all': 0.01859775632679067, 'hasVtx': 0.007769052039870114, 'cut4': 0.007769052039870114, 'cut5': 0.0066390613345835335, 'cut6': 0.006463476187011766, 'cut7': 0.006463476187011766, 'cut8': 0.006463476187011766, 'cut9': 0.006403351446149934, 'cut10': 0.005318664737765087}), 'sig_2018_Mchi-52p5_dMchi-5p0_ctau-1': defaultdict(<class 'float'>, {'all': 0.024166060405715468, 'hasVtx': 0.007820287908414282, 'cut4': 0.007820287908414282, 'cut5': 0.006729771083890465, 'cut6': 0.00658962795037442, 'cut7': 0.006578639180130679, 'cut8': 0.006578639180130679, 'cut9': 0.006523723410894452, 'cut10': 0.004948976374167216}), 'sig_2018_Mchi-44p0_dMchi-8p0_ctau-10': defaultdict(<class 'float'>, {'all': 0.016848151349537672, 'hasVtx': 0.0077117348934442245, 'cut4': 0.0077117348934442245, 'cut5': 0.006539792063846643, 'cut6': 0.006365410647166713, 'cut7': 0.006362684745213944, 'cut8': 0.006362684745213944, 'cut9': 0.0063272699231355, 'cut10': 0.005556260779253549}), 'sig_2018_Mchi-44p0_dMchi-8p0_ctau-1': defaultdict(<class 'float'>, {'all': 0.02218388623492197, 'hasVtx': 0.008421313864796894, 'cut4': 0.008421313864796894, 'cut5': 0.00721088743540131, 'cut6': 0.0070102853906734265, 'cut7': 0.0070102853906734265, 'cut8': 0.0070102853906734265, 'cut9': 0.006918255843966392, 'cut10': 0.005868619653140767}), 'sig_2018_Mchi-42p0_dMchi-4p0_ctau-100': defaultdict(<class 'float'>, {'all': 0.006562565823287944, 'hasVtx': 0.0016285889497462676, 'cut4': 0.0016285889497462676, 'cut5': 0.0014141144539690253, 'cut6': 0.0013814791525222565, 'cut7': 0.001380395579815425, 'cut8': 0.001380395579815425, 'cut9': 0.0013651848734497905, 'cut10': 0.0007533728154999851}), 'sig_2018_Mchi-42p0_dMchi-4p0_ctau-10': defaultdict(<class 'float'>, {'all': 0.014399855742523605, 'hasVtx': 0.006010512616801136, 'cut4': 0.006010512616801136, 'cut5': 0.005201682520969445, 'cut6': 0.005112037162495073, 'cut7': 0.005112037162495073, 'cut8': 0.005112037162495073, 'cut9': 0.005053818787163707, 'cut10': 0.0040256996105469366}), 'sig_2018_Mchi-42p0_dMchi-4p0_ctau-1': defaultdict(<class 'float'>, {'all': 0.019488795534179218, 'hasVtx': 0.006240623115587317, 'cut4': 0.006240623115587317, 'cut5': 0.0053467278410726255, 'cut6': 0.005189118654394336, 'cut7': 0.005189118654394336, 'cut8': 0.005189118654394336, 'cut9': 0.005152957060111679, 'cut10': 0.0037762546095916295}), 'sig_2018_Mchi-33p0_dMchi-6p0_ctau-100': defaultdict(<class 'float'>, {'all': 0.005511991762719819, 'hasVtx': 0.001397571409141782, 'cut4': 0.001397571409141782, 'cut5': 0.001218163954216337, 'cut6': 0.0012053696919429558, 'cut7': 0.0012053696919429558, 'cut8': 0.0012053696919429558, 'cut9': 0.0011925525562666245, 'cut10': 0.0007720246374776522}), 'sig_2018_Mchi-33p0_dMchi-6p0_ctau-10': defaultdict(<class 'float'>, {'all': 0.012458557745550226, 'hasVtx': 0.005470981885869663, 'cut4': 0.005470981885869663, 'cut5': 0.0047397076363295395, 'cut6': 0.0046400975886270205, 'cut7': 0.0046400975886270205, 'cut8': 0.0046400975886270205, 'cut9': 0.004597776852712433, 'cut10': 0.00397081212044461}), 'sig_2018_Mchi-33p0_dMchi-6p0_ctau-1': defaultdict(<class 'float'>, {'all': 0.0169622505714537, 'hasVtx': 0.006255339728518142, 'cut4': 0.006255339728518142, 'cut5': 0.005375394576373889, 'cut6': 0.005240860018654443, 'cut7': 0.005235862257167477, 'cut8': 0.005235862257167477, 'cut9': 0.005185955557119954, 'cut10': 0.004436040138016255}), 'sig_2018_Mchi-31p5_dMchi-3p0_ctau-100': defaultdict(<class 'float'>, {'all': 0.00469163139070011, 'hasVtx': 0.0011052505368609124, 'cut4': 0.0011052505368609124, 'cut5': 0.0009644913512394849, 'cut6': 0.0009472474521923523, 'cut7': 0.0009472474521923523, 'cut8': 0.0009472474521923523, 'cut9': 0.0009354453538512114, 'cut10': 0.00047764268061369406}), 'sig_2018_Mchi-31p5_dMchi-3p0_ctau-10': defaultdict(<class 'float'>, {'all': 0.010848149608519684, 'hasVtx': 0.004239453968377733, 'cut4': 0.004239453968377733, 'cut5': 0.003641884106458844, 'cut6': 0.0035895398251147366, 'cut7': 0.003583710669559435, 'cut8': 0.003583710669559435, 'cut9': 0.0035526391358768686, 'cut10': 0.00263276881740171}), 'sig_2018_Mchi-22p0_dMchi-4p0_ctau-100': defaultdict(<class 'float'>, {'all': 0.0038819864239690856, 'hasVtx': 0.0009456258165869887, 'cut4': 0.0009456258165869887, 'cut5': 0.000824756979755868, 'cut6': 0.0008048783418888104, 'cut7': 0.0008048783418888104, 'cut8': 0.0008048783418888104, 'cut9': 0.0007916185402120671, 'cut10': 0.0004488340746317648}), 'sig_2018_Mchi-31p5_dMchi-3p0_ctau-1': defaultdict(<class 'float'>, {'all': 0.014635395689093736, 'hasVtx': 0.004456351819818464, 'cut4': 0.004456351819818464, 'cut5': 0.0039166583182830925, 'cut6': 0.0038395365458319475, 'cut7': 0.0038371966224621076, 'cut8': 0.0038371966224621076, 'cut9': 0.003802186109225499, 'cut10': 0.0026460954128737267}), 'sig_2018_Mchi-22p0_dMchi-4p0_ctau-1': defaultdict(<class 'float'>, {'all': 0.012962543630708104, 'hasVtx': 0.004440619717962247, 'cut4': 0.004440619717962247, 'cut5': 0.003835111867830694, 'cut6': 0.003730260761198495, 'cut7': 0.003730260761198495, 'cut8': 0.003730260761198495, 'cut9': 0.003699259330826816, 'cut10': 0.003003141620887892}), 'sig_2018_Mchi-22p0_dMchi-4p0_ctau-10': defaultdict(<class 'float'>, {'all': 0.009596320516126619, 'hasVtx': 0.003953825245305825, 'cut4': 0.003953825245305825, 'cut5': 0.0034468724894955814, 'cut6': 0.0033378114553944565, 'cut7': 0.0033358921587107846, 'cut8': 0.0033358921587107846, 'cut9': 0.0033110482273630572, 'cut10': 0.00258042064944527}), 'sig_2018_Mchi-21p0_dMchi-2p0_ctau-100': defaultdict(<class 'float'>, {'all': 0.003372586587620071, 'hasVtx': 0.0007158739931055696, 'cut4': 0.0007158739931055696, 'cut5': 0.0006196496715123837, 'cut6': 0.0006014422012136869, 'cut7': 0.0006001381856359988, 'cut8': 0.0006001381856359988, 'cut9': 0.0005975567530735832, 'cut10': 0.00026256004061273443}), 'sig_2018_Mchi-21p0_dMchi-2p0_ctau-10': defaultdict(<class 'float'>, {'all': 0.00838707740204745, 'hasVtx': 0.003014567261270426, 'cut4': 0.003014567261270426, 'cut5': 0.002562253218712155, 'cut6': 0.002492302549942355, 'cut7': 0.002492302549942355, 'cut8': 0.002489785900605537, 'cut9': 0.002467336283045392, 'cut10': 0.001564902134835768}), 'sig_2018_Mchi-11p0_dMchi-2p0_ctau-100': defaultdict(<class 'float'>, {'all': 0.0024400462509508495, 'hasVtx': 0.0004807191475887719, 'cut4': 0.0004807191475887719, 'cut5': 0.00040973790441647744, 'cut6': 0.0003974403044695044, 'cut7': 0.0003974403044695044, 'cut8': 0.0003974403044695044, 'cut9': 0.00039470649230915214, 'cut10': 0.0001639218563896373}), 'sig_2018_Mchi-21p0_dMchi-2p0_ctau-1': defaultdict(<class 'float'>, {'all': 0.01160017902503434, 'hasVtx': 0.0033941701730895676, 'cut4': 0.0033941701730895676, 'cut5': 0.0029103143979245087, 'cut6': 0.002835861830450292, 'cut7': 0.002833371835493574, 'cut8': 0.002833371835493574, 'cut9': 0.002798648433725786, 'cut10': 0.0018336943305559583}), 'sig_2018_Mchi-11p0_dMchi-2p0_ctau-10': defaultdict(<class 'float'>, {'all': 0.006618594149625248, 'hasVtx': 0.0022435626563917194, 'cut4': 0.0022435626563917194, 'cut5': 0.0019200402688493788, 'cut6': 0.0018628821866811072, 'cut7': 0.0018628821866811072, 'cut8': 0.0018628821866811072, 'cut9': 0.0018467956078246878, 'cut10': 0.001188856211422277}), 'sig_2018_Mchi-11p0_dMchi-2p0_ctau-1': defaultdict(<class 'float'>, {'all': 0.010149751618313135, 'hasVtx': 0.0032990251426639676, 'cut4': 0.0032990251426639676, 'cut5': 0.0028483406628469505, 'cut6': 0.002762713993786607, 'cut7': 0.002762713993786607, 'cut8': 0.002762713993786607, 'cut9': 0.0027446522066079094, 'cut10': 0.002007689626803344}), 'sig_2018_Mchi-110p0_dMchi-20p0_ctau-100': defaultdict(<class 'float'>, {'all': 0.025906769702760013, 'hasVtx': 0.009456943793003192, 'cut4': 0.009456943793003192, 'cut5': 0.008160763615190136, 'cut6': 0.007932613196878218, 'cut7': 0.007928735443982609, 'cut8': 0.007928735443982609, 'cut9': 0.007839671873712194, 'cut10': 0.005197095547049958}), 'sig_2018_Mchi-10p5_dMchi-1p0_ctau-100': defaultdict(<class 'float'>, {'all': 0.0022842914550260133, 'hasVtx': 0.00032073329005532223, 'cut4': 0.00032073329005532223, 'cut5': 0.0002762199560376872, 'cut6': 0.00026647671331652615, 'cut7': 0.00026647671331652615, 'cut8': 0.00026647671331652615, 'cut9': 0.000265088808037354, 'cut10': 8.976433705206183e-05}), 'sig_2018_Mchi-110p0_dMchi-20p0_ctau-10': defaultdict(<class 'float'>, {'all': 0.051207728819284586, 'hasVtx': 0.025914605261794836, 'cut4': 0.025914605261794836, 'cut5': 0.022117039877503745, 'cut6': 0.021549259942494316, 'cut7': 0.021541779394623334, 'cut8': 0.021541779394623334, 'cut9': 0.021291540623566998, 'cut10': 0.016626995927369277}), 'sig_2018_Mchi-10p5_dMchi-1p0_ctau-10': defaultdict(<class 'float'>, {'all': 0.005590821375733521, 'hasVtx': 0.001627456109469494, 'cut4': 0.001627456109469494, 'cut5': 0.001412933982444809, 'cut6': 0.0013725308236932961, 'cut7': 0.0013725308236932961, 'cut8': 0.0013725308236932961, 'cut9': 0.0013601034226031444, 'cut10': 0.0006326015048874896}), 'sig_2018_Mchi-110p0_dMchi-20p0_ctau-1': defaultdict(<class 'float'>, {'all': 0.06372560687983093, 'hasVtx': 0.02392215789961179, 'cut4': 0.02392215789961179, 'cut5': 0.02048345731024635, 'cut6': 0.019912744464522448, 'cut7': 0.019893313612847026, 'cut8': 0.019893313612847026, 'cut9': 0.019672115421380306, 'cut10': 0.014284556637676055}), 'sig_2018_Mchi-10p5_dMchi-1p0_ctau-1': defaultdict(<class 'float'>, {'all': 0.009219166525293664, 'hasVtx': 0.0023542604519197667, 'cut4': 0.0023542604519197667, 'cut5': 0.00198992831968628, 'cut6': 0.0019451518461515403, 'cut7': 0.0019451518461515403, 'cut8': 0.0019451518461515403, 'cut9': 0.0019276307494105979, 'cut10': 0.0011732469104135013}), 'sig_2018_Mchi-105p0_dMchi-10p0_ctau-1': defaultdict(<class 'float'>, {'all': 0.055955939869869, 'hasVtx': 0.018571725978589592, 'cut4': 0.018571725978589592, 'cut5': 0.01564589472214503, 'cut6': 0.015238797236055878, 'cut7': 0.015238797236055878, 'cut8': 0.015238797236055878, 'cut9': 0.015060755478252252, 'cut10': 0.011027139348273362}), 'sig_2018_Mchi-105p0_dMchi-10p0_ctau-100': defaultdict(<class 'float'>, {'all': 0.02107545962410326, 'hasVtx': 0.007025522995307138, 'cut4': 0.007025522995307138, 'cut5': 0.0060434368294598135, 'cut6': 0.005877803417869159, 'cut7': 0.005876516025278878, 'cut8': 0.005876516025278878, 'cut9': 0.005816187815401496, 'cut10': 0.003804107039599295}), 'sig_2018_Mchi-105p0_dMchi-10p0_ctau-10': defaultdict(<class 'float'>, {'all': 0.042735772447414035, 'hasVtx': 0.020076644084403027, 'cut4': 0.020076644084403027, 'cut5': 0.017224506937168305, 'cut6': 0.01675708959724021, 'cut7': 0.016752327033894083, 'cut8': 0.016752327033894083, 'cut9': 0.0165922430190478, 'cut10': 0.013359779461925413})}\n"
     ]
    }
   ],
   "source": [
    "cf_s = sig_histo['cutflow']              # efficiency\n",
    "#print (cf_s)"
   ]
  },
  {
   "cell_type": "code",
   "execution_count": 18,
   "id": "4a41c5a8-72e1-4ba1-b5d8-d04cc7b0dcef",
   "metadata": {},
   "outputs": [
    {
     "name": "stdout",
     "output_type": "stream",
     "text": [
      "sig_2018_Mchi-99p0_dMchi-18p0_ctau-100\n"
     ]
    }
   ],
   "source": [
    "process = 'sig_2018_Mchi-99p0_dMchi-18p0_ctau-100'\n",
    "print (process)"
   ]
  },
  {
   "cell_type": "code",
   "execution_count": 21,
   "id": "32a7231d-e24a-48f9-ae92-4c6848d4009c",
   "metadata": {},
   "outputs": [
    {
     "name": "stdout",
     "output_type": "stream",
     "text": [
      "Efficiency=  selected events / total events analyzed from ntuples: defaultdict(<class 'float'>, {'all': 0.022130613659055123, 'hasVtx': 0.007751382439603958, 'cut4': 0.007751382439603958, 'cut5': 0.006642541578549005, 'cut6': 0.006423078054448954, 'cut7': 0.0064212356942036685, 'cut8': 0.0064212356942036685, 'cut9': 0.0063566162910981185, 'cut10': 0.004235291271042684})\n"
     ]
    }
   ],
   "source": [
    "print ('Efficiency=  selected events / total events analyzed from ntuples:' ,cf_s[process])"
   ]
  },
  {
   "cell_type": "code",
   "execution_count": 22,
   "id": "db29678b-39a6-4e42-b75d-51e291f16d58",
   "metadata": {},
   "outputs": [
    {
     "name": "stdout",
     "output_type": "stream",
     "text": [
      "Events (xsec weighted): defaultdict(<class 'float'>, {'all': 0.16991947802670063, 'hasVtx': 0.059515333755054696, 'cut4': 0.059515333755054696, 'cut5': 0.0510016222408671, 'cut6': 0.049316575091452756, 'cut7': 0.04930242939734599, 'cut8': 0.04930242939734599, 'cut9': 0.04880627979140864, 'cut10': 0.03251868624854665})\n"
     ]
    }
   ],
   "source": [
    "print ('Events (xsec weighted):' ,ct_s[process])"
   ]
  },
  {
   "cell_type": "code",
   "execution_count": 23,
   "id": "bb52cded-b3d8-4181-8789-bc4c76aaec81",
   "metadata": {},
   "outputs": [
    {
     "name": "stdout",
     "output_type": "stream",
     "text": [
      "{'all': 'No cuts', 'hasVtx': 'Baseline Selection', 'cut4': 'computing BDT score', 'cut5': 'No b-tagged jets', 'cut6': 'Leading jet |eta| < 2.4', 'cut7': 'Leading jet pT > 80 GeV', 'cut8': 'dPhi(MET,leading jet) > 1.5', 'cut9': 'dPhi(MET,all jets) > 0.75', 'cut10': 'BDT'}\n"
     ]
    }
   ],
   "source": [
    "cutNames = {cname:ptools.getCut(sig_histo['cutDesc'][cname]) for cname in sig_histo['cutDesc'].keys()}\n",
    "print(cutNames)"
   ]
  },
  {
   "cell_type": "code",
   "execution_count": 24,
   "id": "9b31fbfb-ff9c-4616-8da2-dc98a9d9b3f0",
   "metadata": {},
   "outputs": [
    {
     "name": "stdout",
     "output_type": "stream",
     "text": [
      "sig_2018_Mchi-99p0_dMchi-18p0_ctau-100\n",
      "\n",
      "Efficiency after No cuts: 0.022130613659055123\n"
     ]
    }
   ],
   "source": [
    "cut = 'all'\n",
    "\n",
    "print(process)\n",
    "print(f'\\nEfficiency after {cutNames[cut]}: {cf_s[process][cut]}')"
   ]
  },
  {
   "cell_type": "markdown",
   "id": "3df5cb7b-6f1a-47f4-9044-d55432a03de1",
   "metadata": {},
   "source": [
    "**The efficiency after no cuts applied is less than 1.**\n",
    "\n",
    "Note that the efficiency at 'No cuts' step is not 1. This is because, 'no cut' is from the point of coffea analyzer, but some cuts already have been applied by the skimmer."
   ]
  },
  {
   "cell_type": "code",
   "execution_count": 26,
   "id": "50efc7a0-33e6-4e09-9d8b-70560497ee0f",
   "metadata": {},
   "outputs": [
    {
     "name": "stdout",
     "output_type": "stream",
     "text": [
      "sig_2018_Mchi-99p0_dMchi-18p0_ctau-100\n",
      "\n",
      "Efficiency after Baseline Selection: 0.007751382439603958\n"
     ]
    }
   ],
   "source": [
    "cut = 'hasVtx'\n",
    "\n",
    "print(process)\n",
    "print(f'\\nEfficiency after {cutNames[cut]}: {cf_s[process][cut]}')"
   ]
  },
  {
   "cell_type": "code",
   "execution_count": null,
   "id": "a735f28f-ed33-4d21-a0ce-327df4db2700",
   "metadata": {},
   "outputs": [],
   "source": []
  }
 ],
 "metadata": {
  "kernelspec": {
   "display_name": "Python [conda env:coffea]",
   "language": "python",
   "name": "conda-env-coffea-py"
  },
  "language_info": {
   "codemirror_mode": {
    "name": "ipython",
    "version": 3
   },
   "file_extension": ".py",
   "mimetype": "text/x-python",
   "name": "python",
   "nbconvert_exporter": "python",
   "pygments_lexer": "ipython3",
   "version": "3.8.17"
  }
 },
 "nbformat": 4,
 "nbformat_minor": 5
}
