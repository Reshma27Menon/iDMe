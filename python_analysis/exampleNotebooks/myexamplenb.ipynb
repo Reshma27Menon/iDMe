{
 "cells": [
  {
   "cell_type": "markdown",
   "id": "acfc0a2c-1df9-480d-ae40-f9d0d653c283",
   "metadata": {},
   "source": [
    "This is an example notebook to explain important quantities."
   ]
  },
  {
   "cell_type": "code",
   "execution_count": 7,
   "id": "4b0341c7-cd76-4aa1-b49d-d816f05e616c",
   "metadata": {},
   "outputs": [
    {
     "name": "stdout",
     "output_type": "stream",
     "text": [
      "The autoreload extension is already loaded. To reload it, use:\n",
      "  %reload_ext autoreload\n"
     ]
    }
   ],
   "source": [
    "#Let us first import the required packages.\n",
    "\n",
    "%load_ext autoreload\n",
    "%autoreload 2\n",
    "import uproot\n",
    "import numpy as np\n",
    "import matplotlib.pyplot as plt\n",
    "import awkward as ak\n",
    "import sys\n",
    "import importlib\n",
    "import coffea.util as util\n",
    "import time\n",
    "import json\n",
    "import os\n",
    "import numba as nb\n",
    "import awkward.numba"
   ]
  },
  {
   "cell_type": "code",
   "execution_count": 8,
   "id": "52f459ac-0970-4c69-b5db-6cb031a426b4",
   "metadata": {},
   "outputs": [
    {
     "data": {
      "text/plain": [
       "{'location': '/store/group/lpcmetx/iDMe//skimmed_ntuples/signal/signal_v9_miniAOD_2018_aEM_rdfSkim_MET200/output_sig_Mchi-10p5_dMchi-1p0_ct-1/',\n",
       " 'Mchi': 10.5,\n",
       " 'dMchi': 1.0,\n",
       " 'ctau': 1,\n",
       " 'name': 'sig_Mchi-10.5_dMchi-1.0_ct-1',\n",
       " 'sum_wgt': 2.4860339635779383e-06,\n",
       " 'type': 'signal',\n",
       " 'year': 2018,\n",
       " 'alphaD': 'aEM',\n",
       " 'xsec': 40301.1609,\n",
       " 'nFiles': 1,\n",
       " 'num_events': 513160,\n",
       " 'blacklist': []}"
      ]
     },
     "execution_count": 8,
     "metadata": {},
     "output_type": "execute_result"
    }
   ],
   "source": [
    "#Let us now bring the sample file (a 2018 skimmed signal sample):\n",
    "\n",
    "sys.path.append(\"../analysisTools/\")\n",
    "from analysisTools import Analyzer\n",
    "from analysisTools import loadSchema\n",
    "import analysisTools as tools\n",
    "import analysisSubroutines as routines\n",
    "\n",
    "sample_cfg_dir = \"../configs/sample_configs/skimmed_signal/\"\n",
    "histo_cfg_dir = \"../configs/histo_configs/\"\n",
    "cut_cfg_dir = \"../configs/cut_configs/\"\n",
    "\n",
    "#load the file:\n",
    "with open(sample_cfg_dir+\"skimmed_signal_v9_miniAOD_2018_aEM.json\",\"r\") as fin:\n",
    "    sig_cfg = json.load(fin)\n",
    "\n",
    "# looking at my favourite entry\n",
    "sig_cfg[3]"
   ]
  },
  {
   "cell_type": "code",
   "execution_count": 9,
   "id": "91aecb10-4253-48b1-ab9f-085976add115",
   "metadata": {},
   "outputs": [
    {
     "data": {
      "text/plain": [
       "['root://cmseos.fnal.gov//store/group/lpcmetx/iDMe//skimmed_ntuples/signal/signal_v9_miniAOD_2018_aEM_rdfSkim_MET200/output_sig_Mchi-10p5_dMchi-1p0_ct-1//ntuples_sig_Mchi-10.5_dMchi-1.0_ct-1_0.root']"
      ]
     },
     "execution_count": 9,
     "metadata": {},
     "output_type": "execute_result"
    }
   ],
   "source": [
    "#Now, let's make a list of all the `.root` files for this sample. We will use the `XRootD` package to interact with the `eos` filesystem, where the `.root` files are stored.\n",
    "\n",
    "from XRootD import client\n",
    "loc = sig_cfg[3]['location']\n",
    "blacklist = sig_cfg[3]['blacklist']\n",
    "xrdClient = client.FileSystem(\"root://cmseos.fnal.gov\")\n",
    "status, flist = xrdClient.dirlist(loc) # get list of files in directory\n",
    "# select only non-blacklisted root files, prepend the root://cmsxrootd.fnal.gov/ to the file paths\n",
    "fullList = [\"root://cmseos.fnal.gov/\"+loc+\"/\"+item.name for item in flist if (('.root' in item.name) and (item.name not in blacklist))]\n",
    "\n",
    "fullList"
   ]
  },
  {
   "cell_type": "code",
   "execution_count": 10,
   "id": "cf649c54-096e-4723-b580-2f333793670b",
   "metadata": {},
   "outputs": [
    {
     "name": "stdout",
     "output_type": "stream",
     "text": [
      "APV\n",
      "year\n",
      "Electron_passCut\n",
      "LptElectron_passCut\n",
      "vtx_isGood\n",
      "passHEMveto\n",
      "PFJet_bLoose\n",
      "PFJet_bMed\n",
      "PFJet_bTight\n",
      "anyB_loose\n",
      "anyB_med\n",
      "anyB_tight\n",
      "trigFired\n",
      "eventNum\n",
      "lumiSec\n",
      "runNum\n",
      "trig_HLT_PFMET90_PFMHT90_IDTight\n",
      "trig_HLT_PFMET100_PFMHT100_IDTight\n",
      "trig_HLT_PFMET110_PFMHT110_IDTight\n",
      "trig_HLT_PFMET120_PFMHT120_IDTight\n",
      "trig_HLT_PFMET130_PFMHT130_IDTight\n",
      "trig_HLT_PFMET140_PFMHT140_IDTight\n",
      "trig_HLT_PFMETTypeOne110_PFMHT110_IDTight\n",
      "trig_HLT_PFMETTypeOne120_PFMHT120_IDTight\n",
      "trig_HLT_PFMETTypeOne130_PFMHT130_IDTight\n",
      "trig_HLT_PFMETTypeOne140_PFMHT140_IDTight\n",
      "trig_HLT_PFJet15\n",
      "trig_HLT_PFJet25\n",
      "trig_HLT_PFJet40\n",
      "trig_HLT_PFJet60\n",
      "trig_HLT_PFJet80\n",
      "trig_HLT_PFJet140\n",
      "trig_HLT_PFJet200\n",
      "trig_HLT_PFJet260\n",
      "trig_HLT_PFJet320\n",
      "trig_HLT_PFJet400\n",
      "trig_HLT_PFJet450\n",
      "trig_HLT_PFJet500\n",
      "trig_HLT_PFJet550\n",
      "METFiltersFailBits\n",
      "nElectron\n",
      "Electron_pt\n",
      "Electron_eta\n",
      "Electron_etaErr\n",
      "Electron_phi\n",
      "Electron_phiErr\n",
      "Electron_IDcutVeto\n",
      "Electron_IDcutLoose\n",
      "Electron_IDcutMed\n",
      "Electron_IDcutTight\n",
      "Electron_IDcutVetoInt\n",
      "Electron_IDcutLooseInt\n",
      "Electron_IDcutMedInt\n",
      "Electron_IDcutTightInt\n",
      "Electron_IDmvaIso90\n",
      "Electron_IDmvaIso80\n",
      "Electron_IDmvaIsoLoose\n",
      "Electron_IDmva90\n",
      "Electron_IDmva80\n",
      "Electron_IDmvaLoose\n",
      "Electron_angRes\n",
      "Electron_e\n",
      "Electron_vxy\n",
      "Electron_vz\n",
      "Electron_dxy\n",
      "Electron_dxyErr\n",
      "Electron_dz\n",
      "Electron_dzErr\n",
      "Electron_trkChi2\n",
      "Electron_trkIso\n",
      "Electron_trkRelIso\n",
      "Electron_calIso\n",
      "Electron_calRelIso\n",
      "Electron_PFIso\n",
      "Electron_PFRelIso\n",
      "Electron_miniIso\n",
      "Electron_miniRelIso\n",
      "Electron_PFIsoEleCorr\n",
      "Electron_PFRelIsoEleCorr\n",
      "Electron_miniIsoEleCorr\n",
      "Electron_miniRelIsoEleCorr\n",
      "Electron_chadIso\n",
      "Electron_nhadIso\n",
      "Electron_phoIso\n",
      "Electron_rhoEA\n",
      "Electron_trkProb\n",
      "Electron_numTrackerHits\n",
      "Electron_numPixHits\n",
      "Electron_numStripHits\n",
      "Electron_charge\n",
      "Electron_isPF\n",
      "Electron_genMatched\n",
      "Electron_matchType\n",
      "Electron_dRJets\n",
      "Electron_dPhiJets\n",
      "Electron_full55sigmaIetaIeta\n",
      "Electron_absdEtaSeed\n",
      "Electron_absdPhiIn\n",
      "Electron_HoverE\n",
      "Electron_abs1overEm1overP\n",
      "Electron_expMissingInnerHits\n",
      "Electron_conversionVeto\n",
      "Electron_isEE\n",
      "Electron_hasLptMatch\n",
      "Electron_lptMatchIdx\n",
      "nLptElectron\n",
      "LptElectron_pt\n",
      "LptElectron_eta\n",
      "LptElectron_etaErr\n",
      "LptElectron_phi\n",
      "LptElectron_phiErr\n",
      "LptElectron_ID\n",
      "LptElectron_angRes\n",
      "LptElectron_e\n",
      "LptElectron_vxy\n",
      "LptElectron_vz\n",
      "LptElectron_dxy\n",
      "LptElectron_dxyErr\n",
      "LptElectron_dz\n",
      "LptElectron_dzErr\n",
      "LptElectron_trkChi2\n",
      "LptElectron_trkIso\n",
      "LptElectron_trkRelIso\n",
      "LptElectron_calIso\n",
      "LptElectron_calRelIso\n",
      "LptElectron_PFIso\n",
      "LptElectron_PFRelIso\n",
      "LptElectron_miniIso\n",
      "LptElectron_miniRelIso\n",
      "LptElectron_PFIsoEleCorr\n",
      "LptElectron_PFRelIsoEleCorr\n",
      "LptElectron_miniIsoEleCorr\n",
      "LptElectron_miniRelIsoEleCorr\n",
      "LptElectron_chadIso\n",
      "LptElectron_nhadIso\n",
      "LptElectron_phoIso\n",
      "LptElectron_rhoEA\n",
      "LptElectron_trkProb\n",
      "LptElectron_numTrackerHits\n",
      "LptElectron_numPixHits\n",
      "LptElectron_numStripHits\n",
      "LptElectron_charge\n",
      "LptElectron_minDRtoReg\n",
      "LptElectron_isPF\n",
      "LptElectron_genMatched\n",
      "LptElectron_matchType\n",
      "LptElectron_dRJets\n",
      "LptElectron_dPhiJets\n",
      "LptElectron_full55sigmaIetaIeta\n",
      "LptElectron_absdEtaSeed\n",
      "LptElectron_absdPhiIn\n",
      "LptElectron_HoverE\n",
      "LptElectron_abs1overEm1overP\n",
      "LptElectron_expMissingInnerHits\n",
      "LptElectron_conversionVeto\n",
      "LptElectron_isEE\n",
      "LptElectron_xCleaned\n",
      "LptElectron_gedIdx\n",
      "LptElectron_gedIsMatched\n",
      "nPhoton\n",
      "Photon_et\n",
      "Photon_eta\n",
      "Photon_phi\n",
      "nootPhoton\n",
      "ootPhoton_et\n",
      "ootPhoton_eta\n",
      "ootPhoton_phi\n",
      "nConversion\n",
      "Conversion_pt\n",
      "Conversion_eta\n",
      "Conversion_phi\n",
      "Conversion_energy\n",
      "Conversion_px\n",
      "Conversion_py\n",
      "Conversion_pz\n",
      "Conversion_vxy\n",
      "Conversion_vz\n",
      "Conversion_x\n",
      "Conversion_y\n",
      "Conversion_z\n",
      "Conversion_lxy\n",
      "Conversion_lz\n",
      "Conversion_lxyPV\n",
      "Conversion_lzPV\n",
      "Conversion_dxy\n",
      "Conversion_dz\n",
      "Conversion_dxyPV\n",
      "Conversion_dzPV\n",
      "Conversion_EoverP\n",
      "Conversion_EoverPrefit\n",
      "Conversion_nSharedHits\n",
      "Conversion_m\n",
      "Conversion_dR\n",
      "Conversion_chi2\n",
      "Conversion_tk1_nHitsBeforeVtx\n",
      "Conversion_tk1_pt\n",
      "Conversion_tk1_eta\n",
      "Conversion_tk1_phi\n",
      "Conversion_tk1_chi2\n",
      "Conversion_tk1_nValidHits\n",
      "Conversion_tk1_nLostHits\n",
      "Conversion_tk1_dxy\n",
      "Conversion_tk1_dxyBS\n",
      "Conversion_tk1_dxyPV\n",
      "Conversion_tk1_dz\n",
      "Conversion_tk1_dzPV\n",
      "Conversion_tk2_nHitsBeforeVtx\n",
      "Conversion_tk2_pt\n",
      "Conversion_tk2_eta\n",
      "Conversion_tk2_phi\n",
      "Conversion_tk2_chi2\n",
      "Conversion_tk2_nValidHits\n",
      "Conversion_tk2_nLostHits\n",
      "Conversion_tk2_dxy\n",
      "Conversion_tk2_dxyBS\n",
      "Conversion_tk2_dxyPV\n",
      "Conversion_tk2_dz\n",
      "Conversion_tk2_dzPV\n",
      "nPFJetAll\n",
      "nPFJet\n",
      "PFJet_pt\n",
      "PFJet_eta\n",
      "PFJet_phi\n",
      "PFJet_bTag\n",
      "PFJet_METdPhi\n",
      "PFJet_CHEF\n",
      "PFJet_NHEF\n",
      "PFJet_CEEF\n",
      "PFJet_NEEF\n",
      "PFJet_corrNumDaughters\n",
      "PFJet_corrCHM\n",
      "PFJet_corrJESUp_pt\n",
      "PFJet_corrJESUp_eta\n",
      "PFJet_corrJESUp_phi\n",
      "PFJet_corrJESDown_pt\n",
      "PFJet_corrJESDown_eta\n",
      "PFJet_corrJESDown_phi\n",
      "PFJet_corrJERUp_pt\n",
      "PFJet_corrJERUp_eta\n",
      "PFJet_corrJERUp_phi\n",
      "PFJet_corrJERDown_pt\n",
      "PFJet_corrJERDown_eta\n",
      "PFJet_corrJERDown_phi\n",
      "HEM_flag\n",
      "PFMET_ET\n",
      "PFMET_pt\n",
      "PFMET_phi\n",
      "PFMET_JESUpPt\n",
      "PFMET_JESUpPhi\n",
      "PFMET_JESDownPt\n",
      "PFMET_JESDownPhi\n",
      "PFMET_JERUpPt\n",
      "PFMET_JERUpPhi\n",
      "PFMET_JERDownPt\n",
      "PFMET_JERDownPhi\n",
      "PFMET_JetResUpSmearPt\n",
      "PFMET_JetResUpSmearPhi\n",
      "PFMET_JetResDownSmearPt\n",
      "PFMET_JetResDownSmearPhi\n",
      "CaloMET_ET\n",
      "CaloMET_pt\n",
      "CaloMET_phi\n",
      "rho\n",
      "PV_x\n",
      "PV_y\n",
      "PV_z\n",
      "nvtx\n",
      "vtx_typ\n",
      "vtx_vxy\n",
      "vtx_sigmavxy\n",
      "vtx_vx\n",
      "vtx_vy\n",
      "vtx_vz\n",
      "vtx_reduced_chi2\n",
      "vtx_prob\n",
      "vtx_dR\n",
      "vtx_sign\n",
      "vtx_minDxy\n",
      "vtx_METdPhi\n",
      "vtx_pt\n",
      "vtx_eta\n",
      "vtx_phi\n",
      "vtx_energy\n",
      "vtx_m\n",
      "vtx_px\n",
      "vtx_py\n",
      "vtx_pz\n",
      "vtx_isMatched\n",
      "vtx_matchSign\n",
      "vtx_dRJets\n",
      "vtx_dPhiJets\n",
      "vtx_e1_typ\n",
      "vtx_e1_idx\n",
      "vtx_e1_isMatched\n",
      "vtx_e1_matchType\n",
      "vtx_e2_typ\n",
      "vtx_e2_idx\n",
      "vtx_e2_isMatched\n",
      "vtx_e2_matchType\n",
      "genWgt\n",
      "genPU_obs\n",
      "genPU_true\n",
      "nGenJet\n",
      "GenJet_pt\n",
      "GenJet_eta\n",
      "GenJet_phi\n",
      "GenJet_METdPhi\n",
      "GenMET_pt\n",
      "GenMET_phi\n",
      "GenMET_px\n",
      "GenMET_py\n",
      "GenMET_ET\n",
      "nGenPart\n",
      "GenPart_ID\n",
      "GenPart_motherID\n",
      "GenPart_charge\n",
      "GenPart_pt\n",
      "GenPart_eta\n",
      "GenPart_phi\n",
      "GenPart_e\n",
      "GenPart_px\n",
      "GenPart_py\n",
      "GenPart_pz\n",
      "GenPart_vxy\n",
      "GenPart_vx\n",
      "GenPart_vy\n",
      "GenPart_vz\n",
      "GenPart_mass\n",
      "GenEle_charge\n",
      "GenEle_motherID\n",
      "GenEle_pt\n",
      "GenEle_eta\n",
      "GenEle_phi\n",
      "GenEle_energy\n",
      "GenEle_px\n",
      "GenEle_py\n",
      "GenEle_pz\n",
      "GenEle_vxy\n",
      "GenEle_vz\n",
      "GenEle_vx\n",
      "GenEle_vy\n",
      "GenEle_matched\n",
      "GenEle_matchType\n",
      "GenEle_matchIdxLocal\n",
      "GenEle_matchIdxGlobal\n",
      "GenPos_charge\n",
      "GenPos_motherID\n",
      "GenPos_pt\n",
      "GenPos_eta\n",
      "GenPos_phi\n",
      "GenPos_energy\n",
      "GenPos_px\n",
      "GenPos_py\n",
      "GenPos_pz\n",
      "GenPos_vxy\n",
      "GenPos_vz\n",
      "GenPos_vx\n",
      "GenPos_vy\n",
      "GenPos_matched\n",
      "GenPos_matchType\n",
      "GenPos_matchIdxLocal\n",
      "GenPos_matchIdxGlobal\n",
      "signalReconstructed\n",
      "genEE_pt\n",
      "genEE_eta\n",
      "genEE_phi\n",
      "genEE_energy\n",
      "genEE_mass\n",
      "genEE_dr\n",
      "genEE_METdPhi\n",
      "genEE_vxy\n",
      "genEE_vz\n",
      "genEE_vx\n",
      "genEE_vy\n"
     ]
    }
   ],
   "source": [
    "## Using `uproot` to open files\n",
    "\n",
    "#Now we will use the uproot package to load in a ROOT file and look at its contents. All of the event data is stored in a `TTree` object called `outT` inside the `ntuples` directory of the file.\n",
    "\n",
    "# open the first file in the list (there is only one file in the list!)\n",
    "\n",
    "t = uproot.open(fullList[0])['ntuples/outT']\n",
    "print(\"\\n\".join(t.keys()))"
   ]
  },
  {
   "cell_type": "markdown",
   "id": "a446ff70-93ef-4c11-a956-88dae24cc35c",
   "metadata": {},
   "source": [
    "Now, let us focus on the important quantitites I have discussed before."
   ]
  },
  {
   "cell_type": "code",
   "execution_count": 13,
   "id": "f485d532-62d7-4b47-a487-df948c86b17d",
   "metadata": {},
   "outputs": [
    {
     "name": "stdout",
     "output_type": "stream",
     "text": [
      "[4.24, 0.526, 1.72, 0.54, 1.96, 0.542, ... 0.485, 1.57, 0.794, 0.845, 0.295, 0.134]\n",
      "[0.235, 0.0437, 0.0285, 0.0508, 0.199, ... 0.0889, 0.235, 0.145, 0.0442, 0.0873]\n",
      "[-0.123, -0.0193, -0.027, 0.104, 0.0741, ... 0.0292, -0.176, 0.0952, 0.0277, 0.0787]\n",
      "[4.79, 16.8, 16.4, 19.8, 7.81, 11.6, 7.08, ... 3.7, 13.2, 2.87, 7.67, 27.8, 15.5]\n"
     ]
    }
   ],
   "source": [
    "#Important quantities:\n",
    "gen_vxy=t['genEE_vxy'].array()\n",
    "print (gen_vxy)\n",
    "\n",
    "gen_dr=t['genEE_dr'].array()\n",
    "print (gen_dr)\n",
    "\n",
    "gen_METdphi=t['genEE_METdPhi'].array()\n",
    "print (gen_METdphi)\n",
    "\n",
    "gen_pt=t['genEE_pt'].array()\n",
    "print (gen_pt)"
   ]
  },
  {
   "cell_type": "markdown",
   "id": "84f128fa-4cfb-475c-b0f1-1d4a981d5074",
   "metadata": {},
   "source": [
    "It's time to plot them using coffea. We use loadNano function from NanoEvents package. "
   ]
  },
  {
   "cell_type": "code",
   "execution_count": 12,
   "id": "2a4b66ce-77f5-415d-a35d-9a9d9b862e91",
   "metadata": {},
   "outputs": [
    {
     "data": {
      "text/plain": [
       "['PFJet',\n",
       " 'PFMET',\n",
       " 'Photon',\n",
       " 'GenJet',\n",
       " 'Electron',\n",
       " 'HEM',\n",
       " 'runNum',\n",
       " 'nPFJetAll',\n",
       " 'genEE',\n",
       " 'passHEMveto',\n",
       " 'ootPhoton',\n",
       " 'METFiltersFailBits',\n",
       " 'genWgt',\n",
       " 'year',\n",
       " 'rho',\n",
       " 'LptElectron',\n",
       " 'eventNum',\n",
       " 'trigFired',\n",
       " 'genPU',\n",
       " 'signalReconstructed',\n",
       " 'Conversion',\n",
       " 'PV',\n",
       " 'GenPart',\n",
       " 'GenPos',\n",
       " 'trig',\n",
       " 'GenEle',\n",
       " 'vtx',\n",
       " 'CaloMET',\n",
       " 'APV',\n",
       " 'lumiSec',\n",
       " 'anyB',\n",
       " 'GenMET']"
      ]
     },
     "execution_count": 12,
     "metadata": {},
     "output_type": "execute_result"
    }
   ],
   "source": [
    "infile=fullList[0]\n",
    "events=tools.loadNano(infile)\n",
    "events.fields\n"
   ]
  },
  {
   "cell_type": "code",
   "execution_count": 16,
   "id": "3b07baf8-1a1e-4895-b71d-a003b40ff543",
   "metadata": {},
   "outputs": [
    {
     "name": "stdout",
     "output_type": "stream",
     "text": [
      "[3.88, 4.62, 4.79, 7.34, 3.18, 8.1, 4.4, ... 1.25, 12.3, 0.885, 3.39, 10.4, 10.3]\n",
      "[0.933, 12.2, 11.6, 12.5, 4.63, 3.5, 2.68, ... 2.47, 0.951, 1.98, 4.28, 17.5, 5.21]\n",
      "[4.24, 0.526, 1.72, 0.54, 1.96, 0.542, ... 0.485, 1.57, 0.794, 0.845, 0.295, 0.134]\n",
      "[4.24, 0.526, 1.72, 0.54, 1.96, 0.542, ... 0.485, 1.57, 0.794, 0.845, 0.295, 0.134]\n"
     ]
    },
    {
     "data": {
      "image/png": "[encoded data removed]",
      "text/plain": [
       "<Figure size 640x480 with 2 Axes>"
      ]
     },
     "metadata": {},
     "output_type": "display_data"
    }
   ],
   "source": [
    "#A very simple histogram for gen electron/ gen positrons:\n",
    "\n",
    "import hist\n",
    "from hist import Hist\n",
    "import numpy as np\n",
    "\n",
    "#Making a histogram:\n",
    "plt.subplot(121)   #Focusses on the gen electron/ gen positron pT. \n",
    "\n",
    "h_pt = hist.Hist(\n",
    "    hist.axis.Regular(30,0,40,name=\"$p_T$ in GeV\"), # a \"Regular\" axis for storing the electron/positron pT\n",
    "    hist.axis.StrCategory(['GenElectrons','GenPositrons'],name=\"elepos\")\n",
    ")\n",
    "\n",
    "gen_ele = events.GenEle.pt\n",
    "gen_pos = events.GenPos.pt\n",
    "\n",
    "print (gen_ele)\n",
    "elemn=np.mean(gen_ele)\n",
    "print (gen_pos)\n",
    "elepos=np.mean(gen_pos)\n",
    "\n",
    "h_pt.fill(gen_ele,elepos = \"GenElectrons\")\n",
    "h_pt.fill(gen_pos,elepos = \"GenPositrons\")\n",
    "h_pt.plot1d(overlay = 'elepos')\n",
    "plt.legend()\n",
    "\n",
    "#Focusses on the gen electron/ gen positron vxy\n",
    "plt.subplot(122)\n",
    "h_vxy = hist.Hist(\n",
    "    hist.axis.Regular(30,0,40,name=\"$v_{xy}$ in cm\"), # a \"Regular\" axis for storing the electron/positron pT\n",
    "    hist.axis.StrCategory(['GenElectrons','GenPositrons'],name=\"elepos\")\n",
    ")\n",
    "\n",
    "gen_ele = events.GenEle.vxy\n",
    "gen_pos = events.GenPos.vxy\n",
    "\n",
    "print (gen_ele)\n",
    "elemn=np.mean(gen_ele)\n",
    "print (gen_pos)\n",
    "elepos=np.mean(gen_pos)\n",
    "\n",
    "h_vxy.fill(gen_ele,elepos = \"GenElectrons\")\n",
    "h_vxy.fill(gen_pos,elepos = \"GenPositrons\")\n",
    "h_vxy.plot1d(overlay = 'elepos')   #They overlap in this case\n",
    "plt.legend()\n",
    "plt.tight_layout()\n",
    "plt.savefig(\"gen pos vs gen ele.png\")"
   ]
  },
  {
   "cell_type": "code",
   "execution_count": 17,
   "id": "4c15061b-187f-44b7-95ca-41778e880fdf",
   "metadata": {},
   "outputs": [
    {
     "name": "stdout",
     "output_type": "stream",
     "text": [
      "[0.235, 0.0437, 0.0285, 0.0508, 0.199, ... 0.0889, 0.235, 0.145, 0.0442, 0.0873]\n",
      "[-0.123, -0.0193, -0.027, 0.104, 0.0741, ... 0.0292, -0.176, 0.0952, 0.0277, 0.0787]\n",
      "0.0011640515297734555\n"
     ]
    },
    {
     "data": {
      "image/png": "[encoded data removed]",
      "text/plain": [
       "<Figure size 640x480 with 2 Axes>"
      ]
     },
     "metadata": {},
     "output_type": "display_data"
    }
   ],
   "source": [
    "#A very simple histogram:\n",
    "\n",
    "import hist\n",
    "from hist import Hist\n",
    "import numpy as np\n",
    "import matplotlib.pyplot as plt\n",
    "\n",
    "plt.suptitle(\"genEE histograms\")\n",
    "\n",
    "plt.subplot(121)\n",
    "\n",
    "h_dr = hist.Hist(\n",
    "hist.axis.Regular(40,0,3,name=\"genEE_dr in radians\"))\n",
    "\n",
    "gen_DR = events.genEE.dr\n",
    "print (gen_DR)\n",
    "mn=np.mean(gen_DR)\n",
    "h_dr.fill(gen_DR)\n",
    "h_dr.plot1d()\n",
    "\n",
    "\n",
    "plt.subplot(122)\n",
    "\n",
    "h_met = hist.Hist(\n",
    "    hist.axis.Regular(60,-2,2,name=\"genEE_METdPhi\"))\n",
    "\n",
    "gen_metdphi = events.genEE.METdPhi\n",
    "\n",
    "\n",
    "print (gen_metdphi)\n",
    "mn=np.mean(gen_metdphi)\n",
    "print (mn)\n",
    "h_met.fill(gen_metdphi)\n",
    "h_met.plot1d()\n",
    "\n",
    "plt.tight_layout()\n",
    "plt.savefig(\"genEE\")\n"
   ]
  },
  {
   "cell_type": "code",
   "execution_count": 18,
   "id": "32a2f445-ef70-4ead-865d-0c5bb80fdeee",
   "metadata": {},
   "outputs": [
    {
     "name": "stdout",
     "output_type": "stream",
     "text": [
      "[4.24, 0.526, 1.72, 0.54, 1.96, 0.542, ... 0.485, 1.57, 0.794, 0.845, 0.295, 0.134]\n",
      "1.0393433168117343\n"
     ]
    },
    {
     "data": {
      "image/png": "[encoded data removed]",
      "text/plain": [
       "<Figure size 640x480 with 1 Axes>"
      ]
     },
     "metadata": {},
     "output_type": "display_data"
    }
   ],
   "source": [
    "#For genEE_vxy:\n",
    "\n",
    "import hist\n",
    "from hist import Hist\n",
    "import numpy as np\n",
    "\n",
    "#Making a histogram:\n",
    "h = hist.Hist(\n",
    "    hist.axis.Regular(60, 0, 7,name=\"genEE_$v_{xy}$ in cm\")\n",
    ")\n",
    "\n",
    "gen_vxy = events.genEE.vxy\n",
    "\n",
    "print (gen_vxy)\n",
    "mn = np.mean(gen_vxy)\n",
    "print (mn)\n",
    "h.fill(gen_vxy)\n",
    "\n",
    "h.plot1d()\n",
    "\n",
    "plt.savefig(\"eta only\")"
   ]
  },
  {
   "cell_type": "markdown",
   "id": "74100842-6908-4179-9787-54d7810012a2",
   "metadata": {},
   "source": [
    "Since we now know and understand the 3 important quantitites, it is time to compare them using different samples.\n",
    "\n",
    "Aim: Change the masses of ch1, ch2 and focus on MET dphi, dr and pt plots."
   ]
  },
  {
   "cell_type": "code",
   "execution_count": 29,
   "id": "0dfd31a6-0f01-42ec-8c01-a01a2ebf05e4",
   "metadata": {},
   "outputs": [
    {
     "data": {
      "text/plain": [
       "{'location': '/store/group/lpcmetx/iDMe//skimmed_ntuples/signal/signal_v9_miniAOD_2018_aEM_rdfSkim_MET200/output_sig_Mchi-10p5_dMchi-1p0_ct-1/',\n",
       " 'Mchi': 10.5,\n",
       " 'dMchi': 1.0,\n",
       " 'ctau': 1,\n",
       " 'name': 'sig_Mchi-10.5_dMchi-1.0_ct-1',\n",
       " 'sum_wgt': 2.4860339635779383e-06,\n",
       " 'type': 'signal',\n",
       " 'year': 2018,\n",
       " 'alphaD': 'aEM',\n",
       " 'xsec': 40301.1609,\n",
       " 'nFiles': 1,\n",
       " 'num_events': 513160,\n",
       " 'blacklist': []}"
      ]
     },
     "execution_count": 29,
     "metadata": {},
     "output_type": "execute_result"
    }
   ],
   "source": [
    "#Samples:\n",
    "\n",
    "sig_cfg[3]  #sample1"
   ]
  },
  {
   "cell_type": "code",
   "execution_count": 30,
   "id": "ac2abf32-194a-44a3-95d4-5f9170c5d467",
   "metadata": {},
   "outputs": [
    {
     "data": {
      "text/plain": [
       "{'location': '/store/group/lpcmetx/iDMe//skimmed_ntuples/signal/signal_v9_miniAOD_2018_aEM_rdfSkim_MET200/output_sig_Mchi-105p0_dMchi-10p0_ct-1/',\n",
       " 'Mchi': 105.0,\n",
       " 'dMchi': 10.0,\n",
       " 'ctau': 1,\n",
       " 'name': 'sig_Mchi-105.0_dMchi-10.0_ct-1',\n",
       " 'sum_wgt': 2.3678271645621862e-06,\n",
       " 'type': 'signal',\n",
       " 'year': 2018,\n",
       " 'alphaD': 'aEM',\n",
       " 'xsec': 277.338399693,\n",
       " 'nFiles': 1,\n",
       " 'num_events': 78615,\n",
       " 'blacklist': []}"
      ]
     },
     "execution_count": 30,
     "metadata": {},
     "output_type": "execute_result"
    }
   ],
   "source": [
    "sig_cfg[0]   #sample2"
   ]
  },
  {
   "cell_type": "code",
   "execution_count": 63,
   "id": "476b062c-7c7d-4a94-85b2-c55c1acb5cde",
   "metadata": {},
   "outputs": [
    {
     "data": {
      "text/plain": [
       "{'location': '/store/group/lpcmetx/iDMe//skimmed_ntuples/signal/signal_v9_miniAOD_2018_aEM_rdfSkim_MET200/output_sig_Mchi-21p0_dMchi-2p0_ct-1/',\n",
       " 'Mchi': 21.0,\n",
       " 'dMchi': 2.0,\n",
       " 'ctau': 1,\n",
       " 'name': 'sig_Mchi-21.0_dMchi-2.0_ct-1',\n",
       " 'sum_wgt': 9.511019015917554e-06,\n",
       " 'type': 'signal',\n",
       " 'year': 2018,\n",
       " 'alphaD': 'aEM',\n",
       " 'xsec': 25833.374,\n",
       " 'nFiles': 1,\n",
       " 'num_events': 402997,\n",
       " 'blacklist': []}"
      ]
     },
     "execution_count": 63,
     "metadata": {},
     "output_type": "execute_result"
    }
   ],
   "source": [
    "sig_cfg[12] #sample3"
   ]
  },
  {
   "cell_type": "markdown",
   "id": "29785422-2f4b-4167-bfb9-8a943e8b78b2",
   "metadata": {},
   "source": [
    "The samples chosen above have varying m1, m2 but constant ctau value. "
   ]
  },
  {
   "cell_type": "code",
   "execution_count": 64,
   "id": "aaff2689-f80c-4638-bad6-5b99a73c3d2b",
   "metadata": {},
   "outputs": [
    {
     "name": "stdout",
     "output_type": "stream",
     "text": [
      "['root://cmseos.fnal.gov//store/group/lpcmetx/iDMe//skimmed_ntuples/signal/signal_v9_miniAOD_2018_aEM_rdfSkim_MET200/output_sig_Mchi-10p5_dMchi-1p0_ct-1//ntuples_sig_Mchi-10.5_dMchi-1.0_ct-1_0.root']\n",
      "['root://cmseos.fnal.gov//store/group/lpcmetx/iDMe//skimmed_ntuples/signal/signal_v9_miniAOD_2018_aEM_rdfSkim_MET200/output_sig_Mchi-105p0_dMchi-10p0_ct-1//ntuples_sig_Mchi-105.0_dMchi-10.0_ct-1_0.root']\n",
      "['root://cmseos.fnal.gov//store/group/lpcmetx/iDMe//skimmed_ntuples/signal/signal_v9_miniAOD_2018_aEM_rdfSkim_MET200/output_sig_Mchi-21p0_dMchi-2p0_ct-1//ntuples_sig_Mchi-21.0_dMchi-2.0_ct-1_0.root']\n"
     ]
    }
   ],
   "source": [
    "#Now, let's make a list of all the `.root` files for this sample. We will use the `XRootD` package to interact with the `eos` filesystem, where the `.root` files are stored.\n",
    "\n",
    "from XRootD import client\n",
    "\n",
    "#sample1\n",
    "loc1 = sig_cfg[3]['location']\n",
    "blacklist1 = sig_cfg[3]['blacklist']\n",
    "xrdClient1 = client.FileSystem(\"root://cmseos.fnal.gov\")\n",
    "status, flist1 = xrdClient1.dirlist(loc1) # get list of files in directory\n",
    "# select only non-blacklisted root files, prepend the root://cmsxrootd.fnal.gov/ to the file paths\n",
    "fullList1 = [\"root://cmseos.fnal.gov/\"+loc1+\"/\"+item.name for item in flist1 if (('.root' in item.name) and (item.name not in blacklist1))]\n",
    "fullList1\n",
    "\n",
    "#sample2\n",
    "loc2 = sig_cfg[0]['location']\n",
    "blacklist2 = sig_cfg[0]['blacklist']\n",
    "xrdClient2 = client.FileSystem(\"root://cmseos.fnal.gov\")\n",
    "status, flist2 = xrdClient2.dirlist(loc2) # get list of files in directory\n",
    "# select only non-blacklisted root files, prepend the root://cmsxrootd.fnal.gov/ to the file paths\n",
    "fullList2 = [\"root://cmseos.fnal.gov/\"+loc2+\"/\"+item.name for item in flist2 if (('.root' in item.name) and (item.name not in blacklist2))]\n",
    "fullList2\n",
    "\n",
    "#sample3\n",
    "loc3 = sig_cfg[12]['location']\n",
    "blacklist3 = sig_cfg[12]['blacklist']\n",
    "xrdClient3 = client.FileSystem(\"root://cmseos.fnal.gov\")\n",
    "status, flist3 = xrdClient3.dirlist(loc3) # get list of files in directory\n",
    "# select only non-blacklisted root files, prepend the root://cmsxrootd.fnal.gov/ to the file paths\n",
    "fullList3 = [\"root://cmseos.fnal.gov/\"+loc3+\"/\"+item.name for item in flist3 if (('.root' in item.name) and (item.name not in blacklist3))]\n",
    "fullList3\n",
    "\n",
    "print (fullList1)\n",
    "print (fullList2)\n",
    "print (fullList3)"
   ]
  },
  {
   "cell_type": "code",
   "execution_count": 65,
   "id": "7712007a-6aac-44e9-9381-d66a65e972a0",
   "metadata": {},
   "outputs": [],
   "source": [
    "t1 = uproot.open(fullList1[0])['ntuples/outT']\n",
    "#print(\"\\n\".join(t1.keys()))\n",
    "#print (\"...\")\n",
    "t2 = uproot.open(fullList2[0])['ntuples/outT']\n",
    "#print(\"\\n\".join(t2.keys()))\n",
    "\n",
    "t3 = uproot.open(fullList3[0])['ntuples/outT']\n",
    "#print(\"\\n\".join(t3.keys()))"
   ]
  },
  {
   "cell_type": "code",
   "execution_count": 78,
   "id": "94699fe6-a24c-484c-854a-c4f101c9f033",
   "metadata": {},
   "outputs": [
    {
     "name": "stdout",
     "output_type": "stream",
     "text": [
      "['PFJet', 'PFMET', 'Photon', 'GenJet', 'Electron', 'HEM', 'runNum', 'nPFJetAll', 'genEE', 'passHEMveto', 'ootPhoton', 'METFiltersFailBits', 'genWgt', 'year', 'rho', 'LptElectron', 'eventNum', 'trigFired', 'genPU', 'signalReconstructed', 'Conversion', 'PV', 'GenPart', 'GenPos', 'trig', 'GenEle', 'vtx', 'CaloMET', 'APV', 'lumiSec', 'anyB', 'GenMET']\n",
      "['PFJet', 'PFMET', 'Photon', 'GenJet', 'Electron', 'HEM', 'runNum', 'nPFJetAll', 'genEE', 'passHEMveto', 'ootPhoton', 'METFiltersFailBits', 'genWgt', 'year', 'rho', 'LptElectron', 'eventNum', 'trigFired', 'genPU', 'signalReconstructed', 'Conversion', 'PV', 'GenPart', 'GenPos', 'trig', 'GenEle', 'vtx', 'CaloMET', 'APV', 'lumiSec', 'anyB', 'GenMET']\n",
      "['PFJet', 'PFMET', 'Photon', 'GenJet', 'Electron', 'HEM', 'runNum', 'nPFJetAll', 'genEE', 'passHEMveto', 'ootPhoton', 'METFiltersFailBits', 'genWgt', 'year', 'rho', 'LptElectron', 'eventNum', 'trigFired', 'genPU', 'signalReconstructed', 'Conversion', 'PV', 'GenPart', 'GenPos', 'trig', 'GenEle', 'vtx', 'CaloMET', 'APV', 'lumiSec', 'anyB', 'GenMET']\n"
     ]
    }
   ],
   "source": [
    "infile1=fullList1[0]\n",
    "events1=tools.loadNano(infile1)\n",
    "print(events1.fields)\n",
    "\n",
    "infile2=fullList2[0]\n",
    "events2=tools.loadNano(infile2)\n",
    "print(events2.fields)\n",
    "\n",
    "infile3=fullList3[0]\n",
    "events3=tools.loadNano(infile3)\n",
    "print(events3.fields)"
   ]
  },
  {
   "cell_type": "code",
   "execution_count": 103,
   "id": "93f9122c-67fd-450c-a1f2-b998296ac8e5",
   "metadata": {},
   "outputs": [
    {
     "data": {
      "image/png": "[encoded data removed]",
      "text/plain": [
       "<Figure size 640x480 with 1 Axes>"
      ]
     },
     "metadata": {},
     "output_type": "display_data"
    }
   ],
   "source": [
    "#Histograms for comparison:\n",
    "import hist\n",
    "from hist import Hist\n",
    "import numpy as np\n",
    "\n",
    "#Making a histogram:\n",
    "\n",
    "h_pt = hist.Hist(\n",
    "hist.axis.Regular(50,0,50,name=\"genEE $p_T$ in GeV\"),\n",
    "hist.axis.StrCategory(['m1 =10 GeV, dm=1 GeV, ctau=1cm','m1 =21 GeV, dm=2 GeV, ctau=1cm','m1 =105 GeV, dm=10 GeV, ctau=1cm'],name=\"samples\")\n",
    "\n",
    ")\n",
    "\n",
    "gen_pt1 = events1.genEE.pt\n",
    "gen_pt2 = events2.genEE.pt\n",
    "gen_pt3 = events3.genEE.pt\n",
    "\n",
    "h_pt.fill(gen_pt1, samples='m1 =10 GeV, dm=1 GeV, ctau=1cm')\n",
    "h_pt.fill(gen_pt3, samples='m1 =21 GeV, dm=2 GeV, ctau=1cm')\n",
    "h_pt.fill(gen_pt2, samples='m1 =105 GeV, dm=10 GeV, ctau=1cm')\n",
    "\n",
    "h_pt.plot1d()   \n",
    "plt.legend()\n",
    "#hist.axis.StrCategory(['m1 =10GeV, dm=1 GeV'],name=\"samples\")\n",
    "plt.savefig(\"3pts\")"
   ]
  },
  {
   "cell_type": "code",
   "execution_count": 116,
   "id": "a718d3d5-670c-4e73-99f5-edb9c140d984",
   "metadata": {},
   "outputs": [
    {
     "data": {
      "image/png": "[encoded data removed]",
      "text/plain": [
       "<Figure size 640x480 with 1 Axes>"
      ]
     },
     "metadata": {},
     "output_type": "display_data"
    }
   ],
   "source": [
    "#Histograms for comparison:\n",
    "import hist\n",
    "from hist import Hist\n",
    "import numpy as np\n",
    "\n",
    "#Making a histogram:\n",
    "\n",
    "h_mt = hist.Hist(\n",
    "hist.axis.Regular(60,-3,3,name=\"genEE METdPhi\"),\n",
    "hist.axis.StrCategory(['m1 =10 GeV, dm=1 GeV, ctau=1cm','m1 =21 GeV, dm=2 GeV, ctau=1cm','m1 =105 GeV, dm=10 GeV, ctau=1cm'],name=\"samples\")\n",
    "\n",
    ")\n",
    "\n",
    "gen_mt1 = events1.genEE.METdPhi\n",
    "gen_mt2 = events2.genEE.METdPhi\n",
    "gen_mt3 = events3.genEE.METdPhi\n",
    "\n",
    "h_mt.fill(gen_mt1, samples='m1 =10 GeV, dm=1 GeV, ctau=1cm')\n",
    "h_mt.fill(gen_mt3, samples='m1 =21 GeV, dm=2 GeV, ctau=1cm')\n",
    "h_mt.fill(gen_mt2, samples='m1 =105 GeV, dm=10 GeV, ctau=1cm')\n",
    "\n",
    "h_mt.plot1d()   \n",
    "plt.legend(loc='upper right',fontsize=\"7\",labelspacing=1.5)\n",
    "#hist.axis.StrCategory(['m1 =10GeV, dm=1 GeV'],name=\"samples\")\n",
    "plt.savefig(\"3mts\")"
   ]
  },
  {
   "cell_type": "code",
   "execution_count": null,
   "id": "6ebdffd0-ce16-4ab8-8941-e5600a1481a4",
   "metadata": {},
   "outputs": [],
   "source": []
  }
 ],
 "metadata": {
  "kernelspec": {
   "display_name": "Python [conda env:coffea]",
   "language": "python",
   "name": "conda-env-coffea-py"
  },
  "language_info": {
   "codemirror_mode": {
    "name": "ipython",
    "version": 3
   },
   "file_extension": ".py",
   "mimetype": "text/x-python",
   "name": "python",
   "nbconvert_exporter": "python",
   "pygments_lexer": "ipython3",
   "version": "3.8.17"
  }
 },
 "nbformat": 4,
 "nbformat_minor": 5
}
