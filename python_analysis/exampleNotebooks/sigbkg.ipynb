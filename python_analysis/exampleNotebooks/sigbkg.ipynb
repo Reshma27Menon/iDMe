{
 "cells": [
  {
   "cell_type": "markdown",
   "id": "7a2142b3-98c8-4ef5-a196-0235acc1c058",
   "metadata": {},
   "source": [
    "This notebook is used to run coffea for signal and background."
   ]
  },
  {
   "cell_type": "code",
   "execution_count": 2,
   "id": "60107c78-e939-447a-9b5b-da7c7e326fb5",
   "metadata": {},
   "outputs": [
    {
     "name": "stdout",
     "output_type": "stream",
     "text": [
      "The autoreload extension is already loaded. To reload it, use:\n",
      "  %reload_ext autoreload\n"
     ]
    },
    {
     "ename": "ModuleNotFoundError",
     "evalue": "No module named 'histos_SR'",
     "output_type": "error",
     "traceback": [
      "\u001b[0;31m---------------------------------------------------------------------------\u001b[0m",
      "\u001b[0;31mModuleNotFoundError\u001b[0m                       Traceback (most recent call last)",
      "Cell \u001b[0;32mIn[2], line 47\u001b[0m\n\u001b[1;32m     43\u001b[0m \u001b[38;5;66;03m#otherwise skip model_config. Rest same.\u001b[39;00m\n\u001b[1;32m     44\u001b[0m \u001b[38;5;66;03m#For details check Analyzer class in python_analysis/analysisTools/analysisTools.py\u001b[39;00m\n\u001b[1;32m     46\u001b[0m t1 \u001b[38;5;241m=\u001b[39m time\u001b[38;5;241m.\u001b[39mtime()\n\u001b[0;32m---> 47\u001b[0m out \u001b[38;5;241m=\u001b[39m \u001b[43manalyzer\u001b[49m\u001b[38;5;241;43m.\u001b[39;49m\u001b[43mprocess\u001b[49m\u001b[43m(\u001b[49m\u001b[43mexecr\u001b[49m\u001b[38;5;241;43m=\u001b[39;49m\u001b[38;5;124;43m'\u001b[39;49m\u001b[38;5;124;43mfutures\u001b[39;49m\u001b[38;5;124;43m'\u001b[39;49m\u001b[43m)\u001b[49m\n\u001b[1;32m     48\u001b[0m t2 \u001b[38;5;241m=\u001b[39m time\u001b[38;5;241m.\u001b[39mtime()\n\u001b[1;32m     49\u001b[0m \u001b[38;5;28mprint\u001b[39m (t1)\n",
      "File \u001b[0;32m/uscms_data/d3/reshmar/CMSSW_10_6_26/src/iDMe/python_analysis/exampleNotebooks/../analysisTools/analysisTools.py:138\u001b[0m, in \u001b[0;36mAnalyzer.process\u001b[0;34m(self, treename, execr, workers, dask_client, procType, **kwargs)\u001b[0m\n\u001b[1;32m    136\u001b[0m fileset \u001b[38;5;241m=\u001b[39m \u001b[38;5;28mself\u001b[39m\u001b[38;5;241m.\u001b[39msample_locs\n\u001b[1;32m    137\u001b[0m \u001b[38;5;28;01mif\u001b[39;00m procType \u001b[38;5;241m==\u001b[39m \u001b[38;5;124m'\u001b[39m\u001b[38;5;124mdefault\u001b[39m\u001b[38;5;124m'\u001b[39m:\n\u001b[0;32m--> 138\u001b[0m     proc \u001b[38;5;241m=\u001b[39m \u001b[43miDMeProcessor\u001b[49m\u001b[43m(\u001b[49m\u001b[38;5;28;43mself\u001b[39;49m\u001b[38;5;241;43m.\u001b[39;49m\u001b[43msample_names\u001b[49m\u001b[43m,\u001b[49m\u001b[38;5;28;43mself\u001b[39;49m\u001b[38;5;241;43m.\u001b[39;49m\u001b[43msample_info\u001b[49m\u001b[43m,\u001b[49m\u001b[38;5;28;43mself\u001b[39;49m\u001b[38;5;241;43m.\u001b[39;49m\u001b[43msample_locs\u001b[49m\u001b[43m,\u001b[49m\u001b[38;5;28;43mself\u001b[39;49m\u001b[38;5;241;43m.\u001b[39;49m\u001b[43mhistoFile\u001b[49m\u001b[43m,\u001b[49m\u001b[38;5;28;43mself\u001b[39;49m\u001b[38;5;241;43m.\u001b[39;49m\u001b[43mcuts\u001b[49m\u001b[43m,\u001b[49m\u001b[43mmode\u001b[49m\u001b[38;5;241;43m=\u001b[39;49m\u001b[38;5;28;43mself\u001b[39;49m\u001b[38;5;241;43m.\u001b[39;49m\u001b[43mmode\u001b[49m\u001b[43m,\u001b[49m\u001b[38;5;241;43m*\u001b[39;49m\u001b[38;5;241;43m*\u001b[39;49m\u001b[43mkwargs\u001b[49m\u001b[43m)\u001b[49m\n\u001b[1;32m    139\u001b[0m \u001b[38;5;28;01melif\u001b[39;00m procType \u001b[38;5;241m==\u001b[39m \u001b[38;5;124m'\u001b[39m\u001b[38;5;124mgen\u001b[39m\u001b[38;5;124m'\u001b[39m:\n\u001b[1;32m    140\u001b[0m     proc \u001b[38;5;241m=\u001b[39m genProcessor(\u001b[38;5;28mself\u001b[39m\u001b[38;5;241m.\u001b[39msample_names,\u001b[38;5;28mself\u001b[39m\u001b[38;5;241m.\u001b[39msample_info,\u001b[38;5;28mself\u001b[39m\u001b[38;5;241m.\u001b[39msample_locs,\u001b[38;5;28mself\u001b[39m\u001b[38;5;241m.\u001b[39mhistoFile,\u001b[38;5;28mself\u001b[39m\u001b[38;5;241m.\u001b[39mcuts,mode\u001b[38;5;241m=\u001b[39m\u001b[38;5;28mself\u001b[39m\u001b[38;5;241m.\u001b[39mmode,\u001b[38;5;241m*\u001b[39m\u001b[38;5;241m*\u001b[39mkwargs)\n",
      "File \u001b[0;32m/uscms_data/d3/reshmar/CMSSW_10_6_26/src/iDMe/python_analysis/exampleNotebooks/../analysisTools/analysisTools.py:179\u001b[0m, in \u001b[0;36miDMeProcessor.__init__\u001b[0;34m(self, samples, sampleInfo, fileSet, histoFile, cutFile, mode, **kwargs)\u001b[0m\n\u001b[1;32m    176\u001b[0m \u001b[38;5;28mself\u001b[39m\u001b[38;5;241m.\u001b[39mmode \u001b[38;5;241m=\u001b[39m mode\n\u001b[1;32m    178\u001b[0m \u001b[38;5;66;03m# load in histogram config\u001b[39;00m\n\u001b[0;32m--> 179\u001b[0m \u001b[38;5;28mself\u001b[39m\u001b[38;5;241m.\u001b[39mhistoMod \u001b[38;5;241m=\u001b[39m \u001b[43mimportlib\u001b[49m\u001b[38;5;241;43m.\u001b[39;49m\u001b[43mimport_module\u001b[49m\u001b[43m(\u001b[49m\u001b[43mhistoFile\u001b[49m\u001b[43m)\u001b[49m\n\u001b[1;32m    180\u001b[0m \u001b[38;5;28mself\u001b[39m\u001b[38;5;241m.\u001b[39mhistoFill \u001b[38;5;241m=\u001b[39m \u001b[38;5;28mself\u001b[39m\u001b[38;5;241m.\u001b[39mhistoMod\u001b[38;5;241m.\u001b[39mfillHistos\n\u001b[1;32m    181\u001b[0m \u001b[38;5;28mself\u001b[39m\u001b[38;5;241m.\u001b[39msubroutines \u001b[38;5;241m=\u001b[39m \u001b[38;5;28mself\u001b[39m\u001b[38;5;241m.\u001b[39mhistoMod\u001b[38;5;241m.\u001b[39msubroutines\n",
      "File \u001b[0;32m~/nobackup/miniconda3/envs/coffea/lib/python3.8/importlib/__init__.py:127\u001b[0m, in \u001b[0;36mimport_module\u001b[0;34m(name, package)\u001b[0m\n\u001b[1;32m    125\u001b[0m             \u001b[38;5;28;01mbreak\u001b[39;00m\n\u001b[1;32m    126\u001b[0m         level \u001b[38;5;241m+\u001b[39m\u001b[38;5;241m=\u001b[39m \u001b[38;5;241m1\u001b[39m\n\u001b[0;32m--> 127\u001b[0m \u001b[38;5;28;01mreturn\u001b[39;00m \u001b[43m_bootstrap\u001b[49m\u001b[38;5;241;43m.\u001b[39;49m\u001b[43m_gcd_import\u001b[49m\u001b[43m(\u001b[49m\u001b[43mname\u001b[49m\u001b[43m[\u001b[49m\u001b[43mlevel\u001b[49m\u001b[43m:\u001b[49m\u001b[43m]\u001b[49m\u001b[43m,\u001b[49m\u001b[43m \u001b[49m\u001b[43mpackage\u001b[49m\u001b[43m,\u001b[49m\u001b[43m \u001b[49m\u001b[43mlevel\u001b[49m\u001b[43m)\u001b[49m\n",
      "File \u001b[0;32m<frozen importlib._bootstrap>:1014\u001b[0m, in \u001b[0;36m_gcd_import\u001b[0;34m(name, package, level)\u001b[0m\n",
      "File \u001b[0;32m<frozen importlib._bootstrap>:991\u001b[0m, in \u001b[0;36m_find_and_load\u001b[0;34m(name, import_)\u001b[0m\n",
      "File \u001b[0;32m<frozen importlib._bootstrap>:973\u001b[0m, in \u001b[0;36m_find_and_load_unlocked\u001b[0;34m(name, import_)\u001b[0m\n",
      "\u001b[0;31mModuleNotFoundError\u001b[0m: No module named 'histos_SR'"
     ]
    }
   ],
   "source": [
    "#Importing the packages:\n",
    "\n",
    "%load_ext autoreload\n",
    "%autoreload 2\n",
    "import numpy as np\n",
    "import matplotlib.pyplot as plt\n",
    "import awkward as ak\n",
    "import time\n",
    "import json\n",
    "import os\n",
    "import glob\n",
    "\n",
    "import sys\n",
    "sys.path.append(\"../analysisTools/\")\n",
    "\n",
    "from analysisTools import Analyzer\n",
    "from analysisTools import loadSchema\n",
    "import analysisTools as tools\n",
    "import analysisSubroutines as routines\n",
    "import importlib\n",
    "import coffea.util as util\n",
    "\n",
    "\n",
    "#Run coffea on skimmed ntuples:\n",
    "\n",
    "#Configs:\n",
    "cuts_config = \"./configs/cut_configs/SR_BDT_OneBin.py\"\n",
    "histos_config = \"./configs/histo_configs/histos_SR.py\"\n",
    "\n",
    "#If using BDT in cuts:\n",
    "model_config = \"./configs/models/BDT_inclusive_10Vars.json\"\n",
    "\n",
    "#Output:\n",
    "outdir = \"./coffea/skimmed/\"\n",
    "os.makedirs(outdir, exist_ok=True)\n",
    "\n",
    "#Bring the sample:\n",
    "sample_config = \"../configs/sample_configs/skimmed_signal/skimmed_signal_v9_miniAOD_2018_aEM_noNJetCut.json\"\n",
    "#sample_config = \"../configs/sample_configs/skimmed_signal/skimmed_signal_v9_miniAOD_2018_aEM_noNJetCut.json\"\n",
    "\n",
    "#If using BDT in cuts:\n",
    "analyzer = Analyzer(sample_config, histos_config, cuts_config, model_config) \n",
    "#otherwise skip model_config. Rest same.\n",
    "#For details check Analyzer class in python_analysis/analysisTools/analysisTools.py\n",
    "\n",
    "t1 = time.time()\n",
    "out = analyzer.process(execr='futures')\n",
    "t2 = time.time()\n",
    "print (t1)"
   ]
  },
  {
   "cell_type": "code",
   "execution_count": null,
   "id": "2f5439dc-1713-4686-a26e-b1e6720881bc",
   "metadata": {},
   "outputs": [],
   "source": []
  }
 ],
 "metadata": {
  "kernelspec": {
   "display_name": "Python [conda env:coffea]",
   "language": "python",
   "name": "conda-env-coffea-py"
  },
  "language_info": {
   "codemirror_mode": {
    "name": "ipython",
    "version": 3
   },
   "file_extension": ".py",
   "mimetype": "text/x-python",
   "name": "python",
   "nbconvert_exporter": "python",
   "pygments_lexer": "ipython3",
   "version": "3.8.17"
  }
 },
 "nbformat": 4,
 "nbformat_minor": 5
}
