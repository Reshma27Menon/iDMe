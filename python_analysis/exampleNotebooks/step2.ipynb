{
 "cells": [
  {
   "cell_type": "code",
   "execution_count": 4,
   "id": "01a9209d-2ddb-44c0-bd21-938df5c28dc9",
   "metadata": {},
   "outputs": [
    {
     "name": "stdout",
     "output_type": "stream",
     "text": [
      "The autoreload extension is already loaded. To reload it, use:\n",
      "  %reload_ext autoreload\n"
     ]
    },
    {
     "ename": "ImportError",
     "evalue": "cannot import name 'cmap_petroff' from 'mplhep.styles.cms' (/uscms/home/reshmar/nobackup/miniconda3/envs/coffea/lib/python3.8/site-packages/mplhep/styles/cms.py)",
     "output_type": "error",
     "traceback": [
      "\u001b[0;31m---------------------------------------------------------------------------\u001b[0m",
      "\u001b[0;31mImportError\u001b[0m                               Traceback (most recent call last)",
      "Cell \u001b[0;32mIn[4], line 17\u001b[0m\n\u001b[1;32m     14\u001b[0m \u001b[38;5;28;01mimport\u001b[39;00m \u001b[38;5;21;01msys\u001b[39;00m\n\u001b[1;32m     16\u001b[0m sys\u001b[38;5;241m.\u001b[39mpath\u001b[38;5;241m.\u001b[39mappend(\u001b[38;5;124m\"\u001b[39m\u001b[38;5;124m../analysisTools/\u001b[39m\u001b[38;5;124m\"\u001b[39m)\n\u001b[0;32m---> 17\u001b[0m \u001b[38;5;28;01mimport\u001b[39;00m \u001b[38;5;21;01mplotTools\u001b[39;00m \u001b[38;5;28;01mas\u001b[39;00m \u001b[38;5;21;01mptools\u001b[39;00m\n",
      "File \u001b[0;32m/uscms_data/d3/reshmar/CMSSW_10_6_26/src/iDMe/python_analysis/exampleNotebooks/../analysisTools/plotTools.py:18\u001b[0m\n\u001b[1;32m     15\u001b[0m \u001b[38;5;28;01mfrom\u001b[39;00m \u001b[38;5;21;01mmatplotlib\u001b[39;00m\u001b[38;5;21;01m.\u001b[39;00m\u001b[38;5;21;01mcolors\u001b[39;00m \u001b[38;5;28;01mimport\u001b[39;00m Normalize, LogNorm\n\u001b[1;32m     16\u001b[0m \u001b[38;5;28;01mimport\u001b[39;00m \u001b[38;5;21;01mutils\u001b[39;00m\n\u001b[0;32m---> 18\u001b[0m \u001b[38;5;28;01mfrom\u001b[39;00m \u001b[38;5;21;01mmplhep\u001b[39;00m\u001b[38;5;21;01m.\u001b[39;00m\u001b[38;5;21;01mstyles\u001b[39;00m\u001b[38;5;21;01m.\u001b[39;00m\u001b[38;5;21;01mcms\u001b[39;00m \u001b[38;5;28;01mimport\u001b[39;00m cmap_petroff\n\u001b[1;32m     19\u001b[0m bkg_cmap \u001b[38;5;241m=\u001b[39m {\n\u001b[1;32m     20\u001b[0m     \u001b[38;5;124m\"\u001b[39m\u001b[38;5;124mQCD\u001b[39m\u001b[38;5;124m\"\u001b[39m:cmap_petroff[\u001b[38;5;241m0\u001b[39m],\n\u001b[1;32m     21\u001b[0m     \u001b[38;5;124m\"\u001b[39m\u001b[38;5;124mWJets\u001b[39m\u001b[38;5;124m\"\u001b[39m:cmap_petroff[\u001b[38;5;241m1\u001b[39m],\n\u001b[0;32m   (...)\u001b[0m\n\u001b[1;32m     26\u001b[0m     \u001b[38;5;124m\"\u001b[39m\u001b[38;5;124mZGamma\u001b[39m\u001b[38;5;124m\"\u001b[39m:\u001b[38;5;124m\"\u001b[39m\u001b[38;5;124mkhaki\u001b[39m\u001b[38;5;124m\"\u001b[39m\n\u001b[1;32m     27\u001b[0m }\n\u001b[1;32m     28\u001b[0m selected_signals \u001b[38;5;241m=\u001b[39m [\n\u001b[1;32m     29\u001b[0m     \u001b[38;5;124m\"\u001b[39m\u001b[38;5;124msig_2018_Mchi-10p5_dMchi-1p0_ctau-1\u001b[39m\u001b[38;5;124m\"\u001b[39m,\n\u001b[1;32m     30\u001b[0m     \u001b[38;5;124m\"\u001b[39m\u001b[38;5;124msig_2018_Mchi-11p0_dMchi-2p0_ctau-100\u001b[39m\u001b[38;5;124m\"\u001b[39m,\n\u001b[1;32m     31\u001b[0m     \u001b[38;5;124m\"\u001b[39m\u001b[38;5;124msig_2018_Mchi-52p5_dMchi-5p0_ctau-10\u001b[39m\u001b[38;5;124m\"\u001b[39m,\n\u001b[1;32m     32\u001b[0m     \u001b[38;5;124m\"\u001b[39m\u001b[38;5;124msig_2018_Mchi-77p0_dMchi-14p0_ctau-100\u001b[39m\u001b[38;5;124m\"\u001b[39m\n\u001b[1;32m     33\u001b[0m ]\n",
      "\u001b[0;31mImportError\u001b[0m: cannot import name 'cmap_petroff' from 'mplhep.styles.cms' (/uscms/home/reshmar/nobackup/miniconda3/envs/coffea/lib/python3.8/site-packages/mplhep/styles/cms.py)"
     ]
    }
   ],
   "source": [
    "#Imports:\n",
    "%load_ext autoreload\n",
    "%autoreload 2\n",
    "import numpy as np\n",
    "import matplotlib.pyplot as plt\n",
    "from coffea import util\n",
    "from coffea.processor import accumulate\n",
    "import os\n",
    "import re\n",
    "import pandas as pd\n",
    "import hist\n",
    "import matplotlib as mpl\n",
    "import mplhep\n",
    "import sys\n",
    "\n",
    "sys.path.append(\"../analysisTools/\")\n",
    "import plotTools as ptools"
   ]
  },
  {
   "cell_type": "markdown",
   "id": "b5b10f4a-0784-433e-9a57-ed0d2791e7ce",
   "metadata": {},
   "source": [
    "**Import coffea files -- signal and background**"
   ]
  },
  {
   "cell_type": "code",
   "execution_count": 6,
   "id": "b145e536-7fba-4d71-a2c3-7842a1a7a04a",
   "metadata": {},
   "outputs": [
    {
     "name": "stdout",
     "output_type": "stream",
     "text": [
      "['bdtScore', 'gen_met_noWgt', 'gen_met', 'gen_leadjet_pt', 'gen_leadjet_pt_noWgt', 'cutDesc', 'cutflow', 'cutflow_cts', 'cutflow_nevts', 'cutflow_vtx_matched']\n"
     ]
    }
   ],
   "source": [
    "#coffea files-- signal:\n",
    "f_sig = \"../coffea/skimmed/example_signal_skimmed_SR.coffea\"\n",
    "sig_histo = util.load(f_sig) [0] #This is a dictionary of variables.\n",
    "li = list (sig_histo.keys())\n",
    "print (li)\n",
    "\n",
    "#sig_histo is a nested dictionary. li lists the keys of dictionary: sig_histo.\n"
   ]
  },
  {
   "cell_type": "code",
   "execution_count": 13,
   "id": "cdaf69ae-aa8d-4820-b162-a62c2d572912",
   "metadata": {},
   "outputs": [
    {
     "name": "stdout",
     "output_type": "stream",
     "text": [
      "{'sig_2018_Mchi-99p0_dMchi-18p0_ctau-100': defaultdict(<class 'float'>, {'all': 0.022130613659055123, 'hasVtx': 0.007751382439603958, 'cut4': 0.007751382439603958, 'cut5': 0.006642541578549005, 'cut6': 0.006423078054448954, 'cut7': 0.0064212356942036685, 'cut8': 0.0064212356942036685, 'cut9': 0.0063566162910981185, 'cut10': 0.004235291271042684}), 'sig_2018_Mchi-94p5_dMchi-9p0_ctau-100': defaultdict(<class 'float'>, {'all': 0.018508212315340073, 'hasVtx': 0.005911993485995932, 'cut4': 0.005911993485995932, 'cut5': 0.005062468030165632, 'cut6': 0.004952663031484934, 'cut7': 0.004952663031484934, 'cut8': 0.004952663031484934, 'cut9': 0.004893063542986609, 'cut10': 0.0031505557233270113}), 'sig_2018_Mchi-99p0_dMchi-18p0_ctau-10': defaultdict(<class 'float'>, {'all': 0.045037154783835125, 'hasVtx': 0.02270601642392803, 'cut4': 0.02270601642392803, 'cut5': 0.01948486610572944, 'cut6': 0.019014926056683312, 'cut7': 0.01901102274339839, 'cut8': 0.01901102274339839, 'cut9': 0.0188121793909128, 'cut10': 0.015091383435308196}), 'sig_2018_Mchi-99p0_dMchi-18p0_ctau-1': defaultdict(<class 'float'>, {'all': 0.057554679257734796, 'hasVtx': 0.02157493037220931, 'cut4': 0.02157493037220931, 'cut5': 0.018503182804388656, 'cut6': 0.018000311873413, 'cut7': 0.017984091743697677, 'cut8': 0.017984091743697677, 'cut9': 0.01779760183111298, 'cut10': 0.013240024707647888}), 'sig_2018_Mchi-88p0_dMchi-16p0_ctau-100': defaultdict(<class 'float'>, {'all': 0.019252896550562674, 'hasVtx': 0.006658832791461135, 'cut4': 0.006658832791461135, 'cut5': 0.005755620714191138, 'cut6': 0.0055972698221563545, 'cut7': 0.0055972698221563545, 'cut8': 0.0055972698221563545, 'cut9': 0.005532506306759382, 'cut10': 0.003741333196522339}), 'sig_2018_Mchi-88p0_dMchi-16p0_ctau-10': defaultdict(<class 'float'>, {'all': 0.03833159187055411, 'hasVtx': 0.019033704682832178, 'cut4': 0.019033704682832178, 'cut5': 0.016194127537897094, 'cut6': 0.015751852624532343, 'cut7': 0.015751852624532343, 'cut8': 0.015751852624532343, 'cut9': 0.015537503396557418, 'cut10': 0.012774375841740359}), 'sig_2018_Mchi-84p0_dMchi-8p0_ctau-100': defaultdict(<class 'float'>, {'all': 0.015945853802788696, 'hasVtx': 0.004895583726142651, 'cut4': 0.004895583726142651, 'cut5': 0.004185157999085539, 'cut6': 0.004084691080624544, 'cut7': 0.004081337595331081, 'cut8': 0.004081337595331081, 'cut9': 0.004041118288171689, 'cut10': 0.0024964110444017315}), 'sig_2018_Mchi-94p5_dMchi-9p0_ctau-10': defaultdict(<class 'float'>, {'all': 0.03735983713775695, 'hasVtx': 0.0175828645833602, 'cut4': 0.0175828645833602, 'cut5': 0.015030991922058881, 'cut6': 0.014675607737091449, 'cut7': 0.014669668833130685, 'cut8': 0.014669668833130685, 'cut9': 0.01452933186621126, 'cut10': 0.011766039167619728}), 'sig_2018_Mchi-94p5_dMchi-9p0_ctau-1': defaultdict(<class 'float'>, {'all': 0.04856860500768175, 'hasVtx': 0.01642617276911214, 'cut4': 0.01642617276911214, 'cut5': 0.014087631720087987, 'cut6': 0.013735371114491439, 'cut7': 0.013728712994526134, 'cut8': 0.013728712994526134, 'cut9': 0.01359401085976262, 'cut10': 0.010213459567236575}), 'sig_2018_Mchi-84p0_dMchi-8p0_ctau-10': defaultdict(<class 'float'>, {'all': 0.0325024795809986, 'hasVtx': 0.014676304020793398, 'cut4': 0.014676304020793398, 'cut5': 0.012503823455429676, 'cut6': 0.012155338211842514, 'cut7': 0.01215196194160761, 'cut8': 0.01215196194160761, 'cut9': 0.012033584814514803, 'cut10': 0.009868181134642363}), 'sig_2018_Mchi-77p0_dMchi-14p0_ctau-100': defaultdict(<class 'float'>, {'all': 0.015447285747093137, 'hasVtx': 0.004915392885781231, 'cut4': 0.004915392885781231, 'cut5': 0.004243252004985857, 'cut6': 0.004123516152151453, 'cut7': 0.004123516152151453, 'cut8': 0.004123516152151453, 'cut9': 0.004081328367913556, 'cut10': 0.0027652332472874203}), 'sig_2018_Mchi-84p0_dMchi-8p0_ctau-1': defaultdict(<class 'float'>, {'all': 0.04129659367290283, 'hasVtx': 0.013447924473803255, 'cut4': 0.013447924473803255, 'cut5': 0.011609056196323079, 'cut6': 0.011341081946417114, 'cut7': 0.01133437465544788, 'cut8': 0.01133437465544788, 'cut9': 0.011247312783973699, 'cut10': 0.008389856488986696}), 'sig_2018_Mchi-77p0_dMchi-14p0_ctau-10': defaultdict(<class 'float'>, {'all': 0.03275361876131357, 'hasVtx': 0.01591971057095067, 'cut4': 0.01591971057095067, 'cut5': 0.013638268709079714, 'cut6': 0.013285080573045034, 'cut7': 0.013280822377912622, 'cut8': 0.013280822377912622, 'cut9': 0.013161599094459268, 'cut10': 0.011020429431748207}), 'sig_2018_Mchi-73p5_dMchi-7p0_ctau-100': defaultdict(<class 'float'>, {'all': 0.013601852050778919, 'hasVtx': 0.0038417240498917764, 'cut4': 0.0038417240498917764, 'cut5': 0.0032026459813621977, 'cut6': 0.0031113252334933573, 'cut7': 0.0031113252334933573, 'cut8': 0.0031113252334933573, 'cut9': 0.0030754078212842126, 'cut10': 0.001979812817948748}), 'sig_2018_Mchi-77p0_dMchi-14p0_ctau-1': defaultdict(<class 'float'>, {'all': 0.041925656120466885, 'hasVtx': 0.015978231797074176, 'cut4': 0.015978231797074176, 'cut5': 0.01368164587542708, 'cut6': 0.013233423690360568, 'cut7': 0.013226396586504275, 'cut8': 0.013226396586504275, 'cut9': 0.013107378719876776, 'cut10': 0.010506048695238385}), 'sig_2018_Mchi-63p0_dMchi-6p0_ctau-100': defaultdict(<class 'float'>, {'all': 0.010902428863361834, 'hasVtx': 0.0030419572648282644, 'cut4': 0.0030419572648282644, 'cut5': 0.0026452447939509685, 'cut6': 0.002581252290691437, 'cut7': 0.002581252290691437, 'cut8': 0.002581252290691437, 'cut9': 0.0025652484110339634, 'cut10': 0.001634318769603799}), 'sig_2018_Mchi-73p5_dMchi-7p0_ctau-10': defaultdict(<class 'float'>, {'all': 0.027670959677721357, 'hasVtx': 0.012477469071900798, 'cut4': 0.012477469071900798, 'cut5': 0.010798040450660445, 'cut6': 0.010488501608759276, 'cut7': 0.010485146200713885, 'cut8': 0.010485146200713885, 'cut9': 0.010390886811417076, 'cut10': 0.008644157551752739}), 'sig_2018_Mchi-73p5_dMchi-7p0_ctau-1': defaultdict(<class 'float'>, {'all': 0.035815052291631365, 'hasVtx': 0.0116864457709647, 'cut4': 0.0116864457709647, 'cut5': 0.009820055258901417, 'cut6': 0.009553847480745316, 'cut7': 0.00955056438901693, 'cut8': 0.00955056438901693, 'cut9': 0.009461832106290438, 'cut10': 0.007286703910780612}), 'sig_2018_Mchi-63p0_dMchi-6p0_ctau-10': defaultdict(<class 'float'>, {'all': 0.02281195350167812, 'hasVtx': 0.009720405293623545, 'cut4': 0.009720405293623545, 'cut5': 0.008343282360311646, 'cut6': 0.008131762715481165, 'cut7': 0.008128048698951689, 'cut8': 0.008128048698951689, 'cut9': 0.008079823566490027, 'cut10': 0.0067436880073192896}), 'sig_2018_Mchi-5p5_dMchi-1p0_ctau-100': defaultdict(<class 'float'>, {'all': 0.0019586069741226865, 'hasVtx': 0.0002078869019474068, 'cut4': 0.0002078869019474068, 'cut5': 0.0001942554679946336, 'cut6': 0.0001908391384475147, 'cut7': 0.0001908391384475147, 'cut8': 0.0001908391384475147, 'cut9': 0.0001874473242230008, 'cut10': 5.79422382369652e-05}), 'sig_2018_Mchi-5p5_dMchi-1p0_ctau-10': defaultdict(<class 'float'>, {'all': 0.0048751390699744036, 'hasVtx': 0.0013388032274308076, 'cut4': 0.0013388032274308076, 'cut5': 0.0011524705588956716, 'cut6': 0.001107594895074804, 'cut7': 0.001107594895074804, 'cut8': 0.001107594895074804, 'cut9': 0.0010938054735832282, 'cut10': 0.0004830605869146165}), 'sig_2018_Mchi-63p0_dMchi-6p0_ctau-1': defaultdict(<class 'float'>, {'all': 0.029880774305221576, 'hasVtx': 0.009642646201624758, 'cut4': 0.009642646201624758, 'cut5': 0.008246284352938895, 'cut6': 0.007978092461126218, 'cut7': 0.007978092461126218, 'cut8': 0.007978092461126218, 'cut9': 0.00791270187698848, 'cut10': 0.006035942380895569}), 'sig_2018_Mchi-5p5_dMchi-1p0_ctau-1': defaultdict(<class 'float'>, {'all': 0.0086957118506529, 'hasVtx': 0.002437597958607197, 'cut4': 0.002437597958607197, 'cut5': 0.0020941828533677606, 'cut6': 0.0020398030430982114, 'cut7': 0.0020398030430982114, 'cut8': 0.0020398030430982114, 'cut9': 0.0020296054273879907, 'cut10': 0.0012713431511277616}), 'sig_2018_Mchi-5p25_dMchi-0p5_ctau-100': defaultdict(<class 'float'>, {'all': 0.0018130384357196879, 'hasVtx': 0.000150844044626122, 'cut4': 0.000150844044626122, 'cut5': 0.00013175170370417985, 'cut6': 0.0001256060290321029, 'cut7': 0.0001256060290321029, 'cut8': 0.0001256060290321029, 'cut9': 0.00012287525415187133, 'cut10': 1.2978758706094322e-05}), 'sig_2018_Mchi-5p25_dMchi-0p5_ctau-10': defaultdict(<class 'float'>, {'all': 0.004011845679950761, 'hasVtx': 0.0008467444498214301, 'cut4': 0.0008467444498214301, 'cut5': 0.000749388969051658, 'cut6': 0.0007267533810363393, 'cut7': 0.0007267533810363393, 'cut8': 0.0007267533810363393, 'cut9': 0.0007176876396608652, 'cut10': 0.00015161314052486495}), 'sig_2018_Mchi-5p25_dMchi-0p5_ctau-1': defaultdict(<class 'float'>, {'all': 0.007935007594372129, 'hasVtx': 0.001558004654064295, 'cut4': 0.001558004654064295, 'cut5': 0.0013710089439206612, 'cut6': 0.00133364302517719, 'cut7': 0.00133364302517719, 'cut8': 0.00133364302517719, 'cut9': 0.0013169655152374408, 'cut10': 0.00035734011712905466}), 'sig_2018_Mchi-55p0_dMchi-10p0_ctau-100': defaultdict(<class 'float'>, {'all': 0.010142894766676572, 'hasVtx': 0.002983755991753856, 'cut4': 0.002983755991753856, 'cut5': 0.0025540280234255634, 'cut6': 0.0024705470003830517, 'cut7': 0.0024705470003830517, 'cut8': 0.0024705470003830517, 'cut9': 0.002454480374870608, 'cut10': 0.0017230668847085348}), 'sig_2018_Mchi-55p0_dMchi-10p0_ctau-10': defaultdict(<class 'float'>, {'all': 0.02142382529182928, 'hasVtx': 0.009797275526435186, 'cut4': 0.009797275526435186, 'cut5': 0.008365060953150266, 'cut6': 0.008106446493559108, 'cut7': 0.008106446493559108, 'cut8': 0.008106446493559108, 'cut9': 0.007994237806227827, 'cut10': 0.007295330349395734}), 'sig_2018_Mchi-55p0_dMchi-10p0_ctau-1': defaultdict(<class 'float'>, {'all': 0.02880489731345379, 'hasVtx': 0.011469829503841556, 'cut4': 0.011469829503841556, 'cut5': 0.009736923575974063, 'cut6': 0.009469734922495743, 'cut7': 0.009469734922495743, 'cut8': 0.009469734922495743, 'cut9': 0.009469734922495743, 'cut10': 0.008268698566519121}), 'sig_2018_Mchi-52p5_dMchi-5p0_ctau-100': defaultdict(<class 'float'>, {'all': 0.008691591813399483, 'hasVtx': 0.002335108554903061, 'cut4': 0.002335108554903061, 'cut5': 0.002008773573495826, 'cut6': 0.0019550691922455405, 'cut7': 0.0019550691922455405, 'cut8': 0.0019550691922455405, 'cut9': 0.0019347948477914868, 'cut10': 0.0011529518781018748}), 'sig_2018_Mchi-44p0_dMchi-8p0_ctau-100': defaultdict(<class 'float'>, {'all': 0.007600666077795009, 'hasVtx': 0.002110484024890683, 'cut4': 0.002110484024890683, 'cut5': 0.0018645795428778205, 'cut6': 0.001827226565288307, 'cut7': 0.0018255254341863585, 'cut8': 0.0018255254341863585, 'cut9': 0.0018034486622699071, 'cut10': 0.0012418746317323839}), 'sig_2018_Mchi-52p5_dMchi-5p0_ctau-10': defaultdict(<class 'float'>, {'all': 0.01859775632679067, 'hasVtx': 0.007769052039870114, 'cut4': 0.007769052039870114, 'cut5': 0.0066390613345835335, 'cut6': 0.006463476187011766, 'cut7': 0.006463476187011766, 'cut8': 0.006463476187011766, 'cut9': 0.006403351446149934, 'cut10': 0.005318664737765087}), 'sig_2018_Mchi-52p5_dMchi-5p0_ctau-1': defaultdict(<class 'float'>, {'all': 0.024166060405715468, 'hasVtx': 0.007820287908414282, 'cut4': 0.007820287908414282, 'cut5': 0.006729771083890465, 'cut6': 0.00658962795037442, 'cut7': 0.006578639180130679, 'cut8': 0.006578639180130679, 'cut9': 0.006523723410894452, 'cut10': 0.004948976374167216}), 'sig_2018_Mchi-44p0_dMchi-8p0_ctau-10': defaultdict(<class 'float'>, {'all': 0.016848151349537672, 'hasVtx': 0.0077117348934442245, 'cut4': 0.0077117348934442245, 'cut5': 0.006539792063846643, 'cut6': 0.006365410647166713, 'cut7': 0.006362684745213944, 'cut8': 0.006362684745213944, 'cut9': 0.0063272699231355, 'cut10': 0.005556260779253549}), 'sig_2018_Mchi-44p0_dMchi-8p0_ctau-1': defaultdict(<class 'float'>, {'all': 0.02218388623492197, 'hasVtx': 0.008421313864796894, 'cut4': 0.008421313864796894, 'cut5': 0.00721088743540131, 'cut6': 0.0070102853906734265, 'cut7': 0.0070102853906734265, 'cut8': 0.0070102853906734265, 'cut9': 0.006918255843966392, 'cut10': 0.005868619653140767}), 'sig_2018_Mchi-42p0_dMchi-4p0_ctau-100': defaultdict(<class 'float'>, {'all': 0.006562565823287944, 'hasVtx': 0.0016285889497462676, 'cut4': 0.0016285889497462676, 'cut5': 0.0014141144539690253, 'cut6': 0.0013814791525222565, 'cut7': 0.001380395579815425, 'cut8': 0.001380395579815425, 'cut9': 0.0013651848734497905, 'cut10': 0.0007533728154999851}), 'sig_2018_Mchi-42p0_dMchi-4p0_ctau-10': defaultdict(<class 'float'>, {'all': 0.014399855742523605, 'hasVtx': 0.006010512616801136, 'cut4': 0.006010512616801136, 'cut5': 0.005201682520969445, 'cut6': 0.005112037162495073, 'cut7': 0.005112037162495073, 'cut8': 0.005112037162495073, 'cut9': 0.005053818787163707, 'cut10': 0.0040256996105469366}), 'sig_2018_Mchi-42p0_dMchi-4p0_ctau-1': defaultdict(<class 'float'>, {'all': 0.019488795534179218, 'hasVtx': 0.006240623115587317, 'cut4': 0.006240623115587317, 'cut5': 0.0053467278410726255, 'cut6': 0.005189118654394336, 'cut7': 0.005189118654394336, 'cut8': 0.005189118654394336, 'cut9': 0.005152957060111679, 'cut10': 0.0037762546095916295}), 'sig_2018_Mchi-33p0_dMchi-6p0_ctau-100': defaultdict(<class 'float'>, {'all': 0.005511991762719819, 'hasVtx': 0.001397571409141782, 'cut4': 0.001397571409141782, 'cut5': 0.001218163954216337, 'cut6': 0.0012053696919429558, 'cut7': 0.0012053696919429558, 'cut8': 0.0012053696919429558, 'cut9': 0.0011925525562666245, 'cut10': 0.0007720246374776522}), 'sig_2018_Mchi-33p0_dMchi-6p0_ctau-10': defaultdict(<class 'float'>, {'all': 0.012458557745550226, 'hasVtx': 0.005470981885869663, 'cut4': 0.005470981885869663, 'cut5': 0.0047397076363295395, 'cut6': 0.0046400975886270205, 'cut7': 0.0046400975886270205, 'cut8': 0.0046400975886270205, 'cut9': 0.004597776852712433, 'cut10': 0.00397081212044461}), 'sig_2018_Mchi-33p0_dMchi-6p0_ctau-1': defaultdict(<class 'float'>, {'all': 0.0169622505714537, 'hasVtx': 0.006255339728518142, 'cut4': 0.006255339728518142, 'cut5': 0.005375394576373889, 'cut6': 0.005240860018654443, 'cut7': 0.005235862257167477, 'cut8': 0.005235862257167477, 'cut9': 0.005185955557119954, 'cut10': 0.004436040138016255}), 'sig_2018_Mchi-31p5_dMchi-3p0_ctau-100': defaultdict(<class 'float'>, {'all': 0.00469163139070011, 'hasVtx': 0.0011052505368609124, 'cut4': 0.0011052505368609124, 'cut5': 0.0009644913512394849, 'cut6': 0.0009472474521923523, 'cut7': 0.0009472474521923523, 'cut8': 0.0009472474521923523, 'cut9': 0.0009354453538512114, 'cut10': 0.00047764268061369406}), 'sig_2018_Mchi-31p5_dMchi-3p0_ctau-10': defaultdict(<class 'float'>, {'all': 0.010848149608519684, 'hasVtx': 0.004239453968377733, 'cut4': 0.004239453968377733, 'cut5': 0.003641884106458844, 'cut6': 0.0035895398251147366, 'cut7': 0.003583710669559435, 'cut8': 0.003583710669559435, 'cut9': 0.0035526391358768686, 'cut10': 0.00263276881740171}), 'sig_2018_Mchi-22p0_dMchi-4p0_ctau-100': defaultdict(<class 'float'>, {'all': 0.0038819864239690856, 'hasVtx': 0.0009456258165869887, 'cut4': 0.0009456258165869887, 'cut5': 0.000824756979755868, 'cut6': 0.0008048783418888104, 'cut7': 0.0008048783418888104, 'cut8': 0.0008048783418888104, 'cut9': 0.0007916185402120671, 'cut10': 0.0004488340746317648}), 'sig_2018_Mchi-31p5_dMchi-3p0_ctau-1': defaultdict(<class 'float'>, {'all': 0.014635395689093736, 'hasVtx': 0.004456351819818464, 'cut4': 0.004456351819818464, 'cut5': 0.0039166583182830925, 'cut6': 0.0038395365458319475, 'cut7': 0.0038371966224621076, 'cut8': 0.0038371966224621076, 'cut9': 0.003802186109225499, 'cut10': 0.0026460954128737267}), 'sig_2018_Mchi-22p0_dMchi-4p0_ctau-1': defaultdict(<class 'float'>, {'all': 0.012962543630708104, 'hasVtx': 0.004440619717962247, 'cut4': 0.004440619717962247, 'cut5': 0.003835111867830694, 'cut6': 0.003730260761198495, 'cut7': 0.003730260761198495, 'cut8': 0.003730260761198495, 'cut9': 0.003699259330826816, 'cut10': 0.003003141620887892}), 'sig_2018_Mchi-22p0_dMchi-4p0_ctau-10': defaultdict(<class 'float'>, {'all': 0.009596320516126619, 'hasVtx': 0.003953825245305825, 'cut4': 0.003953825245305825, 'cut5': 0.0034468724894955814, 'cut6': 0.0033378114553944565, 'cut7': 0.0033358921587107846, 'cut8': 0.0033358921587107846, 'cut9': 0.0033110482273630572, 'cut10': 0.00258042064944527}), 'sig_2018_Mchi-21p0_dMchi-2p0_ctau-100': defaultdict(<class 'float'>, {'all': 0.003372586587620071, 'hasVtx': 0.0007158739931055696, 'cut4': 0.0007158739931055696, 'cut5': 0.0006196496715123837, 'cut6': 0.0006014422012136869, 'cut7': 0.0006001381856359988, 'cut8': 0.0006001381856359988, 'cut9': 0.0005975567530735832, 'cut10': 0.00026256004061273443}), 'sig_2018_Mchi-21p0_dMchi-2p0_ctau-10': defaultdict(<class 'float'>, {'all': 0.00838707740204745, 'hasVtx': 0.003014567261270426, 'cut4': 0.003014567261270426, 'cut5': 0.002562253218712155, 'cut6': 0.002492302549942355, 'cut7': 0.002492302549942355, 'cut8': 0.002489785900605537, 'cut9': 0.002467336283045392, 'cut10': 0.001564902134835768}), 'sig_2018_Mchi-11p0_dMchi-2p0_ctau-100': defaultdict(<class 'float'>, {'all': 0.0024400462509508495, 'hasVtx': 0.0004807191475887719, 'cut4': 0.0004807191475887719, 'cut5': 0.00040973790441647744, 'cut6': 0.0003974403044695044, 'cut7': 0.0003974403044695044, 'cut8': 0.0003974403044695044, 'cut9': 0.00039470649230915214, 'cut10': 0.0001639218563896373}), 'sig_2018_Mchi-21p0_dMchi-2p0_ctau-1': defaultdict(<class 'float'>, {'all': 0.01160017902503434, 'hasVtx': 0.0033941701730895676, 'cut4': 0.0033941701730895676, 'cut5': 0.0029103143979245087, 'cut6': 0.002835861830450292, 'cut7': 0.002833371835493574, 'cut8': 0.002833371835493574, 'cut9': 0.002798648433725786, 'cut10': 0.0018336943305559583}), 'sig_2018_Mchi-11p0_dMchi-2p0_ctau-10': defaultdict(<class 'float'>, {'all': 0.006618594149625248, 'hasVtx': 0.0022435626563917194, 'cut4': 0.0022435626563917194, 'cut5': 0.0019200402688493788, 'cut6': 0.0018628821866811072, 'cut7': 0.0018628821866811072, 'cut8': 0.0018628821866811072, 'cut9': 0.0018467956078246878, 'cut10': 0.001188856211422277}), 'sig_2018_Mchi-11p0_dMchi-2p0_ctau-1': defaultdict(<class 'float'>, {'all': 0.010149751618313135, 'hasVtx': 0.0032990251426639676, 'cut4': 0.0032990251426639676, 'cut5': 0.0028483406628469505, 'cut6': 0.002762713993786607, 'cut7': 0.002762713993786607, 'cut8': 0.002762713993786607, 'cut9': 0.0027446522066079094, 'cut10': 0.002007689626803344}), 'sig_2018_Mchi-110p0_dMchi-20p0_ctau-100': defaultdict(<class 'float'>, {'all': 0.025906769702760013, 'hasVtx': 0.009456943793003192, 'cut4': 0.009456943793003192, 'cut5': 0.008160763615190136, 'cut6': 0.007932613196878218, 'cut7': 0.007928735443982609, 'cut8': 0.007928735443982609, 'cut9': 0.007839671873712194, 'cut10': 0.005197095547049958}), 'sig_2018_Mchi-10p5_dMchi-1p0_ctau-100': defaultdict(<class 'float'>, {'all': 0.0022842914550260133, 'hasVtx': 0.00032073329005532223, 'cut4': 0.00032073329005532223, 'cut5': 0.0002762199560376872, 'cut6': 0.00026647671331652615, 'cut7': 0.00026647671331652615, 'cut8': 0.00026647671331652615, 'cut9': 0.000265088808037354, 'cut10': 8.976433705206183e-05}), 'sig_2018_Mchi-110p0_dMchi-20p0_ctau-10': defaultdict(<class 'float'>, {'all': 0.051207728819284586, 'hasVtx': 0.025914605261794836, 'cut4': 0.025914605261794836, 'cut5': 0.022117039877503745, 'cut6': 0.021549259942494316, 'cut7': 0.021541779394623334, 'cut8': 0.021541779394623334, 'cut9': 0.021291540623566998, 'cut10': 0.016626995927369277}), 'sig_2018_Mchi-10p5_dMchi-1p0_ctau-10': defaultdict(<class 'float'>, {'all': 0.005590821375733521, 'hasVtx': 0.001627456109469494, 'cut4': 0.001627456109469494, 'cut5': 0.001412933982444809, 'cut6': 0.0013725308236932961, 'cut7': 0.0013725308236932961, 'cut8': 0.0013725308236932961, 'cut9': 0.0013601034226031444, 'cut10': 0.0006326015048874896}), 'sig_2018_Mchi-110p0_dMchi-20p0_ctau-1': defaultdict(<class 'float'>, {'all': 0.06372560687983093, 'hasVtx': 0.02392215789961179, 'cut4': 0.02392215789961179, 'cut5': 0.02048345731024635, 'cut6': 0.019912744464522448, 'cut7': 0.019893313612847026, 'cut8': 0.019893313612847026, 'cut9': 0.019672115421380306, 'cut10': 0.014284556637676055}), 'sig_2018_Mchi-10p5_dMchi-1p0_ctau-1': defaultdict(<class 'float'>, {'all': 0.009219166525293664, 'hasVtx': 0.0023542604519197667, 'cut4': 0.0023542604519197667, 'cut5': 0.00198992831968628, 'cut6': 0.0019451518461515403, 'cut7': 0.0019451518461515403, 'cut8': 0.0019451518461515403, 'cut9': 0.0019276307494105979, 'cut10': 0.0011732469104135013}), 'sig_2018_Mchi-105p0_dMchi-10p0_ctau-1': defaultdict(<class 'float'>, {'all': 0.055955939869869, 'hasVtx': 0.018571725978589592, 'cut4': 0.018571725978589592, 'cut5': 0.01564589472214503, 'cut6': 0.015238797236055878, 'cut7': 0.015238797236055878, 'cut8': 0.015238797236055878, 'cut9': 0.015060755478252252, 'cut10': 0.011027139348273362}), 'sig_2018_Mchi-105p0_dMchi-10p0_ctau-100': defaultdict(<class 'float'>, {'all': 0.02107545962410326, 'hasVtx': 0.007025522995307138, 'cut4': 0.007025522995307138, 'cut5': 0.0060434368294598135, 'cut6': 0.005877803417869159, 'cut7': 0.005876516025278878, 'cut8': 0.005876516025278878, 'cut9': 0.005816187815401496, 'cut10': 0.003804107039599295}), 'sig_2018_Mchi-105p0_dMchi-10p0_ctau-10': defaultdict(<class 'float'>, {'all': 0.042735772447414035, 'hasVtx': 0.020076644084403027, 'cut4': 0.020076644084403027, 'cut5': 0.017224506937168305, 'cut6': 0.01675708959724021, 'cut7': 0.016752327033894083, 'cut8': 0.016752327033894083, 'cut9': 0.0165922430190478, 'cut10': 0.013359779461925413})}\n"
     ]
    }
   ],
   "source": [
    "print (sig_histo ['cutflow'])\n",
    "\n",
    "#Just to make you realize it is a nested dictionary."
   ]
  },
  {
   "cell_type": "code",
   "execution_count": 6,
   "id": "b829879f-da63-47be-8687-7deb5dc243b0",
   "metadata": {},
   "outputs": [
    {
     "name": "stdout",
     "output_type": "stream",
     "text": [
      "['bdtScore', 'gen_met_noWgt', 'gen_met', 'gen_leadjet_pt', 'gen_leadjet_pt_noWgt', 'cutDesc', 'cutflow', 'cutflow_cts', 'cutflow_nevts', 'cutflow_vtx_matched']\n"
     ]
    }
   ],
   "source": [
    "#coffea files-- background:\n",
    "f_bkg = \"../coffea/skimmed/example_bkg_skimmed_SR.coffea\"\n",
    "bkg_histo = util.load(f_bkg) [0]\n",
    "histograms = list(bkg_histo.keys())\n",
    "print (histograms)\n"
   ]
  },
  {
   "cell_type": "code",
   "execution_count": 15,
   "id": "196759c7-5fa0-467b-af6b-4d7866e2fe03",
   "metadata": {},
   "outputs": [
    {
     "name": "stdout",
     "output_type": "stream",
     "text": [
      "['sig_2018_Mchi-99p0_dMchi-18p0_ctau-100', 'sig_2018_Mchi-94p5_dMchi-9p0_ctau-100', 'sig_2018_Mchi-99p0_dMchi-18p0_ctau-10', 'sig_2018_Mchi-99p0_dMchi-18p0_ctau-1', 'sig_2018_Mchi-88p0_dMchi-16p0_ctau-100', 'sig_2018_Mchi-88p0_dMchi-16p0_ctau-10', 'sig_2018_Mchi-84p0_dMchi-8p0_ctau-100', 'sig_2018_Mchi-94p5_dMchi-9p0_ctau-10', 'sig_2018_Mchi-94p5_dMchi-9p0_ctau-1', 'sig_2018_Mchi-84p0_dMchi-8p0_ctau-10', 'sig_2018_Mchi-77p0_dMchi-14p0_ctau-100', 'sig_2018_Mchi-84p0_dMchi-8p0_ctau-1', 'sig_2018_Mchi-77p0_dMchi-14p0_ctau-10', 'sig_2018_Mchi-73p5_dMchi-7p0_ctau-100', 'sig_2018_Mchi-77p0_dMchi-14p0_ctau-1', 'sig_2018_Mchi-63p0_dMchi-6p0_ctau-100', 'sig_2018_Mchi-73p5_dMchi-7p0_ctau-10', 'sig_2018_Mchi-73p5_dMchi-7p0_ctau-1', 'sig_2018_Mchi-63p0_dMchi-6p0_ctau-10', 'sig_2018_Mchi-5p5_dMchi-1p0_ctau-100', 'sig_2018_Mchi-5p5_dMchi-1p0_ctau-10', 'sig_2018_Mchi-63p0_dMchi-6p0_ctau-1', 'sig_2018_Mchi-5p5_dMchi-1p0_ctau-1', 'sig_2018_Mchi-5p25_dMchi-0p5_ctau-100', 'sig_2018_Mchi-5p25_dMchi-0p5_ctau-10', 'sig_2018_Mchi-5p25_dMchi-0p5_ctau-1', 'sig_2018_Mchi-55p0_dMchi-10p0_ctau-100', 'sig_2018_Mchi-55p0_dMchi-10p0_ctau-10', 'sig_2018_Mchi-55p0_dMchi-10p0_ctau-1', 'sig_2018_Mchi-52p5_dMchi-5p0_ctau-100', 'sig_2018_Mchi-44p0_dMchi-8p0_ctau-100', 'sig_2018_Mchi-52p5_dMchi-5p0_ctau-10', 'sig_2018_Mchi-52p5_dMchi-5p0_ctau-1', 'sig_2018_Mchi-44p0_dMchi-8p0_ctau-10', 'sig_2018_Mchi-44p0_dMchi-8p0_ctau-1', 'sig_2018_Mchi-42p0_dMchi-4p0_ctau-100', 'sig_2018_Mchi-42p0_dMchi-4p0_ctau-10', 'sig_2018_Mchi-42p0_dMchi-4p0_ctau-1', 'sig_2018_Mchi-33p0_dMchi-6p0_ctau-100', 'sig_2018_Mchi-33p0_dMchi-6p0_ctau-10', 'sig_2018_Mchi-33p0_dMchi-6p0_ctau-1', 'sig_2018_Mchi-31p5_dMchi-3p0_ctau-100', 'sig_2018_Mchi-31p5_dMchi-3p0_ctau-10', 'sig_2018_Mchi-22p0_dMchi-4p0_ctau-100', 'sig_2018_Mchi-31p5_dMchi-3p0_ctau-1', 'sig_2018_Mchi-22p0_dMchi-4p0_ctau-1', 'sig_2018_Mchi-22p0_dMchi-4p0_ctau-10', 'sig_2018_Mchi-21p0_dMchi-2p0_ctau-100', 'sig_2018_Mchi-21p0_dMchi-2p0_ctau-10', 'sig_2018_Mchi-11p0_dMchi-2p0_ctau-100', 'sig_2018_Mchi-21p0_dMchi-2p0_ctau-1', 'sig_2018_Mchi-11p0_dMchi-2p0_ctau-10', 'sig_2018_Mchi-11p0_dMchi-2p0_ctau-1', 'sig_2018_Mchi-110p0_dMchi-20p0_ctau-100', 'sig_2018_Mchi-10p5_dMchi-1p0_ctau-100', 'sig_2018_Mchi-110p0_dMchi-20p0_ctau-10', 'sig_2018_Mchi-10p5_dMchi-1p0_ctau-10', 'sig_2018_Mchi-110p0_dMchi-20p0_ctau-1', 'sig_2018_Mchi-10p5_dMchi-1p0_ctau-1', 'sig_2018_Mchi-105p0_dMchi-10p0_ctau-1', 'sig_2018_Mchi-105p0_dMchi-10p0_ctau-100', 'sig_2018_Mchi-105p0_dMchi-10p0_ctau-10']\n"
     ]
    }
   ],
   "source": [
    "sig_samples = list(sig_histo['cutflow'].keys()) # names of signal sub-process, i.e. mass point, lifetime etc.\n",
    "print (sig_samples)"
   ]
  },
  {
   "cell_type": "code",
   "execution_count": 17,
   "id": "93bff8c9-8d26-458f-8dbd-7f40d42812c3",
   "metadata": {},
   "outputs": [
    {
     "name": "stdout",
     "output_type": "stream",
     "text": [
      "defaultdict(<class 'float'>, {'all': 0.022130613659055123, 'hasVtx': 0.007751382439603958, 'cut4': 0.007751382439603958, 'cut5': 0.006642541578549005, 'cut6': 0.006423078054448954, 'cut7': 0.0064212356942036685, 'cut8': 0.0064212356942036685, 'cut9': 0.0063566162910981185, 'cut10': 0.004235291271042684})\n",
      "['all', 'hasVtx', 'cut4', 'cut5', 'cut6', 'cut7', 'cut8', 'cut9', 'cut10']\n"
     ]
    }
   ],
   "source": [
    "print (sig_histo ['cutflow'][sig_samples[0]])\n",
    "cuts = list(sig_histo['cutflow'][sig_samples[0]].keys())\n",
    "print(cuts)"
   ]
  },
  {
   "cell_type": "code",
   "execution_count": 18,
   "id": "4b93df48-7338-4543-9cb8-523ad51f33ea",
   "metadata": {},
   "outputs": [
    {
     "ename": "NameError",
     "evalue": "name 'ptools' is not defined",
     "output_type": "error",
     "traceback": [
      "\u001b[0;31m---------------------------------------------------------------------------\u001b[0m",
      "\u001b[0;31mNameError\u001b[0m                                 Traceback (most recent call last)",
      "Cell \u001b[0;32mIn[18], line 1\u001b[0m\n\u001b[0;32m----> 1\u001b[0m si \u001b[38;5;241m=\u001b[39m pd\u001b[38;5;241m.\u001b[39mDataFrame\u001b[38;5;241m.\u001b[39mfrom_dict({s:ptools\u001b[38;5;241m.\u001b[39msignalPoint(s) \u001b[38;5;28;01mfor\u001b[39;00m s \u001b[38;5;129;01min\u001b[39;00m sig_samples}, orient\u001b[38;5;241m=\u001b[39m\u001b[38;5;124m'\u001b[39m\u001b[38;5;124mindex\u001b[39m\u001b[38;5;124m'\u001b[39m)\n\u001b[1;32m      3\u001b[0m \u001b[38;5;28mprint\u001b[39m(si)\n",
      "Cell \u001b[0;32mIn[18], line 1\u001b[0m, in \u001b[0;36m<dictcomp>\u001b[0;34m(.0)\u001b[0m\n\u001b[0;32m----> 1\u001b[0m si \u001b[38;5;241m=\u001b[39m pd\u001b[38;5;241m.\u001b[39mDataFrame\u001b[38;5;241m.\u001b[39mfrom_dict({s:\u001b[43mptools\u001b[49m\u001b[38;5;241m.\u001b[39msignalPoint(s) \u001b[38;5;28;01mfor\u001b[39;00m s \u001b[38;5;129;01min\u001b[39;00m sig_samples}, orient\u001b[38;5;241m=\u001b[39m\u001b[38;5;124m'\u001b[39m\u001b[38;5;124mindex\u001b[39m\u001b[38;5;124m'\u001b[39m)\n\u001b[1;32m      3\u001b[0m \u001b[38;5;28mprint\u001b[39m(si)\n",
      "\u001b[0;31mNameError\u001b[0m: name 'ptools' is not defined"
     ]
    }
   ],
   "source": [
    "si = pd.DataFrame.from_dict({s:ptools.signalPoint(s) for s in sig_samples}, orient='index')\n",
    "\n",
    "print(si)"
   ]
  },
  {
   "cell_type": "code",
   "execution_count": null,
   "id": "aaa1a02e-191a-41d0-9cb4-bfabedfea157",
   "metadata": {},
   "outputs": [],
   "source": []
  }
 ],
 "metadata": {
  "kernelspec": {
   "display_name": "Python [conda env:coffea]",
   "language": "python",
   "name": "conda-env-coffea-py"
  },
  "language_info": {
   "codemirror_mode": {
    "name": "ipython",
    "version": 3
   },
   "file_extension": ".py",
   "mimetype": "text/x-python",
   "name": "python",
   "nbconvert_exporter": "python",
   "pygments_lexer": "ipython3",
   "version": "3.8.17"
  }
 },
 "nbformat": 4,
 "nbformat_minor": 5
}
