{
 "cells": [
  {
   "cell_type": "code",
   "execution_count": null,
   "id": "10fc1c73-9335-4c33-9477-f4106713d745",
   "metadata": {},
   "outputs": [],
   "source": [
    "#I aim to compare Run 3 (2022) and Run 2 (2018) DYJets bkg."
   ]
  },
  {
   "cell_type": "code",
   "execution_count": 1,
   "id": "9817585f-5e5b-4ad3-9dbd-98b6c89ca362",
   "metadata": {},
   "outputs": [],
   "source": [
    "%load_ext autoreload\n",
    "%autoreload 2\n",
    "import numpy as np\n",
    "import matplotlib.pyplot as plt\n",
    "from coffea import util\n",
    "from coffea.processor import accumulate\n",
    "import os\n",
    "import re\n",
    "import pandas as pd\n",
    "import hist\n",
    "import matplotlib as mpl\n",
    "import mplhep\n",
    "import sys\n",
    "\n",
    "sys.path.append(\"../../analysisTools/\")\n",
    "import plotTools as ptools\n",
    "import utils"
   ]
  },
  {
   "cell_type": "code",
   "execution_count": null,
   "id": "532c60b5-371c-41e9-95db-7366a38e201e",
   "metadata": {},
   "outputs": [],
   "source": [
    "#The file"
   ]
  }
 ],
 "metadata": {
  "kernelspec": {
   "display_name": "Python [conda env:coffea]",
   "language": "python",
   "name": "conda-env-coffea-py"
  },
  "language_info": {
   "codemirror_mode": {
    "name": "ipython",
    "version": 3
   },
   "file_extension": ".py",
   "mimetype": "text/x-python",
   "name": "python",
   "nbconvert_exporter": "python",
   "pygments_lexer": "ipython3",
   "version": "3.8.17"
  }
 },
 "nbformat": 4,
 "nbformat_minor": 5
}
