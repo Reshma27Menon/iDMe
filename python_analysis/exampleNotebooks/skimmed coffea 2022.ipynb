{
 "cells": [
  {
   "cell_type": "code",
   "execution_count": 1,
   "id": "6b3a0c8c-6746-4c07-b7ec-fd02aab12879",
   "metadata": {},
   "outputs": [],
   "source": [
    "%load_ext autoreload\n",
    "%autoreload 2\n",
    "import uproot\n",
    "import numpy as np\n",
    "import matplotlib.pyplot as plt\n",
    "import awkward as ak\n",
    "import sys\n",
    "sys.path.append(\"../analysisTools/\")\n",
    "from analysisTools import loadSchema\n",
    "from analysisTools import Analyzer\n",
    "from analysisTools import iDMeProcessor\n",
    "#from analysisTools import loadSchema\n",
    "import analysisTools as tools\n",
    "import analysisSubroutines as routines\n",
    "import importlib\n",
    "import coffea.util as util\n",
    "import time\n",
    "import json\n",
    "import os"
   ]
  },
  {
   "cell_type": "code",
   "execution_count": 2,
   "id": "732f8c5d-9cef-490b-8231-efb992a4cc96",
   "metadata": {},
   "outputs": [],
   "source": [
    "sample_config = \"../configs/sample_configs/skimmed_bkg_2022_WJetsAllHT.json\"\n",
    "\n",
    "cuts_config = \"../configs/cut_configs/unskimmed_SR_BDT.py\" \n",
    "\n",
    "histos_config = \"../configs/histo_configs/histos_SR.py\"      \n",
    "\n",
    "model_config = \"../configs/models/BDT_NJetG0_allSigns_goodvtx_v11_max_depth_7_n_estimators_800_lr_0.005.json\""
   ]
  },
  {
   "cell_type": "code",
   "execution_count": 3,
   "id": "5a781752-5591-4f8d-98da-d3885763eed5",
   "metadata": {},
   "outputs": [],
   "source": [
    "outdir = \"../coffea/skimmed/\"\n",
    "os.makedirs(outdir, exist_ok=True)"
   ]
  },
  {
   "cell_type": "code",
   "execution_count": 4,
   "id": "118bb2d3-d264-4289-8f28-157420fd751b",
   "metadata": {},
   "outputs": [
    {
     "data": {
      "text/html": [
       "<pre style=\"white-space:pre;overflow-x:auto;line-height:normal;font-family:Menlo,'DejaVu Sans Mono',consolas,'Courier New',monospace\"><span style=\"color: #000080; text-decoration-color: #000080; font-weight: bold\">Processing</span> <span style=\"color: #800080; text-decoration-color: #800080\">100%</span> <span style=\"color: #729c1f; text-decoration-color: #729c1f\">━━━━━━━━━━━━━━━━━━━━━━━━━━━━━━━━━━━━━━━━━━━━━━━━━━━━━━━━━━━</span> <span style=\"color: #000080; text-decoration-color: #000080; font-weight: bold\">10/10</span> [ <span style=\"color: #808000; text-decoration-color: #808000\">0:11:15</span> &lt; <span style=\"color: #008080; text-decoration-color: #008080\">0:00:00</span> | <span style=\"color: #800000; text-decoration-color: #800000\">?</span> <span style=\"color: #800000; text-decoration-color: #800000\">chunk/s</span> ]\n",
       "</pre>\n"
      ],
      "text/plain": [
       "\u001b[1;34mProcessing\u001b[0m \u001b[35m100%\u001b[0m \u001b[38;2;114;156;31m━━━━━━━━━━━━━━━━━━━━━━━━━━━━━━━━━━━━━━━━━━━━━━━━━━━━━━━━━━━\u001b[0m \u001b[1;34m10/10\u001b[0m [ \u001b[33m0:11:15\u001b[0m < \u001b[36m0:00:00\u001b[0m | \u001b[31m?\u001b[0m \u001b[31mchunk/s\u001b[0m ]\n"
      ]
     },
     "metadata": {},
     "output_type": "display_data"
    },
    {
     "data": {
      "text/html": [
       "<pre style=\"white-space:pre;overflow-x:auto;line-height:normal;font-family:Menlo,'DejaVu Sans Mono',consolas,'Courier New',monospace\"></pre>\n"
      ],
      "text/plain": []
     },
     "metadata": {},
     "output_type": "display_data"
    },
    {
     "data": {
      "text/html": [
       "<pre style=\"white-space:pre;overflow-x:auto;line-height:normal;font-family:Menlo,'DejaVu Sans Mono',consolas,'Courier New',monospace\">\n",
       "</pre>\n"
      ],
      "text/plain": [
       "\n"
      ]
     },
     "metadata": {},
     "output_type": "display_data"
    }
   ],
   "source": [
    "analyzer = Analyzer(sample_config, histos_config, cuts_config, model_config,max_files_per_samp=-1) \n",
    "\n",
    "t1 = time.time()\n",
    "out = analyzer.process(execr=\"iterative\")\n",
    "#out = analyzer.process(execr='futures')\n",
    "t2 = time.time()\n",
    "\n",
    "#print(\"Runtime: {:.2f} minutes\".format((t2-t1)/60))\n",
    "util.save(out,f\"{outdir}/HT_skimmed_WJets_2022.coffea\")\n",
    "\n",
    "\n"
   ]
  },
  {
   "cell_type": "code",
   "execution_count": null,
   "id": "4e2fa4f1-773a-4ca9-a1fc-cd1d622cc700",
   "metadata": {},
   "outputs": [],
   "source": []
  }
 ],
 "metadata": {
  "kernelspec": {
   "display_name": "Python [conda env:coffea]",
   "language": "python",
   "name": "conda-env-coffea-py"
  },
  "language_info": {
   "codemirror_mode": {
    "name": "ipython",
    "version": 3
   },
   "file_extension": ".py",
   "mimetype": "text/x-python",
   "name": "python",
   "nbconvert_exporter": "python",
   "pygments_lexer": "ipython3",
   "version": "3.8.17"
  }
 },
 "nbformat": 4,
 "nbformat_minor": 5
}
