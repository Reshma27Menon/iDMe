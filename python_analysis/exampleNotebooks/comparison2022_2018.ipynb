{
 "cells": [
  {
   "cell_type": "markdown",
   "id": "e637b2c3-3f77-4722-9a53-a8acff11a174",
   "metadata": {},
   "source": [
    "**I aim to compare Run 3 (2022) and Run 2 (2018) DYJets samples.**"
   ]
  },
  {
   "cell_type": "code",
   "execution_count": 4,
   "id": "a049fb10-4954-4860-9fc2-b76c44886b72",
   "metadata": {},
   "outputs": [
    {
     "name": "stdout",
     "output_type": "stream",
     "text": [
      "The autoreload extension is already loaded. To reload it, use:\n",
      "  %reload_ext autoreload\n"
     ]
    }
   ],
   "source": [
    "%load_ext autoreload\n",
    "%autoreload 2\n",
    "import numpy as np\n",
    "import uproot\n",
    "import awkward as ak\n",
    "import matplotlib.pyplot as plt\n",
    "from coffea import util\n",
    "from coffea.processor import accumulate\n",
    "import os\n",
    "import re\n",
    "import pandas as pd\n",
    "import hist\n",
    "import matplotlib as mpl\n",
    "import mplhep\n",
    "import sys\n",
    "\n",
    "sys.path.append(\"../analysisTools/\")\n",
    "import plotTools as ptools\n",
    "import utils"
   ]
  },
  {
   "cell_type": "markdown",
   "id": "4f1e8add-d327-4fc6-941e-1166540fdad9",
   "metadata": {},
   "source": [
    "**The files and the variables.**"
   ]
  },
  {
   "cell_type": "code",
   "execution_count": 5,
   "id": "7300e262-f83c-45d2-a905-1ce67004c1b4",
   "metadata": {},
   "outputs": [
    {
     "name": "stdout",
     "output_type": "stream",
     "text": [
      "['trigFired', 'eventNum', 'lumiSec', 'runNum', 'trig_HLT_PFMET110_PFMHT110_IDTight', 'trig_HLT_PFMET120_PFMHT120_IDTight', 'trig_HLT_PFMET130_PFMHT130_IDTight', 'trig_HLT_PFMET140_PFMHT140_IDTight', 'trig_HLT_PFMETTypeOne110_PFMHT110_IDTight', 'trig_HLT_PFMETTypeOne120_PFMHT120_IDTight', 'trig_HLT_PFMETTypeOne130_PFMHT130_IDTight', 'trig_HLT_PFMETTypeOne140_PFMHT140_IDTight', 'trig_HLT_PFJet15', 'trig_HLT_PFJet25', 'trig_HLT_PFJet40', 'trig_HLT_PFJet60', 'trig_HLT_PFJet80', 'trig_HLT_PFJet140', 'trig_HLT_PFJet200', 'trig_HLT_PFJet260', 'trig_HLT_PFJet320', 'trig_HLT_PFJet400', 'trig_HLT_PFJet450', 'trig_HLT_PFJet500', 'trig_HLT_PFJet550', 'trig_HLT_AK4PFJet30', 'trig_HLT_AK4PFJet50', 'trig_HLT_AK4PFJet80', 'trig_HLT_AK4PFJet100', 'trig_HLT_AK4PFJet120', 'trig_HLT_Ele50_CaloIdVT_GsfTrkIdT_PFJet165', 'trig_HLT_Ele15_CaloIdL_TrackIdL_IsoVL_PFJet30', 'trig_HLT_Ele17_WPLoose_Gsf', 'trig_HLT_Ele35_WPTight_Gsf_L1EGMT', 'trig_HLT_Ele27_WPTight_Gsf', 'trig_HLT_Ele23_Ele12_CaloIdL_TrackIdL_IsoVL_DZ', 'trig_HLT_Ele40_WPTight_Gsf', 'trig_HLT_DoubleEle8_CaloIdM_TrackIdM_Mass8_DZ_PFHT350', 'trig_HLT_Ele30_WPTight_Gsf', 'trig_HLT_DoubleEle27_CaloIdL_MW', 'trig_HLT_Ele30_eta2p1_WPTight_Gsf_CentralPFJet35_EleCleaned', 'trig_HLT_DoubleEle24_eta2p1_WPTight_Gsf', 'trig_HLT_Ele32_WPTight_Gsf_L1DoubleEG', 'trig_HLT_DoubleEle8_CaloIdM_TrackIdM_Mass8_PFHT350', 'trig_HLT_Ele38_WPTight_Gsf', 'trig_HLT_Ele23_CaloIdL_TrackIdL_IsoVL_PFJet30', 'trig_HLT_Ele23_Ele12_CaloIdL_TrackIdL_IsoVL', 'trig_HLT_Ele8_CaloIdL_TrackIdL_IsoVL_PFJet30', 'trig_HLT_DoubleEle33_CaloIdL_MW', 'trig_HLT_Ele12_CaloIdL_TrackIdL_IsoVL_PFJet30', 'trig_HLT_Ele28_eta2p1_WPTight_Gsf_HT150', 'trig_HLT_Ele17_CaloIdM_TrackIdM_PFJet30', 'trig_HLT_Ele16_Ele12_Ele8_CaloIdL_TrackIdL', 'trig_HLT_Ele32_WPTight_Gsf', 'trig_HLT_Ele20_WPTight_Gsf', 'trig_HLT_Ele20_WPLoose_Gsf', 'trig_HLT_Ele28_WPTight_Gsf', 'trig_HLT_Ele15_Ele8_CaloIdL_TrackIdL_IsoVL', 'trig_HLT_Ele35_WPTight_Gsf', 'trig_HLT_Ele8_CaloIdM_TrackIdM_PFJet30', 'trig_HLT_Ele23_CaloIdM_TrackIdM_PFJet30', 'trig_HLT_Ele15_WPLoose_Gsf', 'METFiltersFailBits', 'nElectron', 'Electron_pt', 'Electron_eta', 'Electron_etaErr', 'Electron_phi', 'Electron_phiErr', 'Electron_IDcutVeto', 'Electron_IDcutLoose', 'Electron_IDcutMed', 'Electron_IDcutTight', 'Electron_IDcutVetoInt', 'Electron_IDcutLooseInt', 'Electron_IDcutMedInt', 'Electron_IDcutTightInt', 'Electron_IDmvaIso90', 'Electron_IDmvaIso80', 'Electron_IDmvaIsoLoose', 'Electron_IDmva90', 'Electron_IDmva80', 'Electron_IDmvaLoose', 'Electron_angRes', 'Electron_e', 'Electron_vxy', 'Electron_vz', 'Electron_dxy', 'Electron_dxyErr', 'Electron_dz', 'Electron_dzErr', 'Electron_trkChi2', 'Electron_trkIso', 'Electron_trkRelIso', 'Electron_calIso', 'Electron_calRelIso', 'Electron_PFIso', 'Electron_PFRelIso', 'Electron_miniIso', 'Electron_miniRelIso', 'Electron_PFIsoEleCorr', 'Electron_PFRelIsoEleCorr', 'Electron_miniIsoEleCorr', 'Electron_miniRelIsoEleCorr', 'Electron_chadIso', 'Electron_nhadIso', 'Electron_phoIso', 'Electron_rhoEA', 'Electron_trkProb', 'Electron_numTrackerHits', 'Electron_numPixHits', 'Electron_numStripHits', 'Electron_charge', 'Electron_isPF', 'Electron_genMatched', 'Electron_matchType', 'Electron_dRJets', 'Electron_dPhiJets', 'Electron_full55sigmaIetaIeta', 'Electron_absdEtaSeed', 'Electron_absdPhiIn', 'Electron_HoverE', 'Electron_abs1overEm1overP', 'Electron_expMissingInnerHits', 'Electron_conversionVeto', 'Electron_isEE', 'Electron_hasLptMatch', 'Electron_lptMatchIdx', 'nLptElectron', 'LptElectron_pt', 'LptElectron_eta', 'LptElectron_etaErr', 'LptElectron_phi', 'LptElectron_phiErr', 'LptElectron_ID', 'LptElectron_angRes', 'LptElectron_e', 'LptElectron_vxy', 'LptElectron_vz', 'LptElectron_dxy', 'LptElectron_dxyErr', 'LptElectron_dz', 'LptElectron_dzErr', 'LptElectron_trkChi2', 'LptElectron_trkIso', 'LptElectron_trkRelIso', 'LptElectron_calIso', 'LptElectron_calRelIso', 'LptElectron_PFIso', 'LptElectron_PFRelIso', 'LptElectron_miniIso', 'LptElectron_miniRelIso', 'LptElectron_PFIsoEleCorr', 'LptElectron_PFRelIsoEleCorr', 'LptElectron_miniIsoEleCorr', 'LptElectron_miniRelIsoEleCorr', 'LptElectron_chadIso', 'LptElectron_nhadIso', 'LptElectron_phoIso', 'LptElectron_rhoEA', 'LptElectron_trkProb', 'LptElectron_numTrackerHits', 'LptElectron_numPixHits', 'LptElectron_numStripHits', 'LptElectron_charge', 'LptElectron_minDRtoReg', 'LptElectron_isPF', 'LptElectron_genMatched', 'LptElectron_matchType', 'LptElectron_dRJets', 'LptElectron_dPhiJets', 'LptElectron_full55sigmaIetaIeta', 'LptElectron_absdEtaSeed', 'LptElectron_absdPhiIn', 'LptElectron_HoverE', 'LptElectron_abs1overEm1overP', 'LptElectron_expMissingInnerHits', 'LptElectron_conversionVeto', 'LptElectron_isEE', 'LptElectron_xCleaned', 'LptElectron_gedIdx', 'LptElectron_gedIsMatched', 'nPhoton', 'Photon_et', 'Photon_eta', 'Photon_phi', 'nootPhoton', 'ootPhoton_et', 'ootPhoton_eta', 'ootPhoton_phi', 'nConversion', 'Conversion_pt', 'Conversion_eta', 'Conversion_phi', 'Conversion_energy', 'Conversion_px', 'Conversion_py', 'Conversion_pz', 'Conversion_vxy', 'Conversion_vz', 'Conversion_x', 'Conversion_y', 'Conversion_z', 'Conversion_lxy', 'Conversion_lz', 'Conversion_lxyPV', 'Conversion_lzPV', 'Conversion_dxy', 'Conversion_dz', 'Conversion_dxyPV', 'Conversion_dzPV', 'Conversion_EoverP', 'Conversion_EoverPrefit', 'Conversion_nSharedHits', 'Conversion_m', 'Conversion_dR', 'Conversion_chi2', 'Conversion_tk1_nHitsBeforeVtx', 'Conversion_tk1_pt', 'Conversion_tk1_eta', 'Conversion_tk1_phi', 'Conversion_tk1_chi2', 'Conversion_tk1_nValidHits', 'Conversion_tk1_nLostHits', 'Conversion_tk1_dxy', 'Conversion_tk1_dxyBS', 'Conversion_tk1_dxyPV', 'Conversion_tk1_dz', 'Conversion_tk1_dzPV', 'Conversion_tk2_nHitsBeforeVtx', 'Conversion_tk2_pt', 'Conversion_tk2_eta', 'Conversion_tk2_phi', 'Conversion_tk2_chi2', 'Conversion_tk2_nValidHits', 'Conversion_tk2_nLostHits', 'Conversion_tk2_dxy', 'Conversion_tk2_dxyBS', 'Conversion_tk2_dxyPV', 'Conversion_tk2_dz', 'Conversion_tk2_dzPV', 'nPFJetAll', 'nPFJet', 'PFJet_pt', 'PFJet_eta', 'PFJet_phi', 'PFJet_bTag', 'PFJet_METdPhi', 'PFJet_CHEF', 'PFJet_NHEF', 'PFJet_CEEF', 'PFJet_NEEF', 'PFJet_corrNumDaughters', 'PFJet_corrCHM', 'PFJet_corrJESUp_pt', 'PFJet_corrJESUp_eta', 'PFJet_corrJESUp_phi', 'PFJet_corrJESDown_pt', 'PFJet_corrJESDown_eta', 'PFJet_corrJESDown_phi', 'PFJet_corrJERUp_pt', 'PFJet_corrJERUp_eta', 'PFJet_corrJERUp_phi', 'PFJet_corrJERDown_pt', 'PFJet_corrJERDown_eta', 'PFJet_corrJERDown_phi', 'HEM_flag', 'PFMET_ET', 'PFMET_pt', 'PFMET_phi', 'PFMET_JESUpPt', 'PFMET_JESUpPhi', 'PFMET_JESDownPt', 'PFMET_JESDownPhi', 'PFMET_JERUpPt', 'PFMET_JERUpPhi', 'PFMET_JERDownPt', 'PFMET_JERDownPhi', 'PFMET_JetResUpSmearPt', 'PFMET_JetResUpSmearPhi', 'PFMET_JetResDownSmearPt', 'PFMET_JetResDownSmearPhi', 'CaloMET_ET', 'CaloMET_pt', 'CaloMET_phi', 'rho', 'PV_x', 'PV_y', 'PV_z', 'nvtx', 'vtx_typ', 'vtx_vxy', 'vtx_sigmavxy', 'vtx_vx', 'vtx_vy', 'vtx_vz', 'vtx_reduced_chi2', 'vtx_prob', 'vtx_dR', 'vtx_sign', 'vtx_minDxy', 'vtx_METdPhi', 'vtx_pt', 'vtx_eta', 'vtx_phi', 'vtx_energy', 'vtx_m', 'vtx_px', 'vtx_py', 'vtx_pz', 'vtx_refit_m', 'vtx_refit_pt', 'vtx_refit_eta', 'vtx_refit_phi', 'vtx_refit_dR', 'vtx_isMatched', 'vtx_matchSign', 'vtx_dRJets', 'vtx_dPhiJets', 'vtx_e1_typ', 'vtx_e1_idx', 'vtx_e1_isMatched', 'vtx_e1_matchType', 'vtx_e1_refit_dxy', 'vtx_e1_refit_dxyErr', 'vtx_e1_refit_dz', 'vtx_e1_refit_dzErr', 'vtx_e1_refit_chi2', 'vtx_e2_typ', 'vtx_e2_idx', 'vtx_e2_isMatched', 'vtx_e2_matchType', 'vtx_e2_refit_dxy', 'vtx_e2_refit_dxyErr', 'vtx_e2_refit_dz', 'vtx_e2_refit_dzErr', 'vtx_e2_refit_chi2', 'genWgt', 'genPU_obs', 'genPU_true', 'nGenJet', 'GenJet_pt', 'GenJet_eta', 'GenJet_phi', 'GenJet_METdPhi', 'GenMET_pt', 'GenMET_phi', 'GenMET_px', 'GenMET_py', 'GenMET_ET', 'nGenPart', 'GenPart_ID', 'GenPart_motherID', 'GenPart_charge', 'GenPart_pt', 'GenPart_eta', 'GenPart_phi', 'GenPart_e', 'GenPart_px', 'GenPart_py', 'GenPart_pz', 'GenPart_vxy', 'GenPart_vx', 'GenPart_vy', 'GenPart_vz', 'GenPart_mass']\n"
     ]
    }
   ],
   "source": [
    "#Run 3 \n",
    "bk2022 = uproot.open(\"/uscms/home/reshmar/nobackup/CMSSW_13_0_13/src/iDMe/AODSkimmer/Final_DYJets_2022_output.root\")\n",
    "tree2022 = bk2022['ntuples/outT']   #tree2022 is a dictionary. It has 366 keys aka branches.\n",
    "print (tree2022.keys())"
   ]
  },
  {
   "cell_type": "code",
   "execution_count": 25,
   "id": "94c5b9f0-95d8-4767-bc6e-d07524358e8a",
   "metadata": {},
   "outputs": [
    {
     "name": "stdout",
     "output_type": "stream",
     "text": [
      "<class 'awkward.highlevel.Array'>\n",
      "<class 'awkward.highlevel.Array'>\n",
      "<class 'awkward.highlevel.Array'>\n",
      "<class 'awkward.highlevel.Array'>\n",
      "<class 'awkward.highlevel.Array'>\n",
      "[[], [], [], [], [], [], [], [], [], [], ... [], [], [], [], [], [], [], [], [], []]\n"
     ]
    }
   ],
   "source": [
    "#The variables\n",
    "\n",
    "\n",
    "vtxvxy2022 = tree2022[\"vtx_vxy\"].array()\n",
    "print (type(vtxvxy2022))  #Awkward jagged (irregular) array\n",
    "flat_vtxvxy2022 = ak.flatten(vtxvxy2022)\n",
    "\n",
    "\n",
    "vtxpt2022 = tree2022[\"vtx_pt\"].array()\n",
    "print (type(vtxpt2022))  #Awkward jagged (irregular) array\n",
    "flat_vtxpt2022 = ak.flatten(vtxpt2022)\n",
    "\n",
    "\n",
    "vtxMETdPhi2022 = tree2022[\"vtx_METdPhi\"].array()\n",
    "print (type(vtxMETdPhi2022))  #Awkward jagged (irregular) array\n",
    "flat_vtxMETdPhi2022 = ak.flatten(vtxMETdPhi2022)\n",
    "\n",
    "\n",
    "vtxdR2022 = tree2022[\"vtx_dR\"].array()\n",
    "print (type(vtxdR2022))  #Awkward jagged (irregular) array\n",
    "flat_vtxdR2022 = ak.flatten(vtxdR2022)\n",
    "\n",
    "\n",
    "vtxm2022 = tree2022[\"vtx_m\"].array()\n",
    "print (type(vtxm2022))  #Awkward jagged (irregular) array\n",
    "flat_vtxm2022 = ak.flatten(vtxm2022)\n",
    "\n",
    "\n",
    "\n",
    "\n",
    "vtx_sign2022 = tree2022[\"vtx_sign\"].array()\n",
    "flat_vtx_sign2022 = ak.flatten(vtx_sign2022)\n",
    "\n",
    "\n",
    "vtx_minDxy2022 = tree2022[\"vtx_minDxy\"].array()\n",
    "flat_vtx_minDxy2022 = ak.flatten(vtx_minDxy2022)\n",
    "\n",
    "\n",
    "vtx_dPhiJets2022 = tree2022[\"vtx_dPhiJets\"].array()\n",
    "flat_vtx_dPhiJets2022 = ak.flatten(vtx_dPhiJets2022)\n",
    "\n",
    "print (flat_vtx_dPhiJets2022)\n",
    "\n",
    "\n",
    "\n",
    "\n",
    "\n",
    "\n",
    "LptElectron_pt2022 = tree2022[\"LptElectron_pt\"].array()\n",
    "#print (type(vtx_re2018))  #Awkward jagged (irregular) array\n",
    "flat_LptElectron_pt2022 = ak.flatten(LptElectron_pt2022)\n",
    "\n",
    "LptElectron_eta2022 = tree2022[\"LptElectron_eta\"].array()\n",
    "#print (type(LptElectron_eta2018))  #Awkward jagged (irregular) array\n",
    "flat_LptElectron_eta2022 = ak.flatten(LptElectron_eta2022)\n",
    "\n",
    "LptElectron_vxy2022 = tree2022[\"LptElectron_vxy\"].array()\n",
    "#print (type(vtx_reduced_chi22018))  #Awkward jagged (irregular) array\n",
    "flat_LptElectron_vxy2022 = ak.flatten(LptElectron_vxy2022)"
   ]
  },
  {
   "cell_type": "code",
   "execution_count": 24,
   "id": "2081e661-0dac-4b35-a441-2f5d46395db5",
   "metadata": {},
   "outputs": [
    {
     "name": "stdout",
     "output_type": "stream",
     "text": [
      "<class 'awkward.highlevel.Array'>\n",
      "<class 'awkward.highlevel.Array'>\n",
      "<class 'awkward.highlevel.Array'>\n",
      "<class 'awkward.highlevel.Array'>\n",
      "<class 'awkward.highlevel.Array'>\n",
      "<class 'awkward.highlevel.Array'>\n",
      "[0.00123, 0.00399, 0.000658, 0.000658, ... 0.000793, 0.00258, 0.00145, 9.29e-05]\n",
      "[[2.21, -1.98], [3.09, 2.42], [-0.201, ... -0.515], [2.79, -0.517], [2.76, -0.547]]\n"
     ]
    }
   ],
   "source": [
    "#Run 2\n",
    "bk2018 = uproot.open(\"/uscms/home/reshmar/nobackup/CMSSW_13_0_13/src/iDMe/AODSkimmer/2018_DYJets_output.root\")\n",
    "tree2018 = bk2018['ntuples/outT']   #tree2018 is a dictionary. \n",
    "\n",
    "#The variables\n",
    "vtxvxy2018 = tree2018[\"vtx_vxy\"].array()\n",
    "print (type(vtxvxy2018))  #Awkward jagged (irregular) array\n",
    "flat_vtxvxy2018 = ak.flatten(vtxvxy2018)\n",
    "\n",
    "\n",
    "\n",
    "vtxpt2018 = tree2018[\"vtx_pt\"].array()\n",
    "print (type(vtxpt2018))  #Awkward jagged (irregular) array\n",
    "flat_vtxpt2018 = ak.flatten(vtxpt2018)\n",
    "\n",
    "\n",
    "vtxMETdPhi2018 = tree2018[\"vtx_METdPhi\"].array()\n",
    "print (type(vtxMETdPhi2018))  #Awkward jagged (irregular) array\n",
    "flat_vtxMETdPhi2018 = ak.flatten(vtxMETdPhi2018)\n",
    "\n",
    "\n",
    "vtxdR2018 = tree2018[\"vtx_dR\"].array()\n",
    "print (type(vtxdR2018))  #Awkward jagged (irregular) array\n",
    "flat_vtxdR2018 = ak.flatten(vtxdR2018)\n",
    "\n",
    "\n",
    "vtxm2018 = tree2018[\"vtx_m\"].array()\n",
    "print (type(vtxm2018))  #Awkward jagged (irregular) array\n",
    "flat_vtxm2018 = ak.flatten(vtxm2018)\n",
    "\n",
    "\n",
    "vtx_reduced_chi22018 = tree2018[\"vtx_reduced_chi2\"].array()\n",
    "print (type(vtx_reduced_chi22018))  #Awkward jagged (irregular) array\n",
    "flat_vtx_reduced_chi22018 = ak.flatten(vtx_reduced_chi22018)\n",
    "\n",
    "\n",
    "vtx_sign2018 = tree2018[\"vtx_sign\"].array()\n",
    "flat_vtx_sign2018 = ak.flatten(vtx_sign2018)\n",
    "\n",
    "\n",
    "vtx_minDxy2018 = tree2022[\"vtx_minDxy\"].array()\n",
    "flat_vtx_minDxy2018 = ak.flatten(vtx_minDxy2018)\n",
    "print (flat_vtx_minDxy2018)\n",
    "\n",
    "\n",
    "vtx_dPhiJets2018 = tree2018[\"vtx_dPhiJets\"].array()\n",
    "flat_vtx_dPhiJets2018 = ak.flatten(vtx_dPhiJets2018)\n",
    "\n",
    "print (flat_vtx_dPhiJets2018)\n",
    "\n",
    "\n",
    "\n",
    "\n",
    "\n",
    "\n",
    "\n",
    "LptElectron_pt2018 = tree2018[\"LptElectron_pt\"].array()\n",
    "#print (type(vtx_re2018))  #Awkward jagged (irregular) array\n",
    "flat_LptElectron_pt2018 = ak.flatten(LptElectron_pt2018)\n",
    "\n",
    "LptElectron_eta2018 = tree2018[\"LptElectron_eta\"].array()\n",
    "#print (type(LptElectron_eta2018))  #Awkward jagged (irregular) array\n",
    "flat_LptElectron_eta2018 = ak.flatten(LptElectron_eta2018)\n",
    "\n",
    "LptElectron_vxy2018 = tree2018[\"LptElectron_vxy\"].array()\n",
    "#print (type(vtx_reduced_chi22018))  #Awkward jagged (irregular) array\n",
    "flat_LptElectron_vxy2018 = ak.flatten(LptElectron_vxy2018)"
   ]
  },
  {
   "cell_type": "markdown",
   "id": "56d4d8a6-5016-4163-9e9e-58003bc33751",
   "metadata": {},
   "source": [
    "Clearly, vtxvxy is an Awkward jagged (or say irregular) array. Since matplotlib expects only flat arrays, I had to flatten it."
   ]
  },
  {
   "cell_type": "markdown",
   "id": "db78e0c3-4d69-47ce-a78e-2e0c471e2a89",
   "metadata": {},
   "source": [
    "**Histograms**"
   ]
  },
  {
   "cell_type": "code",
   "execution_count": null,
   "id": "33df7466-3d45-496f-ac55-4c176c6faad1",
   "metadata": {},
   "outputs": [],
   "source": [
    "fig, ax = plt.subplots(figsize=(7,7))\n",
    "\n",
    "plt.hist(flat_vtxMETdPhi2022, bins=50,range = [-5,5], histtype='step', color='r',label='Run3')\n",
    "plt.hist(flat_vtxMETdPhi2018, bins=50,range = [-5,5], histtype='step', color='b',label='Run2')\n",
    "\n",
    "plt.title('')\n",
    "plt.xlabel(\"vtx_METdPhi\")\n",
    "\n",
    "plt.legend()\n",
    "\n",
    "plt.savefig('vtx_METdPhi.png', format='png', dpi=300)\n",
    "\n",
    "plt.show()\n"
   ]
  },
  {
   "cell_type": "code",
   "execution_count": null,
   "id": "2d261a7e-84f3-48c1-a338-3690a574b16c",
   "metadata": {},
   "outputs": [],
   "source": [
    "fig, ax = plt.subplots(figsize=(7,7))\n",
    "\n",
    "plt.hist(flat_vtxdR2022, bins=50, range=[0,6],histtype='step', color='r',label='Run3')\n",
    "plt.hist(flat_vtxdR2018, bins=50, range=[0,6],histtype='step', color='b',label='Run2')\n",
    "\n",
    "\n",
    "plt.title('')\n",
    "plt.xlabel(\"vtx_dR (in radians)\")\n",
    "\n",
    "plt.legend()\n",
    "plt.savefig('vtx_dR.png', format='png', dpi=300)\n",
    "\n",
    "plt.show()\n"
   ]
  },
  {
   "cell_type": "code",
   "execution_count": null,
   "id": "d52b65d5-f697-418e-98c1-4aae68891918",
   "metadata": {},
   "outputs": [],
   "source": [
    "fig, ax = plt.subplots(figsize=(7,7))\n",
    "\n",
    "plt.hist(flat_vtxvxy2022, bins=50, range=[0,6],histtype='step', color='r',label='Run3')\n",
    "plt.hist(flat_vtxvxy2018, bins=50, range=[0,6],histtype='step', color='b',label='Run2')\n",
    "plt.title('')\n",
    "plt.xlabel(\"vtx_vxy (in cm)\")\n",
    "\n",
    "plt.legend()\n",
    "\n",
    "plt.savefig('vtx_vxy.png', format='png', dpi=300)\n",
    "\n",
    "plt.show()"
   ]
  },
  {
   "cell_type": "code",
   "execution_count": null,
   "id": "c4d3afae-027f-4c99-af54-2ed87769b27a",
   "metadata": {},
   "outputs": [],
   "source": [
    "fig, ax = plt.subplots(figsize=(7,7))\n",
    "\n",
    "plt.hist(flat_vtxpt2022, bins=50, histtype='step', color='r',label='Run3')\n",
    "plt.hist(flat_vtxpt2018, bins=50, histtype='step', color='b',label='Run2')\n",
    "plt.title('')\n",
    "plt.xlabel(\"vtx_pt (in GeV)\")\n",
    "\n",
    "plt.legend()\n",
    "\n",
    "plt.savefig('vtx_pt.png', format='png', dpi=300)\n",
    "\n",
    "plt.show()"
   ]
  },
  {
   "cell_type": "code",
   "execution_count": null,
   "id": "43058cf8-e604-4712-8fa7-4b5d1fe56ba3",
   "metadata": {},
   "outputs": [],
   "source": [
    "fig, ax = plt.subplots(figsize=(7,7))\n",
    "\n",
    "plt.hist(flat_vtxm2022, bins=50, histtype='step', color='r',label='Run3')\n",
    "plt.hist(flat_vtxm2018, bins=50, histtype='step', color='b',label='Run2')\n",
    "\n",
    "plt.title('')\n",
    "plt.xlabel(\"vtx_m (in GeV)\")\n",
    "\n",
    "plt.legend()\n",
    "plt.savefig('vtx_m.png', format='png', dpi=300)\n",
    "\n",
    "plt.show()\n"
   ]
  },
  {
   "cell_type": "code",
   "execution_count": null,
   "id": "ee9c4710-d857-4bf6-9155-5c47a9085d78",
   "metadata": {},
   "outputs": [],
   "source": [
    "#Correction needed.\n",
    "fig, ax = plt.subplots(figsize=(7,7))\n",
    "\n",
    "plt.hist(flat_vtx_reduced_chi22022, bins=50, histtype='step', color='r',label='Run3')\n",
    "plt.hist(flat_vtx_reduced_chi22018, bins=50, histtype='step', color='b',label='Run2')\n",
    "\n",
    "plt.title('')\n",
    "plt.xlabel(\"vtx_reduced_chi2 \")\n",
    "\n",
    "plt.legend()\n",
    "plt.savefig('vtx_reduced_chi2.png', format='png', dpi=300)\n",
    "\n",
    "plt.show()\n",
    "\n",
    "\n",
    "\n",
    "\n",
    "\n"
   ]
  },
  {
   "cell_type": "code",
   "execution_count": 23,
   "id": "caf35137-0786-4212-aafa-d115aee31c08",
   "metadata": {},
   "outputs": [
    {
     "ename": "ValueError",
     "evalue": "in ListOffsetArray64, cannot convert to RegularArray because subarray lengths are not regular\n\n(https://github.com/scikit-hep/awkward-1.0/blob/1.10.3/src/cpu-kernels/awkward_ListOffsetArray_toRegularArray.cpp#L22)",
     "output_type": "error",
     "traceback": [
      "\u001b[0;31m---------------------------------------------------------------------------\u001b[0m",
      "\u001b[0;31mValueError\u001b[0m                                Traceback (most recent call last)",
      "Cell \u001b[0;32mIn[23], line 4\u001b[0m\n\u001b[1;32m      1\u001b[0m fig, ax \u001b[38;5;241m=\u001b[39m plt\u001b[38;5;241m.\u001b[39msubplots(figsize\u001b[38;5;241m=\u001b[39m(\u001b[38;5;241m7\u001b[39m,\u001b[38;5;241m7\u001b[39m))\n\u001b[1;32m      3\u001b[0m \u001b[38;5;66;03m#plt.hist(flat_vtx_dPhiJets2022, bins=50, histtype='step', color='r',label='Run3')\u001b[39;00m\n\u001b[0;32m----> 4\u001b[0m \u001b[43mplt\u001b[49m\u001b[38;5;241;43m.\u001b[39;49m\u001b[43mhist\u001b[49m\u001b[43m(\u001b[49m\u001b[43mflat_vtx_dPhiJets2018\u001b[49m\u001b[43m,\u001b[49m\u001b[43m \u001b[49m\u001b[43mbins\u001b[49m\u001b[38;5;241;43m=\u001b[39;49m\u001b[38;5;241;43m50\u001b[39;49m\u001b[43m,\u001b[49m\u001b[43m \u001b[49m\u001b[43mhisttype\u001b[49m\u001b[38;5;241;43m=\u001b[39;49m\u001b[38;5;124;43m'\u001b[39;49m\u001b[38;5;124;43mstep\u001b[39;49m\u001b[38;5;124;43m'\u001b[39;49m\u001b[43m,\u001b[49m\u001b[43m \u001b[49m\u001b[43mcolor\u001b[49m\u001b[38;5;241;43m=\u001b[39;49m\u001b[38;5;124;43m'\u001b[39;49m\u001b[38;5;124;43mb\u001b[39;49m\u001b[38;5;124;43m'\u001b[39;49m\u001b[43m,\u001b[49m\u001b[43mlabel\u001b[49m\u001b[38;5;241;43m=\u001b[39;49m\u001b[38;5;124;43m'\u001b[39;49m\u001b[38;5;124;43mRun2\u001b[39;49m\u001b[38;5;124;43m'\u001b[39;49m\u001b[43m)\u001b[49m\n\u001b[1;32m      6\u001b[0m plt\u001b[38;5;241m.\u001b[39mtitle(\u001b[38;5;124m'\u001b[39m\u001b[38;5;124m'\u001b[39m)\n\u001b[1;32m      7\u001b[0m plt\u001b[38;5;241m.\u001b[39mxlabel(\u001b[38;5;124m\"\u001b[39m\u001b[38;5;124mvtx_dPhiJets\u001b[39m\u001b[38;5;124m\"\u001b[39m)\n",
      "File \u001b[0;32m~/nobackup/miniconda3/envs/coffea/lib/python3.8/site-packages/matplotlib/pyplot.py:2645\u001b[0m, in \u001b[0;36mhist\u001b[0;34m(x, bins, range, density, weights, cumulative, bottom, histtype, align, orientation, rwidth, log, color, label, stacked, data, **kwargs)\u001b[0m\n\u001b[1;32m   2639\u001b[0m \u001b[38;5;129m@_copy_docstring_and_deprecators\u001b[39m(Axes\u001b[38;5;241m.\u001b[39mhist)\n\u001b[1;32m   2640\u001b[0m \u001b[38;5;28;01mdef\u001b[39;00m \u001b[38;5;21mhist\u001b[39m(\n\u001b[1;32m   2641\u001b[0m         x, bins\u001b[38;5;241m=\u001b[39m\u001b[38;5;28;01mNone\u001b[39;00m, \u001b[38;5;28mrange\u001b[39m\u001b[38;5;241m=\u001b[39m\u001b[38;5;28;01mNone\u001b[39;00m, density\u001b[38;5;241m=\u001b[39m\u001b[38;5;28;01mFalse\u001b[39;00m, weights\u001b[38;5;241m=\u001b[39m\u001b[38;5;28;01mNone\u001b[39;00m,\n\u001b[1;32m   2642\u001b[0m         cumulative\u001b[38;5;241m=\u001b[39m\u001b[38;5;28;01mFalse\u001b[39;00m, bottom\u001b[38;5;241m=\u001b[39m\u001b[38;5;28;01mNone\u001b[39;00m, histtype\u001b[38;5;241m=\u001b[39m\u001b[38;5;124m'\u001b[39m\u001b[38;5;124mbar\u001b[39m\u001b[38;5;124m'\u001b[39m, align\u001b[38;5;241m=\u001b[39m\u001b[38;5;124m'\u001b[39m\u001b[38;5;124mmid\u001b[39m\u001b[38;5;124m'\u001b[39m,\n\u001b[1;32m   2643\u001b[0m         orientation\u001b[38;5;241m=\u001b[39m\u001b[38;5;124m'\u001b[39m\u001b[38;5;124mvertical\u001b[39m\u001b[38;5;124m'\u001b[39m, rwidth\u001b[38;5;241m=\u001b[39m\u001b[38;5;28;01mNone\u001b[39;00m, log\u001b[38;5;241m=\u001b[39m\u001b[38;5;28;01mFalse\u001b[39;00m, color\u001b[38;5;241m=\u001b[39m\u001b[38;5;28;01mNone\u001b[39;00m,\n\u001b[1;32m   2644\u001b[0m         label\u001b[38;5;241m=\u001b[39m\u001b[38;5;28;01mNone\u001b[39;00m, stacked\u001b[38;5;241m=\u001b[39m\u001b[38;5;28;01mFalse\u001b[39;00m, \u001b[38;5;241m*\u001b[39m, data\u001b[38;5;241m=\u001b[39m\u001b[38;5;28;01mNone\u001b[39;00m, \u001b[38;5;241m*\u001b[39m\u001b[38;5;241m*\u001b[39mkwargs):\n\u001b[0;32m-> 2645\u001b[0m     \u001b[38;5;28;01mreturn\u001b[39;00m \u001b[43mgca\u001b[49m\u001b[43m(\u001b[49m\u001b[43m)\u001b[49m\u001b[38;5;241;43m.\u001b[39;49m\u001b[43mhist\u001b[49m\u001b[43m(\u001b[49m\n\u001b[1;32m   2646\u001b[0m \u001b[43m        \u001b[49m\u001b[43mx\u001b[49m\u001b[43m,\u001b[49m\u001b[43m \u001b[49m\u001b[43mbins\u001b[49m\u001b[38;5;241;43m=\u001b[39;49m\u001b[43mbins\u001b[49m\u001b[43m,\u001b[49m\u001b[43m \u001b[49m\u001b[38;5;28;43mrange\u001b[39;49m\u001b[38;5;241;43m=\u001b[39;49m\u001b[38;5;28;43mrange\u001b[39;49m\u001b[43m,\u001b[49m\u001b[43m \u001b[49m\u001b[43mdensity\u001b[49m\u001b[38;5;241;43m=\u001b[39;49m\u001b[43mdensity\u001b[49m\u001b[43m,\u001b[49m\u001b[43m \u001b[49m\u001b[43mweights\u001b[49m\u001b[38;5;241;43m=\u001b[39;49m\u001b[43mweights\u001b[49m\u001b[43m,\u001b[49m\n\u001b[1;32m   2647\u001b[0m \u001b[43m        \u001b[49m\u001b[43mcumulative\u001b[49m\u001b[38;5;241;43m=\u001b[39;49m\u001b[43mcumulative\u001b[49m\u001b[43m,\u001b[49m\u001b[43m \u001b[49m\u001b[43mbottom\u001b[49m\u001b[38;5;241;43m=\u001b[39;49m\u001b[43mbottom\u001b[49m\u001b[43m,\u001b[49m\u001b[43m \u001b[49m\u001b[43mhisttype\u001b[49m\u001b[38;5;241;43m=\u001b[39;49m\u001b[43mhisttype\u001b[49m\u001b[43m,\u001b[49m\n\u001b[1;32m   2648\u001b[0m \u001b[43m        \u001b[49m\u001b[43malign\u001b[49m\u001b[38;5;241;43m=\u001b[39;49m\u001b[43malign\u001b[49m\u001b[43m,\u001b[49m\u001b[43m \u001b[49m\u001b[43morientation\u001b[49m\u001b[38;5;241;43m=\u001b[39;49m\u001b[43morientation\u001b[49m\u001b[43m,\u001b[49m\u001b[43m \u001b[49m\u001b[43mrwidth\u001b[49m\u001b[38;5;241;43m=\u001b[39;49m\u001b[43mrwidth\u001b[49m\u001b[43m,\u001b[49m\u001b[43m \u001b[49m\u001b[43mlog\u001b[49m\u001b[38;5;241;43m=\u001b[39;49m\u001b[43mlog\u001b[49m\u001b[43m,\u001b[49m\n\u001b[1;32m   2649\u001b[0m \u001b[43m        \u001b[49m\u001b[43mcolor\u001b[49m\u001b[38;5;241;43m=\u001b[39;49m\u001b[43mcolor\u001b[49m\u001b[43m,\u001b[49m\u001b[43m \u001b[49m\u001b[43mlabel\u001b[49m\u001b[38;5;241;43m=\u001b[39;49m\u001b[43mlabel\u001b[49m\u001b[43m,\u001b[49m\u001b[43m \u001b[49m\u001b[43mstacked\u001b[49m\u001b[38;5;241;43m=\u001b[39;49m\u001b[43mstacked\u001b[49m\u001b[43m,\u001b[49m\n\u001b[1;32m   2650\u001b[0m \u001b[43m        \u001b[49m\u001b[38;5;241;43m*\u001b[39;49m\u001b[38;5;241;43m*\u001b[39;49m\u001b[43m(\u001b[49m\u001b[43m{\u001b[49m\u001b[38;5;124;43m\"\u001b[39;49m\u001b[38;5;124;43mdata\u001b[39;49m\u001b[38;5;124;43m\"\u001b[39;49m\u001b[43m:\u001b[49m\u001b[43m \u001b[49m\u001b[43mdata\u001b[49m\u001b[43m}\u001b[49m\u001b[43m \u001b[49m\u001b[38;5;28;43;01mif\u001b[39;49;00m\u001b[43m \u001b[49m\u001b[43mdata\u001b[49m\u001b[43m \u001b[49m\u001b[38;5;129;43;01mis\u001b[39;49;00m\u001b[43m \u001b[49m\u001b[38;5;129;43;01mnot\u001b[39;49;00m\u001b[43m \u001b[49m\u001b[38;5;28;43;01mNone\u001b[39;49;00m\u001b[43m \u001b[49m\u001b[38;5;28;43;01melse\u001b[39;49;00m\u001b[43m \u001b[49m\u001b[43m{\u001b[49m\u001b[43m}\u001b[49m\u001b[43m)\u001b[49m\u001b[43m,\u001b[49m\u001b[43m \u001b[49m\u001b[38;5;241;43m*\u001b[39;49m\u001b[38;5;241;43m*\u001b[39;49m\u001b[43mkwargs\u001b[49m\u001b[43m)\u001b[49m\n",
      "File \u001b[0;32m~/nobackup/miniconda3/envs/coffea/lib/python3.8/site-packages/matplotlib/__init__.py:1442\u001b[0m, in \u001b[0;36m_preprocess_data.<locals>.inner\u001b[0;34m(ax, data, *args, **kwargs)\u001b[0m\n\u001b[1;32m   1439\u001b[0m \u001b[38;5;129m@functools\u001b[39m\u001b[38;5;241m.\u001b[39mwraps(func)\n\u001b[1;32m   1440\u001b[0m \u001b[38;5;28;01mdef\u001b[39;00m \u001b[38;5;21minner\u001b[39m(ax, \u001b[38;5;241m*\u001b[39margs, data\u001b[38;5;241m=\u001b[39m\u001b[38;5;28;01mNone\u001b[39;00m, \u001b[38;5;241m*\u001b[39m\u001b[38;5;241m*\u001b[39mkwargs):\n\u001b[1;32m   1441\u001b[0m     \u001b[38;5;28;01mif\u001b[39;00m data \u001b[38;5;129;01mis\u001b[39;00m \u001b[38;5;28;01mNone\u001b[39;00m:\n\u001b[0;32m-> 1442\u001b[0m         \u001b[38;5;28;01mreturn\u001b[39;00m \u001b[43mfunc\u001b[49m\u001b[43m(\u001b[49m\u001b[43max\u001b[49m\u001b[43m,\u001b[49m\u001b[43m \u001b[49m\u001b[38;5;241;43m*\u001b[39;49m\u001b[38;5;28;43mmap\u001b[39;49m\u001b[43m(\u001b[49m\u001b[43msanitize_sequence\u001b[49m\u001b[43m,\u001b[49m\u001b[43m \u001b[49m\u001b[43margs\u001b[49m\u001b[43m)\u001b[49m\u001b[43m,\u001b[49m\u001b[43m \u001b[49m\u001b[38;5;241;43m*\u001b[39;49m\u001b[38;5;241;43m*\u001b[39;49m\u001b[43mkwargs\u001b[49m\u001b[43m)\u001b[49m\n\u001b[1;32m   1444\u001b[0m     bound \u001b[38;5;241m=\u001b[39m new_sig\u001b[38;5;241m.\u001b[39mbind(ax, \u001b[38;5;241m*\u001b[39margs, \u001b[38;5;241m*\u001b[39m\u001b[38;5;241m*\u001b[39mkwargs)\n\u001b[1;32m   1445\u001b[0m     auto_label \u001b[38;5;241m=\u001b[39m (bound\u001b[38;5;241m.\u001b[39marguments\u001b[38;5;241m.\u001b[39mget(label_namer)\n\u001b[1;32m   1446\u001b[0m                   \u001b[38;5;129;01mor\u001b[39;00m bound\u001b[38;5;241m.\u001b[39mkwargs\u001b[38;5;241m.\u001b[39mget(label_namer))\n",
      "File \u001b[0;32m~/nobackup/miniconda3/envs/coffea/lib/python3.8/site-packages/matplotlib/axes/_axes.py:6703\u001b[0m, in \u001b[0;36mAxes.hist\u001b[0;34m(self, x, bins, range, density, weights, cumulative, bottom, histtype, align, orientation, rwidth, log, color, label, stacked, **kwargs)\u001b[0m\n\u001b[1;32m   6700\u001b[0m     stacked \u001b[38;5;241m=\u001b[39m \u001b[38;5;28;01mTrue\u001b[39;00m\n\u001b[1;32m   6702\u001b[0m \u001b[38;5;66;03m# Massage 'x' for processing.\u001b[39;00m\n\u001b[0;32m-> 6703\u001b[0m x \u001b[38;5;241m=\u001b[39m \u001b[43mcbook\u001b[49m\u001b[38;5;241;43m.\u001b[39;49m\u001b[43m_reshape_2D\u001b[49m\u001b[43m(\u001b[49m\u001b[43mx\u001b[49m\u001b[43m,\u001b[49m\u001b[43m \u001b[49m\u001b[38;5;124;43m'\u001b[39;49m\u001b[38;5;124;43mx\u001b[39;49m\u001b[38;5;124;43m'\u001b[39;49m\u001b[43m)\u001b[49m\n\u001b[1;32m   6704\u001b[0m nx \u001b[38;5;241m=\u001b[39m \u001b[38;5;28mlen\u001b[39m(x)  \u001b[38;5;66;03m# number of datasets\u001b[39;00m\n\u001b[1;32m   6706\u001b[0m \u001b[38;5;66;03m# Process unit information.  _process_unit_info sets the unit and\u001b[39;00m\n\u001b[1;32m   6707\u001b[0m \u001b[38;5;66;03m# converts the first dataset; then we convert each following dataset\u001b[39;00m\n\u001b[1;32m   6708\u001b[0m \u001b[38;5;66;03m# one at a time.\u001b[39;00m\n",
      "File \u001b[0;32m~/nobackup/miniconda3/envs/coffea/lib/python3.8/site-packages/matplotlib/cbook/__init__.py:1366\u001b[0m, in \u001b[0;36m_reshape_2D\u001b[0;34m(X, name)\u001b[0m\n\u001b[1;32m   1354\u001b[0m \u001b[38;5;250m\u001b[39m\u001b[38;5;124;03m\"\"\"\u001b[39;00m\n\u001b[1;32m   1355\u001b[0m \u001b[38;5;124;03mUse Fortran ordering to convert ndarrays and lists of iterables to lists of\u001b[39;00m\n\u001b[1;32m   1356\u001b[0m \u001b[38;5;124;03m1D arrays.\u001b[39;00m\n\u001b[0;32m   (...)\u001b[0m\n\u001b[1;32m   1362\u001b[0m \u001b[38;5;124;03m*name* is used to generate the error message for invalid inputs.\u001b[39;00m\n\u001b[1;32m   1363\u001b[0m \u001b[38;5;124;03m\"\"\"\u001b[39;00m\n\u001b[1;32m   1365\u001b[0m \u001b[38;5;66;03m# Unpack in case of e.g. Pandas or xarray object\u001b[39;00m\n\u001b[0;32m-> 1366\u001b[0m X \u001b[38;5;241m=\u001b[39m \u001b[43m_unpack_to_numpy\u001b[49m\u001b[43m(\u001b[49m\u001b[43mX\u001b[49m\u001b[43m)\u001b[49m\n\u001b[1;32m   1368\u001b[0m \u001b[38;5;66;03m# Iterate over columns for ndarrays.\u001b[39;00m\n\u001b[1;32m   1369\u001b[0m \u001b[38;5;28;01mif\u001b[39;00m \u001b[38;5;28misinstance\u001b[39m(X, np\u001b[38;5;241m.\u001b[39mndarray):\n",
      "File \u001b[0;32m~/nobackup/miniconda3/envs/coffea/lib/python3.8/site-packages/matplotlib/cbook/__init__.py:2297\u001b[0m, in \u001b[0;36m_unpack_to_numpy\u001b[0;34m(x)\u001b[0m\n\u001b[1;32m   2294\u001b[0m     \u001b[38;5;28;01mreturn\u001b[39;00m x\n\u001b[1;32m   2295\u001b[0m \u001b[38;5;28;01mif\u001b[39;00m \u001b[38;5;28mhasattr\u001b[39m(x, \u001b[38;5;124m'\u001b[39m\u001b[38;5;124mto_numpy\u001b[39m\u001b[38;5;124m'\u001b[39m):\n\u001b[1;32m   2296\u001b[0m     \u001b[38;5;66;03m# Assume that any function to_numpy() do actually return a numpy array\u001b[39;00m\n\u001b[0;32m-> 2297\u001b[0m     \u001b[38;5;28;01mreturn\u001b[39;00m \u001b[43mx\u001b[49m\u001b[38;5;241;43m.\u001b[39;49m\u001b[43mto_numpy\u001b[49m\u001b[43m(\u001b[49m\u001b[43m)\u001b[49m\n\u001b[1;32m   2298\u001b[0m \u001b[38;5;28;01mif\u001b[39;00m \u001b[38;5;28mhasattr\u001b[39m(x, \u001b[38;5;124m'\u001b[39m\u001b[38;5;124mvalues\u001b[39m\u001b[38;5;124m'\u001b[39m):\n\u001b[1;32m   2299\u001b[0m     xtmp \u001b[38;5;241m=\u001b[39m x\u001b[38;5;241m.\u001b[39mvalues\n",
      "File \u001b[0;32m~/nobackup/miniconda3/envs/coffea/lib/python3.8/site-packages/awkward/highlevel.py:464\u001b[0m, in \u001b[0;36mArray.to_numpy\u001b[0;34m(self, allow_missing)\u001b[0m\n\u001b[1;32m    460\u001b[0m \u001b[38;5;28;01mdef\u001b[39;00m \u001b[38;5;21mto_numpy\u001b[39m(\u001b[38;5;28mself\u001b[39m, allow_missing\u001b[38;5;241m=\u001b[39m\u001b[38;5;28;01mTrue\u001b[39;00m):\n\u001b[1;32m    461\u001b[0m \u001b[38;5;250m    \u001b[39m\u001b[38;5;124;03m\"\"\"\u001b[39;00m\n\u001b[1;32m    462\u001b[0m \u001b[38;5;124;03m    Converts this Array into a NumPy array, if possible; same as #ak.to_numpy.\u001b[39;00m\n\u001b[1;32m    463\u001b[0m \u001b[38;5;124;03m    \"\"\"\u001b[39;00m\n\u001b[0;32m--> 464\u001b[0m     \u001b[38;5;28;01mreturn\u001b[39;00m \u001b[43mak\u001b[49m\u001b[38;5;241;43m.\u001b[39;49m\u001b[43moperations\u001b[49m\u001b[38;5;241;43m.\u001b[39;49m\u001b[43mconvert\u001b[49m\u001b[38;5;241;43m.\u001b[39;49m\u001b[43mto_numpy\u001b[49m\u001b[43m(\u001b[49m\u001b[38;5;28;43mself\u001b[39;49m\u001b[43m,\u001b[49m\u001b[43m \u001b[49m\u001b[43mallow_missing\u001b[49m\u001b[38;5;241;43m=\u001b[39;49m\u001b[43mallow_missing\u001b[49m\u001b[43m)\u001b[49m\n",
      "File \u001b[0;32m~/nobackup/miniconda3/envs/coffea/lib/python3.8/site-packages/awkward/operations/convert.py:196\u001b[0m, in \u001b[0;36mto_numpy\u001b[0;34m(array, allow_missing)\u001b[0m\n\u001b[1;32m    193\u001b[0m     \u001b[38;5;28;01mreturn\u001b[39;00m array\n\u001b[1;32m    195\u001b[0m \u001b[38;5;28;01melif\u001b[39;00m \u001b[38;5;28misinstance\u001b[39m(array, ak\u001b[38;5;241m.\u001b[39mhighlevel\u001b[38;5;241m.\u001b[39mArray):\n\u001b[0;32m--> 196\u001b[0m     \u001b[38;5;28;01mreturn\u001b[39;00m \u001b[43mto_numpy\u001b[49m\u001b[43m(\u001b[49m\u001b[43marray\u001b[49m\u001b[38;5;241;43m.\u001b[39;49m\u001b[43mlayout\u001b[49m\u001b[43m,\u001b[49m\u001b[43m \u001b[49m\u001b[43mallow_missing\u001b[49m\u001b[38;5;241;43m=\u001b[39;49m\u001b[43mallow_missing\u001b[49m\u001b[43m)\u001b[49m\n\u001b[1;32m    198\u001b[0m \u001b[38;5;28;01melif\u001b[39;00m \u001b[38;5;28misinstance\u001b[39m(array, ak\u001b[38;5;241m.\u001b[39mhighlevel\u001b[38;5;241m.\u001b[39mRecord):\n\u001b[1;32m    199\u001b[0m     out \u001b[38;5;241m=\u001b[39m array\u001b[38;5;241m.\u001b[39mlayout\n",
      "File \u001b[0;32m~/nobackup/miniconda3/envs/coffea/lib/python3.8/site-packages/awkward/operations/convert.py:324\u001b[0m, in \u001b[0;36mto_numpy\u001b[0;34m(array, allow_missing)\u001b[0m\n\u001b[1;32m    321\u001b[0m     \u001b[38;5;28;01mreturn\u001b[39;00m out[: shape[\u001b[38;5;241m0\u001b[39m] \u001b[38;5;241m*\u001b[39m array\u001b[38;5;241m.\u001b[39msize]\u001b[38;5;241m.\u001b[39mreshape(shape)\n\u001b[1;32m    323\u001b[0m \u001b[38;5;28;01melif\u001b[39;00m \u001b[38;5;28misinstance\u001b[39m(array, ak\u001b[38;5;241m.\u001b[39m_util\u001b[38;5;241m.\u001b[39mlisttypes):\n\u001b[0;32m--> 324\u001b[0m     \u001b[38;5;28;01mreturn\u001b[39;00m to_numpy(\u001b[43marray\u001b[49m\u001b[38;5;241;43m.\u001b[39;49m\u001b[43mtoRegularArray\u001b[49m\u001b[43m(\u001b[49m\u001b[43m)\u001b[49m, allow_missing\u001b[38;5;241m=\u001b[39mallow_missing)\n\u001b[1;32m    326\u001b[0m \u001b[38;5;28;01melif\u001b[39;00m \u001b[38;5;28misinstance\u001b[39m(array, ak\u001b[38;5;241m.\u001b[39m_util\u001b[38;5;241m.\u001b[39mrecordtypes):\n\u001b[1;32m    327\u001b[0m     \u001b[38;5;28;01mif\u001b[39;00m array\u001b[38;5;241m.\u001b[39mnumfields \u001b[38;5;241m==\u001b[39m \u001b[38;5;241m0\u001b[39m:\n",
      "\u001b[0;31mValueError\u001b[0m: in ListOffsetArray64, cannot convert to RegularArray because subarray lengths are not regular\n\n(https://github.com/scikit-hep/awkward-1.0/blob/1.10.3/src/cpu-kernels/awkward_ListOffsetArray_toRegularArray.cpp#L22)"
     ]
    },
    {
     "data": {
      "image/png": "[encoded data removed]",
      "text/plain": [
       "<Figure size 700x700 with 1 Axes>"
      ]
     },
     "metadata": {},
     "output_type": "display_data"
    }
   ],
   "source": [
    "fig, ax = plt.subplots(figsize=(7,7))\n",
    "\n",
    "#plt.hist(flat_vtx_dPhiJets2022, bins=50, histtype='step', color='r',label='Run3')\n",
    "plt.hist(flat_vtx_dPhiJets2018, bins=50, histtype='step', color='b',label='Run2')\n",
    "\n",
    "plt.title('')\n",
    "plt.xlabel(\"vtx_dPhiJets\")\n",
    "\n",
    "plt.legend()\n",
    "plt.savefig('vtx_dPhiJets.png', format='png', dpi=300)\n",
    "\n",
    "plt.show()\n",
    "\n"
   ]
  },
  {
   "cell_type": "code",
   "execution_count": 19,
   "id": "96607e67-1ed4-4164-b3cb-0afa41bab62f",
   "metadata": {},
   "outputs": [
    {
     "data": {
      "image/png": "[encoded data removed]",
      "text/plain": [
       "<Figure size 700x700 with 1 Axes>"
      ]
     },
     "metadata": {},
     "output_type": "display_data"
    }
   ],
   "source": [
    "fig, ax = plt.subplots(figsize=(7,7))\n",
    "\n",
    "plt.hist(flat_vtx_minDxy2022, bins=50,range =[0,0.060], histtype='step', color='r',label='Run3')\n",
    "plt.hist(flat_vtx_minDxy2018, bins=50,range = [0,0.060], histtype='step', color='b',label='Run2')\n",
    "\n",
    "plt.title('')\n",
    "plt.xlabel(\"vtx_minDxy\")\n",
    "\n",
    "plt.legend()\n",
    "plt.savefig('vtx_minDxy.png', format='png', dpi=300)\n",
    "\n",
    "plt.show()\n"
   ]
  },
  {
   "cell_type": "code",
   "execution_count": null,
   "id": "cd1780b7-ce41-4a38-96fa-c7614b567580",
   "metadata": {},
   "outputs": [],
   "source": [
    "#Run 3 \n",
    "bk2022 = uproot.open(\"/uscms/home/reshmar/nobackup/CMSSW_13_0_13/src/iDMe/AODSkimmer/Final_DYJets_2022_output.root\")\n",
    "tree2022 = bk2022['ntuples/outT']   #tree2022 is a dictionary. It has 366 keys aka branches.\n",
    "\n",
    "LptElectron_pt2022 = tree2022[\"LptElectron_pt\"].array()\n",
    "#print (type(vtx_re2018))  #Awkward jagged (irregular) array\n",
    "flat_LptElectron_pt2022 = ak.flatten(LptElectron_pt2022)\n",
    "\n",
    "LptElectron_eta2022 = tree2022[\"LptElectron_eta\"].array()\n",
    "#print (type(LptElectron_eta2018))  #Awkward jagged (irregular) array\n",
    "flat_LptElectron_eta2022 = ak.flatten(LptElectron_eta2022)\n",
    "\n",
    "LptElectron_vxy2022 = tree2022[\"LptElectron_vxy\"].array()\n",
    "#print (type(vtx_reduced_chi22018))  #Awkward jagged (irregular) array\n",
    "flat_LptElectron_vxy2022 = ak.flatten(LptElectron_vxy2022)\n",
    "\n",
    "\n",
    "LptElectron_vxy2022 = tree2022[\"LptElectron_vxy\"].array()\n",
    "#print (type(vtx_reduced_chi22018))  #Awkward jagged (irregular) array\n",
    "flat_LptElectron_vxy2022 = ak.flatten(LptElectron_vxy2022)\n",
    "\n",
    "LptElectron_charge2022 = tree2022[\"LptElectron_charge\"].array()\n",
    "#print (type(vtx_reduced_chi22018))  #Awkward jagged (irregular) array\n",
    "flat_LptElectron_charge2022 = ak.flatten(LptElectron_charge2022)\n",
    "\n",
    "\n",
    "LptElectron_e2022 = tree2022[\"LptElectron_e\"].array()\n",
    "#print (type(vtx_reduced_chi22018))  #Awkward jagged (irregular) array\n",
    "flat_LptElectron_e2022 = ak.flatten(LptElectron_e2022)\n",
    "\n",
    "LptElectron_dxy2022 = tree2022[\"LptElectron_dxy\"].array()\n",
    "#print (type(vtx_reduced_chi22018))  #Awkward jagged (irregular) array\n",
    "flat_LptElectron_dxy2022 = ak.flatten(LptElectron_dxy2022)\n",
    "\n",
    "\n",
    "\n",
    "\n",
    "\n",
    "\n",
    "#Run 2\n",
    "bk2018 = uproot.open(\"/uscms/home/reshmar/nobackup/CMSSW_13_0_13/src/iDMe/AODSkimmer/2018_DYJets_output.root\")\n",
    "tree2018 = bk2018['ntuples/outT']   #tree2018 is a dictionary. \n",
    "\n",
    "LptElectron_pt2018 = tree2018[\"LptElectron_pt\"].array()\n",
    "#print (type(vtx_re2018))  #Awkward jagged (irregular) array\n",
    "flat_LptElectron_pt2018 = ak.flatten(LptElectron_pt2018)\n",
    "\n",
    "LptElectron_eta2018 = tree2018[\"LptElectron_eta\"].array()\n",
    "#print (type(LptElectron_eta2018))  #Awkward jagged (irregular) array\n",
    "flat_LptElectron_eta2018 = ak.flatten(LptElectron_eta2018)\n",
    "\n",
    "LptElectron_vxy2018 = tree2018[\"LptElectron_vxy\"].array()\n",
    "#print (type(vtx_reduced_chi22018))  #Awkward jagged (irregular) array\n",
    "flat_LptElectron_vxy2018 = ak.flatten(LptElectron_vxy2018)\n",
    "\n",
    "\n",
    "LptElectron_charge2018 = tree2018[\"LptElectron_charge\"].array()\n",
    "#print (type(vtx_reduced_chi22018))  #Awkward jagged (irregular) array\n",
    "flat_LptElectron_charge2018 = ak.flatten(LptElectron_charge2018)\n",
    "\n",
    "\n",
    "LptElectron_e2018 = tree2018[\"LptElectron_e\"].array()\n",
    "#print (type(vtx_reduced_chi22018))  #Awkward jagged (irregular) array\n",
    "flat_LptElectron_e2018 = ak.flatten(LptElectron_e2018)\n",
    "\n",
    "LptElectron_dxy2018 = tree2018[\"LptElectron_dxy\"].array()\n",
    "#print (type(vtx_reduced_chi22018))  #Awkward jagged (irregular) array\n",
    "flat_LptElectron_dxy2018 = ak.flatten(LptElectron_dxy2018)\n",
    "\n",
    "\n",
    "\n",
    "\n",
    "\n",
    "\n",
    "\n",
    "\n"
   ]
  },
  {
   "cell_type": "code",
   "execution_count": null,
   "id": "38ce3137-cac3-4c08-a747-ee8772bdf311",
   "metadata": {},
   "outputs": [],
   "source": [
    "#Histograms for LowpTElectron\n",
    "fig, ax = plt.subplots(figsize=(7,7))\n",
    "\n",
    "plt.hist(flat_LptElectron_pt2022, bins=50, histtype='step', color='r',label='Run3')\n",
    "plt.hist(flat_LptElectron_pt2018, bins=50, histtype='step', color='b',label='Run2')\n",
    "\n",
    "plt.title('')\n",
    "plt.xlabel(\"LptElectron_pt\")\n",
    "\n",
    "plt.legend()\n",
    "plt.savefig('LptElectron_pt.png', format='png', dpi=300)\n",
    "\n",
    "plt.show()\n"
   ]
  },
  {
   "cell_type": "code",
   "execution_count": null,
   "id": "7432f3fb-9fd1-4c65-8399-8b333ae90660",
   "metadata": {},
   "outputs": [],
   "source": [
    "#Histograms for LowpTElectron\n",
    "fig, ax = plt.subplots(figsize=(7,7))\n",
    "\n",
    "plt.hist(flat_LptElectron_pt2022, bins=50, histtype='step', color='r',label='Run3')\n",
    "plt.hist(flat_LptElectron_pt2018, bins=50, histtype='step', color='b',label='Run2')\n",
    "\n",
    "plt.title('')\n",
    "plt.xlabel(\"LptElectron_pt\")\n",
    "\n",
    "plt.legend()\n",
    "plt.savefig('LptElectron_pt.png', format='png', dpi=300)\n",
    "\n",
    "plt.show()"
   ]
  },
  {
   "cell_type": "code",
   "execution_count": null,
   "id": "6c34bed4-8b75-487f-852d-705ba840d14c",
   "metadata": {},
   "outputs": [],
   "source": [
    "#Histograms for LowpTElectron\n",
    "fig, ax = plt.subplots(figsize=(7,7))\n",
    "\n",
    "plt.hist(flat_LptElectron_vxy2022, bins=50, range = [0,2.1], histtype='step', color='r',label='Run3')\n",
    "plt.hist(flat_LptElectron_vxy2018, bins=50, range = [0,2.1], histtype='step', color='b',label='Run2')\n",
    "\n",
    "plt.title('')\n",
    "plt.xlabel(\"LptElectron_vxy\")\n",
    "\n",
    "plt.legend()\n",
    "plt.savefig('LptElectron_vxy2022.png', format='png', dpi=300)\n",
    "\n",
    "plt.show()"
   ]
  },
  {
   "cell_type": "code",
   "execution_count": null,
   "id": "dc5ac683-07db-4395-a2d1-657550533990",
   "metadata": {},
   "outputs": [],
   "source": [
    "#Histograms for LowpTElectron\n",
    "fig, ax = plt.subplots(figsize=(7,7))\n",
    "\n",
    "plt.hist(flat_LptElectron_eta2022, bins=50, histtype='step', color='r',label='Run3')\n",
    "plt.hist(flat_LptElectron_eta2018, bins=50, histtype='step', color='b',label='Run2')\n",
    "\n",
    "plt.title('')\n",
    "plt.xlabel(\"LptElectron_eta\")\n",
    "\n",
    "plt.legend()\n",
    "plt.savefig('LptElectron_eta.png', format='png', dpi=300)\n",
    "\n",
    "plt.show()"
   ]
  },
  {
   "cell_type": "code",
   "execution_count": null,
   "id": "7b282a06-cff4-4800-99c5-f70ec2730126",
   "metadata": {},
   "outputs": [],
   "source": [
    "#Histograms for LowpTElectron\n",
    "fig, ax = plt.subplots(figsize=(7,7))\n",
    "\n",
    "plt.hist(flat_LptElectron_charge2022, bins=50, histtype='step', color='r',label='Run3')\n",
    "plt.hist(flat_LptElectron_charge2018, bins=50, histtype='step', color='b',label='Run2')\n",
    "\n",
    "plt.title('')\n",
    "plt.xlabel(\"LptElectron_charge\")\n",
    "\n",
    "plt.legend()\n",
    "plt.savefig('LptElectron_charge.png', format='png', dpi=300)\n",
    "\n",
    "plt.show()"
   ]
  },
  {
   "cell_type": "code",
   "execution_count": null,
   "id": "a8a40fb4-640b-4003-8d8f-cafc9e5f1e8b",
   "metadata": {},
   "outputs": [],
   "source": [
    "#Histograms for LowpTElectron\n",
    "fig, ax = plt.subplots(figsize=(7,7))\n",
    "\n",
    "plt.hist(flat_LptElectron_e2022, bins=50, histtype='step', color='r',label='Run3')\n",
    "plt.hist(flat_LptElectron_e2018, bins=50, histtype='step', color='b',label='Run2')\n",
    "\n",
    "plt.title('')\n",
    "plt.xlabel(\"LptElectron_e\")\n",
    "\n",
    "plt.legend()\n",
    "plt.savefig('LptElectron_e.png', format='png', dpi=300)\n",
    "\n",
    "plt.show()"
   ]
  },
  {
   "cell_type": "code",
   "execution_count": null,
   "id": "6b465900-94d8-4104-a9c2-677f5a111fe7",
   "metadata": {},
   "outputs": [],
   "source": [
    "#Histograms for LowpTElectron\n",
    "fig, ax = plt.subplots(figsize=(7,7))\n",
    "\n",
    "plt.hist(flat_LptElectron_dxy2022, bins=50, histtype='step', color='r',label='Run3')\n",
    "plt.hist(flat_LptElectron_dxy2018, bins=50, histtype='step', color='b',label='Run2')\n",
    "\n",
    "plt.title('')\n",
    "plt.xlabel(\"LptElectron_dxy\")\n",
    "\n",
    "plt.legend()\n",
    "plt.savefig('LptElectron_dxy.png', format='png', dpi=300)\n",
    "\n",
    "plt.show()"
   ]
  },
  {
   "cell_type": "code",
   "execution_count": null,
   "id": "29899448-6a74-4e69-a015-b5b5628d8e2b",
   "metadata": {},
   "outputs": [],
   "source": []
  }
 ],
 "metadata": {
  "kernelspec": {
   "display_name": "Python [conda env:coffea]",
   "language": "python",
   "name": "conda-env-coffea-py"
  },
  "language_info": {
   "codemirror_mode": {
    "name": "ipython",
    "version": 3
   },
   "file_extension": ".py",
   "mimetype": "text/x-python",
   "name": "python",
   "nbconvert_exporter": "python",
   "pygments_lexer": "ipython3",
   "version": "3.8.17"
  }
 },
 "nbformat": 4,
 "nbformat_minor": 5
}
