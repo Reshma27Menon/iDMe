{
 "cells": [
  {
   "cell_type": "markdown",
   "id": "7a2142b3-98c8-4ef5-a196-0235acc1c058",
   "metadata": {},
   "source": [
    "This notebook is used to run coffea for signal and background."
   ]
  },
  {
   "cell_type": "code",
   "execution_count": 5,
   "id": "3c975554-9e24-4a16-b404-7e62a76cff1c",
   "metadata": {},
   "outputs": [
    {
     "name": "stdout",
     "output_type": "stream",
     "text": [
      "The autoreload extension is already loaded. To reload it, use:\n",
      "  %reload_ext autoreload\n"
     ]
    }
   ],
   "source": [
    "#Import the required packages:\n",
    "\n",
    "%load_ext autoreload\n",
    "%autoreload 2\n",
    "import numpy as np\n",
    "import matplotlib.pyplot as plt\n",
    "import awkward as ak\n",
    "\n",
    "import sys\n",
    "sys.path.append(\"../analysisTools/\")\n",
    "from analysisTools import Analyzer\n",
    "from analysisTools import loadSchema\n",
    "import analysisTools as tools\n",
    "import analysisSubroutines as routines\n",
    "import importlib\n",
    "import coffea.util as util\n",
    "\n",
    "import time\n",
    "import json\n",
    "import os\n",
    "import glob"
   ]
  },
  {
   "cell_type": "markdown",
   "id": "c00b1ca6-cd7c-42a0-ac2e-89c6421e8d35",
   "metadata": {},
   "source": [
    "**Run coffea on skimmed ntuples**\n",
    "\n",
    "Let us focus on the signal first.\n",
    "\n",
    "Coffea analyzer requires config files for cut, histogram, and sample information."
   ]
  },
  {
   "cell_type": "code",
   "execution_count": 2,
   "id": "0beb34fc-4ddd-454d-860e-4e3f3305cf5f",
   "metadata": {
    "scrolled": true
   },
   "outputs": [
    {
     "data": {
      "text/html": [
       "<pre style=\"white-space:pre;overflow-x:auto;line-height:normal;font-family:Menlo,'DejaVu Sans Mono',consolas,'Courier New',monospace\">     <span style=\"color: #000080; text-decoration-color: #000080; font-weight: bold\">Processing</span> <span style=\"color: #800080; text-decoration-color: #800080\">100%</span> <span style=\"color: #729c1f; text-decoration-color: #729c1f\">━━━━━━━━━━━━━━━━━━━━━━━━━━━━━━━━━━━━━━━━━━━━━━━━━━━</span> <span style=\"color: #000080; text-decoration-color: #000080; font-weight: bold\">62/62</span> [ <span style=\"color: #808000; text-decoration-color: #808000\">0:01:51</span> &lt; <span style=\"color: #008080; text-decoration-color: #008080\">0:00:00</span> | <span style=\"color: #800000; text-decoration-color: #800000\">0.5</span>  <span style=\"color: #800000; text-decoration-color: #800000\">chunk/s</span> ]\n",
       "<span style=\"color: #000080; text-decoration-color: #000080; font-weight: bold\">Merging (local)</span> <span style=\"color: #800080; text-decoration-color: #800080\">100%</span> <span style=\"color: #729c1f; text-decoration-color: #729c1f\">━━━━━━━━━━━━━━━━━━━━━━━━━━━━━━━━━━━━━━━━━━━━━━━━━━━</span> <span style=\"color: #000080; text-decoration-color: #000080; font-weight: bold\">62/62</span> [ <span style=\"color: #808000; text-decoration-color: #808000\">0:01:51</span> &lt; <span style=\"color: #008080; text-decoration-color: #008080\">0:00:00</span> | <span style=\"color: #800000; text-decoration-color: #800000\">?  </span> <span style=\"color: #800000; text-decoration-color: #800000\">merges/s</span> ]\n",
       "</pre>\n"
      ],
      "text/plain": [
       "     \u001b[1;34mProcessing\u001b[0m \u001b[35m100%\u001b[0m \u001b[38;2;114;156;31m━━━━━━━━━━━━━━━━━━━━━━━━━━━━━━━━━━━━━━━━━━━━━━━━━━━\u001b[0m \u001b[1;34m62/62\u001b[0m [ \u001b[33m0:01:51\u001b[0m < \u001b[36m0:00:00\u001b[0m | \u001b[31m0.5\u001b[0m  \u001b[31mchunk/s\u001b[0m ]\n",
       "\u001b[1;34mMerging (local)\u001b[0m \u001b[35m100%\u001b[0m \u001b[38;2;114;156;31m━━━━━━━━━━━━━━━━━━━━━━━━━━━━━━━━━━━━━━━━━━━━━━━━━━━\u001b[0m \u001b[1;34m62/62\u001b[0m [ \u001b[33m0:01:51\u001b[0m < \u001b[36m0:00:00\u001b[0m | \u001b[31m?  \u001b[0m \u001b[31mmerges/s\u001b[0m ]\n"
      ]
     },
     "metadata": {},
     "output_type": "display_data"
    },
    {
     "data": {
      "text/html": [
       "<pre style=\"white-space:pre;overflow-x:auto;line-height:normal;font-family:Menlo,'DejaVu Sans Mono',consolas,'Courier New',monospace\"></pre>\n"
      ],
      "text/plain": []
     },
     "metadata": {},
     "output_type": "display_data"
    },
    {
     "data": {
      "text/html": [
       "<pre style=\"white-space:pre;overflow-x:auto;line-height:normal;font-family:Menlo,'DejaVu Sans Mono',consolas,'Courier New',monospace\">\n",
       "</pre>\n"
      ],
      "text/plain": [
       "\n"
      ]
     },
     "metadata": {},
     "output_type": "display_data"
    },
    {
     "name": "stdout",
     "output_type": "stream",
     "text": [
      "Runtime: 1.95 minutes\n"
     ]
    }
   ],
   "source": [
    "#cut config: Inside the cut config, each cut is defined in a function.\n",
    "cuts_config = \"../configs/cut_configs/SR_BDT_OneBin.py\"\n",
    "\n",
    "#histo config: (tried other files also)\n",
    "histos_config = \"../configs/histo_configs/SR_minimal.py\"\n",
    "\n",
    "#Since we are using BDT in cuts:(tried other files also)\n",
    "#model_config = \"../configs/BDT_inclusive_10Vars.json\"\n",
    "\n",
    "#Output: (ok)\n",
    "outdir = \"../coffea/skimmed/\"\n",
    "os.makedirs(outdir, exist_ok=True)\n",
    "\n",
    "#Signal: (tried many)\n",
    "fileList = \"../configs/sample_configs/skimmed_signal/skimmed_signal_2018_v11_miniAOD_aEM_rdfSkim_MET200_nJetsG0.json\"\n",
    "analyzer = Analyzer(fileList, histos_config, cuts_config) \n",
    "\n",
    "t1 = time.time()\n",
    "\n",
    "out = analyzer.process(execr='futures')\n",
    "\n",
    "t2 = time.time()\n",
    "print(\"Runtime: {:.2f} minutes\".format((t2-t1)/60))\n",
    "util.save(out,f\"{outdir}/example_signal_skimmed_SR.coffea\")\n",
    "\n",
    "del out, analyzer"
   ]
  },
  {
   "cell_type": "markdown",
   "id": "6ff00635-5e8d-4769-9ca1-96092dec4891",
   "metadata": {},
   "source": [
    "Run the background:"
   ]
  },
  {
   "cell_type": "code",
   "execution_count": 4,
   "id": "9590492a-9491-4444-9c05-d208b6a72129",
   "metadata": {},
   "outputs": [
    {
     "data": {
      "text/html": [
       "<pre style=\"white-space:pre;overflow-x:auto;line-height:normal;font-family:Menlo,'DejaVu Sans Mono',consolas,'Courier New',monospace\">     <span style=\"color: #000080; text-decoration-color: #000080; font-weight: bold\">Processing</span> <span style=\"color: #800080; text-decoration-color: #800080\">100%</span> <span style=\"color: #729c1f; text-decoration-color: #729c1f\">━━━━━━━━━━━━━━━━━━━━━━━━━━━━━━━━━━━━━━━━━━━━━━━━━━━</span> <span style=\"color: #000080; text-decoration-color: #000080; font-weight: bold\">49/49</span> [ <span style=\"color: #808000; text-decoration-color: #808000\">0:03:58</span> &lt; <span style=\"color: #008080; text-decoration-color: #008080\">0:00:00</span> | <span style=\"color: #800000; text-decoration-color: #800000\">0.9</span>  <span style=\"color: #800000; text-decoration-color: #800000\">chunk/s</span> ]\n",
       "<span style=\"color: #000080; text-decoration-color: #000080; font-weight: bold\">Merging (local)</span> <span style=\"color: #800080; text-decoration-color: #800080\">100%</span> <span style=\"color: #729c1f; text-decoration-color: #729c1f\">━━━━━━━━━━━━━━━━━━━━━━━━━━━━━━━━━━━━━━━━━━━━━━━━━━━</span> <span style=\"color: #000080; text-decoration-color: #000080; font-weight: bold\">49/49</span> [ <span style=\"color: #808000; text-decoration-color: #808000\">0:03:58</span> &lt; <span style=\"color: #008080; text-decoration-color: #008080\">0:00:00</span> | <span style=\"color: #800000; text-decoration-color: #800000\">?  </span> <span style=\"color: #800000; text-decoration-color: #800000\">merges/s</span> ]\n",
       "</pre>\n"
      ],
      "text/plain": [
       "     \u001b[1;34mProcessing\u001b[0m \u001b[35m100%\u001b[0m \u001b[38;2;114;156;31m━━━━━━━━━━━━━━━━━━━━━━━━━━━━━━━━━━━━━━━━━━━━━━━━━━━\u001b[0m \u001b[1;34m49/49\u001b[0m [ \u001b[33m0:03:58\u001b[0m < \u001b[36m0:00:00\u001b[0m | \u001b[31m0.9\u001b[0m  \u001b[31mchunk/s\u001b[0m ]\n",
       "\u001b[1;34mMerging (local)\u001b[0m \u001b[35m100%\u001b[0m \u001b[38;2;114;156;31m━━━━━━━━━━━━━━━━━━━━━━━━━━━━━━━━━━━━━━━━━━━━━━━━━━━\u001b[0m \u001b[1;34m49/49\u001b[0m [ \u001b[33m0:03:58\u001b[0m < \u001b[36m0:00:00\u001b[0m | \u001b[31m?  \u001b[0m \u001b[31mmerges/s\u001b[0m ]\n"
      ]
     },
     "metadata": {},
     "output_type": "display_data"
    },
    {
     "data": {
      "text/html": [
       "<pre style=\"white-space:pre;overflow-x:auto;line-height:normal;font-family:Menlo,'DejaVu Sans Mono',consolas,'Courier New',monospace\"></pre>\n"
      ],
      "text/plain": []
     },
     "metadata": {},
     "output_type": "display_data"
    },
    {
     "data": {
      "text/html": [
       "<pre style=\"white-space:pre;overflow-x:auto;line-height:normal;font-family:Menlo,'DejaVu Sans Mono',consolas,'Courier New',monospace\">\n",
       "</pre>\n"
      ],
      "text/plain": [
       "\n"
      ]
     },
     "metadata": {},
     "output_type": "display_data"
    },
    {
     "name": "stdout",
     "output_type": "stream",
     "text": [
      "Runtime: 4.03 minutes\n"
     ]
    }
   ],
   "source": [
    "#Background sample:configs/sample_configs/skimmed_bkg/skimmed_bkg_2018_v7_miniAOD_noNJetCut.json\n",
    "sample_config = \"../configs/sample_configs/skimmed_bkg/skimmed_bkg_2018_v7_miniAOD_noNJetCut.json\"\n",
    "analyzer = Analyzer(sample_config, histos_config, cuts_config) # If using BDT in cuts\n",
    "\n",
    "t1 = time.time()\n",
    "out = analyzer.process(execr='futures')\n",
    "t2 = time.time()\n",
    "\n",
    "print(\"Runtime: {:.2f} minutes\".format((t2-t1)/60))\n",
    "util.save(out,f\"{outdir}/example_bkg_skimmed_SR.coffea\")\n",
    "\n",
    "del out, analyzer\n"
   ]
  },
  {
   "cell_type": "code",
   "execution_count": null,
   "id": "11e612e5-f32f-4584-b75a-08a3ddc3e8f5",
   "metadata": {},
   "outputs": [],
   "source": []
  }
 ],
 "metadata": {
  "kernelspec": {
   "display_name": "Python [conda env:coffea]",
   "language": "python",
   "name": "conda-env-coffea-py"
  },
  "language_info": {
   "codemirror_mode": {
    "name": "ipython",
    "version": 3
   },
   "file_extension": ".py",
   "mimetype": "text/x-python",
   "name": "python",
   "nbconvert_exporter": "python",
   "pygments_lexer": "ipython3",
   "version": "3.8.17"
  }
 },
 "nbformat": 4,
 "nbformat_minor": 5
}
