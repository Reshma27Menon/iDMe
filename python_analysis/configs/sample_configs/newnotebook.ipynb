{
 "cells": [
  {
   "cell_type": "code",
   "execution_count": null,
   "id": "44eb706b-2ac2-41ea-b77b-b5880f850187",
   "metadata": {},
   "outputs": [],
   "source": [
    "%load_ext autoreload\n",
    "%autoreload 2\n",
    "import numpy as np\n",
    "import matplotlib.pyplot as plt\n",
    "from coffea import util\n",
    "from coffea.processor import accumulate\n",
    "import os\n",
    "import re\n",
    "import pandas as pd\n",
    "import hist\n",
    "import matplotlib as mpl\n",
    "import mplhep\n",
    "import sys\n",
    "\n",
    "sys.path.append(\"../analysisTools/\")\n",
    "import plotTools as ptools\n",
    "import utils"
   ]
  },
  {
   "cell_type": "code",
   "execution_count": null,
   "id": "9468213d-f01d-42c8-afcf-8dbef6d48bab",
   "metadata": {},
   "outputs": [],
   "source": [
    "#coffea output file\n",
    "f_bkg = \"../coffea/skimmed/HT_skimmed_WJets_2022.coffea\"\n",
    "\n",
    "#Nested Dictionary:\n",
    "bkg_histo = util.load(f_bkg) [0]"
   ]
  },
  {
   "cell_type": "code",
   "execution_count": 1,
   "id": "022a890e-269d-44dc-bad5-74f5c78e02c0",
   "metadata": {},
   "outputs": [
    {
     "ename": "NameError",
     "evalue": "name 'bkg_histo' is not defined",
     "output_type": "error",
     "traceback": [
      "\u001b[0;31m---------------------------------------------------------------------------\u001b[0m",
      "\u001b[0;31mNameError\u001b[0m                                 Traceback (most recent call last)",
      "Cell \u001b[0;32mIn[1], line 1\u001b[0m\n\u001b[0;32m----> 1\u001b[0m cfd \u001b[38;5;241m=\u001b[39m \u001b[43mbkg_histo\u001b[49m[\u001b[38;5;124m'\u001b[39m\u001b[38;5;124mcutflow_cts\u001b[39m\u001b[38;5;124m'\u001b[39m][\u001b[38;5;124m'\u001b[39m\u001b[38;5;124mbkg_2022_WJets_WJetsToLNu6\u001b[39m\u001b[38;5;124m'\u001b[39m][\u001b[38;5;124m'\u001b[39m\u001b[38;5;124mall\u001b[39m\u001b[38;5;124m'\u001b[39m]\n\u001b[1;32m      2\u001b[0m \u001b[38;5;28mprint\u001b[39m(\u001b[38;5;124m\"\u001b[39m\u001b[38;5;124mcutflow_cts:\u001b[39m\u001b[38;5;124m\"\u001b[39m,cfd)\n\u001b[1;32m      3\u001b[0m effd \u001b[38;5;241m=\u001b[39m bkg_histo[\u001b[38;5;124m'\u001b[39m\u001b[38;5;124mcutflow\u001b[39m\u001b[38;5;124m'\u001b[39m][\u001b[38;5;124m'\u001b[39m\u001b[38;5;124mbkg_2022_WJets_WJetsToLNu6\u001b[39m\u001b[38;5;124m'\u001b[39m][\u001b[38;5;124m'\u001b[39m\u001b[38;5;124mall\u001b[39m\u001b[38;5;124m'\u001b[39m]\n",
      "\u001b[0;31mNameError\u001b[0m: name 'bkg_histo' is not defined"
     ]
    }
   ],
   "source": [
    "cfd = bkg_histo['cutflow_cts']['bkg_2022_WJets_WJetsToLNu6']['all']\n",
    "print(\"cutflow_cts:\",cfd)\n",
    "effd = bkg_histo['cutflow']['bkg_2022_WJets_WJetsToLNu6']['all']\n",
    "print(\"cutflow_fficiency:\",effd)\n",
    "\n",
    "\n",
    "\n",
    "\n",
    "\n",
    "#total_bkg_counts= weighted events/raw events. Represents normalization factor.\n",
    "total_bkg_counts_arr=[]\n",
    "total_bkg_counts_arr_sum=0\n",
    "\n",
    "for k in bkg_histo['cutflow'].keys():   \n",
    "    \n",
    "    total_bkg_counts = bkg_histo['cutflow_cts'][k]['all'] / bkg_histo['cutflow'][k]['all']\n",
    "    print(f'\\nxsec * lumi = {total_bkg_counts} for ', k)\n",
    "    total_bkg_counts_arr.append(total_bkg_counts)\n",
    "    \n",
    "total_bkg_counts_arr_sum=sum(total_bkg_counts_arr)\n",
    "\n",
    "print(f'\\nxsec * lumi = {total_bkg_counts_arr_sum} for the sub process WJets')\n",
    "\n",
    "\n",
    "    \n",
    "\n",
    "    "
   ]
  },
  {
   "cell_type": "code",
   "execution_count": null,
   "id": "6e8fe55c-7fc1-4395-a4bb-203f77fc11a8",
   "metadata": {},
   "outputs": [],
   "source": []
  }
 ],
 "metadata": {
  "kernelspec": {
   "display_name": "Python [conda env:coffea]",
   "language": "python",
   "name": "conda-env-coffea-py"
  },
  "language_info": {
   "codemirror_mode": {
    "name": "ipython",
    "version": 3
   },
   "file_extension": ".py",
   "mimetype": "text/x-python",
   "name": "python",
   "nbconvert_exporter": "python",
   "pygments_lexer": "ipython3",
   "version": "3.8.17"
  }
 },
 "nbformat": 4,
 "nbformat_minor": 5
}
